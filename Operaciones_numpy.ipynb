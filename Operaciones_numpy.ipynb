{
  "nbformat": 4,
  "nbformat_minor": 0,
  "metadata": {
    "colab": {
      "provenance": [],
      "authorship_tag": "ABX9TyMPQyfE6cXEHMQHM4RJij3J",
      "include_colab_link": true
    },
    "kernelspec": {
      "name": "python3",
      "display_name": "Python 3"
    },
    "language_info": {
      "name": "python"
    }
  },
  "cells": [
    {
      "cell_type": "markdown",
      "metadata": {
        "id": "view-in-github",
        "colab_type": "text"
      },
      "source": [
        "<a href=\"https://colab.research.google.com/github/trinexus2002/CD_databits/blob/main/Operaciones_numpy.ipynb\" target=\"_parent\"><img src=\"https://colab.research.google.com/assets/colab-badge.svg\" alt=\"Open In Colab\"/></a>"
      ]
    },
    {
      "cell_type": "markdown",
      "source": [
        "A continuación algunas de las funciones más utilizados en NumPy (siendo X un ``ndarray``):\n",
        "    - Suma: np.sum(X)\n",
        "    - Raíz cuadrada: np.sqrt(X)\n",
        "    - Promedio: np.mean(X)\n",
        "    - Varianza: np.var(X)\n",
        "    - Ordenamiento: np.sort(X)\n",
        "    - Maximo, Minimo: np.max(X), np.min(X)\n",
        "    - Indice de posición del valor Maximo: np.argmax(X)\n",
        "    - Indice de posición del valor Minimo: np.argmin(X)\n",
        "\n",
        "    Usando los aleatorios de numpy vamos a agregarle a cada uno de los elementos"
      ],
      "metadata": {
        "id": "ccKNyVGaykZY"
      }
    },
    {
      "cell_type": "code",
      "execution_count": 9,
      "metadata": {
        "colab": {
          "base_uri": "https://localhost:8080/"
        },
        "id": "CPOdh_IoyUUz",
        "outputId": "4e1a590d-5ffe-4845-9739-b4d6a56ec3c3"
      },
      "outputs": [
        {
          "output_type": "stream",
          "name": "stdout",
          "text": [
            "[ 0  1  2  3  4  5  6  7  8  9 10 11 12 13 14 15 16 17 18 19 20 21 22 23\n",
            " 24 25 26 27 28 29 30 31 32 33 34 35 36 37 38 39 40 41 42 43 44 45 46 47\n",
            " 48 49 50 51 52 53 54 55 56 57 58 59 60 61 62 63 64 65 66 67 68 69 70 71\n",
            " 72 73 74 75 76 77 78 79 80 81 82 83 84 85 86 87 88 89 90 91 92 93 94 95\n",
            " 96 97 98 99]\n",
            "[1 4 2 1 4 4 4 4 2 4 2 3 1 4 3 1 1 1 3 2 3 4 4 3 1 2 2 2 2 1 2 1 4 1 4 2 3\n",
            " 4 4 1 3 4 1 2 4 2 4 4 3 4 1 2 2 2 4 1 4 3 1 4 4 3 4 3 4 1 3 1 1 1 2 2 3 1\n",
            " 1 2 4 1 2 3 3 4 1 2 2 4 2 2 4 3 4 4 3 3 4 1 3 4 2 1]\n",
            "[  1   5   4   4   8   9  10  11  10  13  12  14  13  17  17  16  17  18\n",
            "  21  21  23  25  26  26  25  27  28  29  30  30  32  32  36  34  38  37\n",
            "  39  41  42  40  43  45  43  45  48  47  50  51  51  53  51  53  54  55\n",
            "  58  56  60  60  59  63  64  64  66  66  68  66  69  68  69  70  72  73\n",
            "  75  74  75  77  80  78  80  82  83  85  83  85  86  89  88  89  92  92\n",
            "  94  95  95  96  98  96  99 101 100 100]\n"
          ]
        }
      ],
      "source": [
        "import numpy as np\n",
        "\n",
        "x = np.array(list(range(100)))\n",
        "print(x)\n",
        "np.random.seed(0)\n",
        "A = np.random.randint(1,5,100)\n",
        "print(A)\n",
        "print(x + A)"
      ]
    }
  ]
}