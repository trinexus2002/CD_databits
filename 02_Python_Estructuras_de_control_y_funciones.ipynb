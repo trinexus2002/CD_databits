{
  "cells": [
    {
      "cell_type": "markdown",
      "metadata": {
        "id": "view-in-github",
        "colab_type": "text"
      },
      "source": [
        "<a href=\"https://colab.research.google.com/github/trinexus2002/CD_databits/blob/main/02_Python_Estructuras_de_control_y_funciones.ipynb\" target=\"_parent\"><img src=\"https://colab.research.google.com/assets/colab-badge.svg\" alt=\"Open In Colab\"/></a>"
      ]
    },
    {
      "cell_type": "markdown",
      "source": [
        "\n",
        "<div style=\"text-align: center; line-height: 0; padding-top: 9px;\">\n",
        "  <img src=\"https://storage.googleapis.com/datasets-academy/public-img/notebooks/headers/databits-header-notebook.png\" alt=\"Databricks Learning\" style=\"width: 100%;\">\n",
        "</div>"
      ],
      "metadata": {
        "id": "XrIYsn5bmseb",
        "application/vnd.databricks.v1+cell": {
          "title": "",
          "showTitle": false,
          "inputWidgets": {},
          "nuid": "67f13b73-8476-49be-8fcc-fe7584b43a53"
        }
      }
    },
    {
      "cell_type": "markdown",
      "source": [
        " # <center>  Estructuras de control y funciones </center>\n",
        "\n",
        "## Descripción\n",
        "En esta sección de aborda el uso de las estructuras de control: condicionales e iterativas. Además, la sintaxis y creación de funciones.\n",
        "\n",
        "## Contenido\n",
        "\n",
        "* Estructuras de control condicionales e iterativas\n",
        "* Funciones y parámetros\n",
        "\n",
        "\n",
        "## Audiencia\n",
        "\n",
        "* Audiencia primaria: Desarrolladores, Ingenieros y Científicos de datos y Analistas de BI\n",
        "\n",
        "## Requisitos previos\n",
        "\n",
        "* Conocimientos básicos de programación\n",
        "* Navegador web: Chrome\n",
        "\n",
        "<img alt=\"Caution\" title=\"Caution\" style=\"vertical-align: text-bottom; position: relative; height:1.3em; top:0.0em\" src=\"https://storage.googleapis.com/datasets-academy/public-img/notebooks/icons/danger.png\"/> **Disclaimer:** Este material ha sido preparado por el equipo de **handytec Academy®**. Se prohibe la publicación o reproducción de este material sin previa autorización de **handytec Academy®** - 2022 Todos los derechos reservados."
      ],
      "metadata": {
        "application/vnd.databricks.v1+cell": {
          "title": "",
          "showTitle": false,
          "inputWidgets": {},
          "nuid": "6a0efa71-a64b-42fe-888b-d32da8627e76"
        },
        "id": "Ttfab7eCKH_A"
      }
    },
    {
      "cell_type": "markdown",
      "source": [
        "## 1. Estructuras de control condicionales\n",
        "\n",
        "Evaluan condiciones (expresiones booleanas) y ejecutan instrucciones dependiendo de esta evaluación."
      ],
      "metadata": {
        "id": "duaXZOV4AHlK",
        "application/vnd.databricks.v1+cell": {
          "title": "",
          "showTitle": false,
          "inputWidgets": {},
          "nuid": "2ee85baa-230b-4fa0-aa7a-bdbde6fe078a"
        }
      }
    },
    {
      "cell_type": "markdown",
      "source": [
        "### 1.1  Estructura if - else.\n",
        "A continuación, se presenta la estructura clásica de código para la estructura en mención. Note las siguientes particularidades:\n",
        "* **Dos puntos `:`** después de la expresión booleana para dar inicio al bloque de instrucciones\n",
        "* **Indentación (``tab``)** para mostrar la estrutura jerárquica de las órdenes a ejecutar\n",
        "* Todas las instrucciones en ``bloqueInstrucciones1`` y ``bloqueInstrucciones1`` se ejecutan secuencialmente.\n",
        "\n",
        "```python\n",
        "if expresionBooleana1:\n",
        "  bloqueInstrucciones1\n",
        "else:\n",
        "  bloqueInstrucciones2\n",
        "```"
      ],
      "metadata": {
        "id": "at_DvorGmOr7",
        "application/vnd.databricks.v1+cell": {
          "title": "",
          "showTitle": false,
          "inputWidgets": {},
          "nuid": "7342e5f0-ebee-4e4f-804a-be5d7e799b85"
        }
      }
    },
    {
      "cell_type": "code",
      "source": [
        "# Número par o impar \n",
        "# Definición: Un número es par cuando el residuo de su division entre 2 (módulo), es igual a cero \n",
        "\n",
        "numero = 19\n",
        "\n",
        "if numero % 2 == 0:\n",
        "  print(numero, 'es PAR')\n",
        "else:\n",
        "  print(numero, 'es IMPAR')"
      ],
      "metadata": {
        "id": "d0F846zOp4Tl",
        "application/vnd.databricks.v1+cell": {
          "title": "",
          "showTitle": false,
          "inputWidgets": {},
          "nuid": "5b4b3cd7-ff85-4b41-9bb7-bccc32f42767"
        },
        "colab": {
          "base_uri": "https://localhost:8080/"
        },
        "outputId": "128d5865-63e0-4519-fb98-39a141cbef89"
      },
      "outputs": [
        {
          "output_type": "stream",
          "name": "stdout",
          "text": [
            "19 es IMPAR\n"
          ]
        }
      ],
      "execution_count": null
    },
    {
      "cell_type": "markdown",
      "source": [
        "### 1.2  Estructura if - elif - else\n",
        "¿Qué hacer si tenemos más condiciones a evaluar?\n",
        "* **`elif`:** abreviación de la expresión `else if`, comunmente usada en otros lenguajes de programación\n",
        "* El operador **`elif`** puede emplearse para evaluar expresiones booleanas adicionales entre los operadores `if` y `else`\n",
        "* El código evalua secuencialmente las expresiones booleanas. Si ninguna es verdadera (`True`), se ejecuta el `bloqueDefault`\n",
        "\n",
        "\n",
        "\n",
        "\n",
        "```python\n",
        "if   expresionBooleana1:\n",
        "     bloqueInstrucciones1\n",
        "elif expresionBooleana2:\n",
        "     bloqueInstrucciones2\n",
        "elif expresionBooleana3:\n",
        "     bloqueInstrucciones3\n",
        "...\n",
        "else:\n",
        "     bloqueDefault\n",
        "```"
      ],
      "metadata": {
        "id": "kI5I5YmAre12",
        "application/vnd.databricks.v1+cell": {
          "title": "",
          "showTitle": false,
          "inputWidgets": {},
          "nuid": "6b2141c9-999b-465e-8bf0-6b18050fa483"
        }
      }
    },
    {
      "cell_type": "code",
      "source": [
        "# Determinar el segmento del cliente de acuerdo a la edad del usuario:\n",
        "# 0 - 10 años es el segmento 1, \n",
        "# 11 - 60 años es el segmento 2\n",
        "# mayor a 60 años es el segmento 3\n",
        "\n",
        "edad = 8\n",
        "\n",
        "if edad >= 0 and edad <= 10:\n",
        "  segmento = 1\n",
        "elif edad >= 11 and edad <= 60:\n",
        "  segmento = 2\n",
        "else:\n",
        "  segmento = 3\n",
        "    \n",
        "print('Edad:', edad, 'Segmento:', segmento)"
      ],
      "metadata": {
        "id": "g5pqCZyXreXm",
        "application/vnd.databricks.v1+cell": {
          "title": "",
          "showTitle": false,
          "inputWidgets": {},
          "nuid": "0fe7a0c6-1cdd-46c7-a522-9f4d06c85421"
        },
        "colab": {
          "base_uri": "https://localhost:8080/"
        },
        "outputId": "cd7cc5a9-06b3-4dc9-ac55-0bd39dde9197"
      },
      "outputs": [
        {
          "output_type": "stream",
          "name": "stdout",
          "text": [
            "Edad: 8 Segmento: 1\n"
          ]
        }
      ],
      "execution_count": 3
    },
    {
      "cell_type": "markdown",
      "source": [
        "### 1.3 Manejo de listas con estructuras condicionales\n",
        "En el siguiente ejemplo, utilizamos el operador **`in`** para crear una expresión booleana en base a los elementos de la lista `amigos`"
      ],
      "metadata": {
        "application/vnd.databricks.v1+cell": {
          "title": "",
          "showTitle": false,
          "inputWidgets": {},
          "nuid": "70933047-8c8b-49d9-9435-4f7b4205c6c8"
        },
        "id": "D3mF3VmFKH_E"
      }
    },
    {
      "cell_type": "code",
      "source": [
        "# PERTENENCIA\n",
        "amigos = ['Kan', 'Ely','Pedro', 'Ali', 'Manuela']\n",
        "\n",
        "if 'Ely' in amigos:\n",
        "  print(\"Ely si vendra a la reunion!\")\n",
        "else:\n",
        "  print('No vendrá')"
      ],
      "metadata": {
        "id": "OOvuGc0e65xL",
        "application/vnd.databricks.v1+cell": {
          "title": "",
          "showTitle": false,
          "inputWidgets": {},
          "nuid": "d91973ac-1ae9-43ac-9e78-0e8b987ad754"
        },
        "colab": {
          "base_uri": "https://localhost:8080/"
        },
        "outputId": "b1ee595e-e5ec-448a-e723-77ff358413dc"
      },
      "outputs": [
        {
          "output_type": "stream",
          "name": "stdout",
          "text": [
            "Ely si vendra a la reunion!\n"
          ]
        }
      ],
      "execution_count": null
    },
    {
      "cell_type": "markdown",
      "source": [
        "> **Ejercicio 1:** Realizar las siguientes ejecuciones de código en base al siguiente enunciado:\n",
        "\n",
        "Categorizar el nivel de ingresos de acuerdo al monto y guardar el resultado de cada evaluación en una nueva variable llamada `nivel`, en base a las siguientes condiciones:\n",
        "- bajo: si los ingresos son menores o iguales a 11 mil anuales\n",
        "- medio: si los ingresos son mayores a 11 mil y menor que 22 mil anuales\n",
        "- alto: si los ingresos son mayores a 22 mil anuales\n",
        "\n",
        "Finalmente, imprimir las variables `ingresos` y `nivel`\n",
        "Si se genera el ingreso de un elemento no valido solicitar al usuario ingresar un nuevo elemento."
      ],
      "metadata": {
        "application/vnd.databricks.v1+cell": {
          "title": "",
          "showTitle": false,
          "inputWidgets": {},
          "nuid": "2648c8ee-f92c-4c3b-bea5-3d39e7e90d89"
        },
        "id": "JTOzikViKH_G"
      }
    },
    {
      "cell_type": "code",
      "source": [
        "# ingresos = 10000\n",
        "\n",
        "#Su código aquí\n",
        "# Solicitar variable\n",
        "print(\"ingreso \")\n",
        "ingresos = input()\n",
        "try:  # Atrapa errores en caso que no haya ingresado un numero\n",
        "  ingresos = float(ingresos)\n",
        "  if ingresos <= 11000:   # Menor o igual a 11000 el ingreso\n",
        "    nivel = \"bajo\"\n",
        "  elif ingresos > 11000 and ingresos <= 22000:  # De 11k a 22k\n",
        "    nivel = \"medio\"\n",
        "  elif ingresos > 22000:  # Mayor a 22k \n",
        "    nivel = \"alto\"\n",
        "  print(ingresos, \"es un nivel \", nivel)\n",
        "except:\n",
        "  print(\"Por favor ingrese un valor numerico\")  # Mensaje en caso de no ser numero"
      ],
      "metadata": {
        "application/vnd.databricks.v1+cell": {
          "title": "",
          "showTitle": false,
          "inputWidgets": {},
          "nuid": "e9aa6f41-2bb6-4e02-898b-84ca519219d7"
        },
        "id": "OAC5e6vUKH_G",
        "colab": {
          "base_uri": "https://localhost:8080/"
        },
        "outputId": "82e804f3-50bf-4ca1-b446-9939c1a0b2a9"
      },
      "outputs": [
        {
          "output_type": "stream",
          "name": "stdout",
          "text": [
            "ingreso \n",
            "15000\n",
            "15000.0 es un nivel  medio\n"
          ]
        }
      ],
      "execution_count": 9
    },
    {
      "cell_type": "markdown",
      "source": [
        "### Solución"
      ],
      "metadata": {
        "id": "pdJy-2L4KXVo"
      }
    },
    {
      "cell_type": "code",
      "source": [
        "ingresos = 10000\n",
        "\n",
        "print('Resultado:')\n",
        "if ingresos <=11000:\n",
        "  nivel = 'bajo'\n",
        "else:\n",
        "  nivel = 'alto'\n",
        "  \n",
        "print(ingresos, nivel)"
      ],
      "metadata": {
        "application/vnd.databricks.v1+cell": {
          "title": "",
          "showTitle": false,
          "inputWidgets": {},
          "nuid": "f9874269-ce6d-4dae-91ed-722171f0f59d"
        },
        "colab": {
          "base_uri": "https://localhost:8080/"
        },
        "id": "XywOLDn2KH_G",
        "outputId": "f5cfb899-e726-454e-e256-98832a80666e"
      },
      "outputs": [
        {
          "output_type": "stream",
          "name": "stdout",
          "text": [
            "Resultado:\n",
            "10000 bajo\n"
          ]
        }
      ],
      "execution_count": null
    },
    {
      "cell_type": "markdown",
      "source": [
        "## 2. Estructuras de control iterativas\n",
        "\n",
        "* Las estructuras iterativas ejecutan una misma porción de código de manera repetida (bucles).\n",
        "* La iteración es el concepto asociado a cada repetición de las instrucciones de un bucle.\n",
        "\n",
        "### 2.1 Operador `while`   \n",
        "Repite un bloque de instrucciones hasta cumplir una condición especificada por el usuario.\n",
        "* **Requiere inicialización:** Creamos un objeto que controlará la condición de parada del bucle. En este caso es `contador`\n",
        "* El objeto inicializado actualiza su valor en cada iteración"
      ],
      "metadata": {
        "id": "xNkLRxBtASgf",
        "application/vnd.databricks.v1+cell": {
          "title": "",
          "showTitle": false,
          "inputWidgets": {},
          "nuid": "733e2c78-865e-4fc4-ba69-210256f71902"
        }
      }
    },
    {
      "cell_type": "code",
      "source": [
        "# WHILE\n",
        "# Determina que la repetición finaliza cuando el contador llega a ser menor igual a 3\n",
        "# En cada iteración el contador es impreso y se procede a sumarle una unidad\n",
        "\n",
        "contador = 0\n",
        "\n",
        "while contador <= 3:\n",
        "  print(contador)\n",
        "  contador += 1        # contador = contador + 1"
      ],
      "metadata": {
        "id": "VyTiTauguP6J",
        "application/vnd.databricks.v1+cell": {
          "title": "",
          "showTitle": false,
          "inputWidgets": {},
          "nuid": "932f503a-c737-49b8-95f2-69eacc5f3ec0"
        },
        "colab": {
          "base_uri": "https://localhost:8080/"
        },
        "outputId": "ceebaa43-9fc1-40cf-8fdb-bfba28bf67e6"
      },
      "outputs": [
        {
          "output_type": "stream",
          "name": "stdout",
          "text": [
            "0\n",
            "1\n",
            "2\n",
            "3\n"
          ]
        }
      ],
      "execution_count": null
    },
    {
      "cell_type": "markdown",
      "source": [
        "### 2.2 Operador `for`   \n",
        "El operador `for` se diferencia del operador `while` en que el usuario debe especificar explicitamente el número de iteraciones. Para ello, se emplea generalmente la función **`range()`**\n",
        "\n",
        "#### Función range(x):\n",
        "\n",
        "*   **```range (x)```**:\n",
        "    secuencia de valores **enteros** desde 0 hasta x (**excluyente**) con incremento/step de 1.\n",
        "*   **```range (inicio, fin, step)```**: \n",
        "    secuencia de valores **enteros** desde inicio hasta fin (**excluyente**) con incremento del valor de **step**."
      ],
      "metadata": {
        "id": "Ee87SIuozno3",
        "application/vnd.databricks.v1+cell": {
          "title": "",
          "showTitle": false,
          "inputWidgets": {},
          "nuid": "3faf1d6a-ba74-4568-9835-e214e74f0e9a"
        }
      }
    },
    {
      "cell_type": "code",
      "source": [
        "#Podemos observar el resultado de la función range con la ayuda de una lista\n",
        "list(range(10))"
      ],
      "metadata": {
        "application/vnd.databricks.v1+cell": {
          "title": "",
          "showTitle": false,
          "inputWidgets": {},
          "nuid": "38a695b8-f394-41d1-9630-905f925d8e2c"
        },
        "colab": {
          "base_uri": "https://localhost:8080/"
        },
        "id": "Ze37FuIgKH_I",
        "outputId": "be8d9006-55a7-46a3-c8d1-2188153f3076"
      },
      "outputs": [
        {
          "output_type": "execute_result",
          "data": {
            "text/plain": [
              "[0, 1, 2, 3, 4, 5, 6, 7, 8, 9]"
            ]
          },
          "metadata": {},
          "execution_count": 7
        }
      ],
      "execution_count": null
    },
    {
      "cell_type": "code",
      "source": [
        "list(range(1,10,2))"
      ],
      "metadata": {
        "application/vnd.databricks.v1+cell": {
          "title": "",
          "showTitle": false,
          "inputWidgets": {},
          "nuid": "788048ef-1159-400a-9624-fd1c14161600"
        },
        "colab": {
          "base_uri": "https://localhost:8080/"
        },
        "id": "Ll_p5BtSKH_I",
        "outputId": "df739d0c-3d49-4934-e121-30dae225c020"
      },
      "outputs": [
        {
          "output_type": "execute_result",
          "data": {
            "text/plain": [
              "[1, 3, 5, 7, 9]"
            ]
          },
          "metadata": {},
          "execution_count": 8
        }
      ],
      "execution_count": null
    },
    {
      "cell_type": "markdown",
      "source": [
        "#### ``for``\n",
        "* El operador `for` crea un objeto **iterador** que sirve de guía dentro del bloque de código. En este caso el iterador se denomina `numero`\n",
        "* El iterador toma los valores de la función `range()`"
      ],
      "metadata": {
        "application/vnd.databricks.v1+cell": {
          "title": "",
          "showTitle": false,
          "inputWidgets": {},
          "nuid": "ee51935d-6201-4953-8a69-140a2d2b6a6e"
        },
        "id": "xftHZ1e2KH_I"
      }
    },
    {
      "cell_type": "code",
      "source": [
        "for i in range(1,17,5):\n",
        "  print('Python #', i)"
      ],
      "metadata": {
        "id": "a_d_Oz8n1ylu",
        "application/vnd.databricks.v1+cell": {
          "title": "",
          "showTitle": false,
          "inputWidgets": {},
          "nuid": "1e152419-00cc-4211-9e83-5b67f0a5916d"
        },
        "colab": {
          "base_uri": "https://localhost:8080/"
        },
        "outputId": "a78f0aa3-1b82-49d6-8e6c-520c85c68525"
      },
      "outputs": [
        {
          "output_type": "stream",
          "name": "stdout",
          "text": [
            "Python # 1\n",
            "Python # 6\n",
            "Python # 11\n",
            "Python # 16\n"
          ]
        }
      ],
      "execution_count": null
    },
    {
      "cell_type": "markdown",
      "source": [
        "#### Manejo de listas con estructuras de control iterativas\n",
        "Podemos iterar utilizando cada elemento de una lista"
      ],
      "metadata": {
        "application/vnd.databricks.v1+cell": {
          "title": "",
          "showTitle": false,
          "inputWidgets": {},
          "nuid": "0666012c-647a-4f7e-8a14-70f358abc067"
        },
        "id": "kRpHGTvYKH_I"
      }
    },
    {
      "cell_type": "code",
      "source": [
        "#Cuadrado de elementos de una lista (numérica)\n",
        "L = [2, 3, 4, 5]\n",
        "\n",
        "for i in L:\n",
        "  print(i*i)"
      ],
      "metadata": {
        "id": "2McueTJqCW-3",
        "application/vnd.databricks.v1+cell": {
          "title": "",
          "showTitle": false,
          "inputWidgets": {},
          "nuid": "b2d34a8e-88fd-492a-b0fc-ec7deca2fecc"
        },
        "colab": {
          "base_uri": "https://localhost:8080/"
        },
        "outputId": "be3655c9-05ec-4832-bc49-3968b812a8cd"
      },
      "outputs": [
        {
          "output_type": "stream",
          "name": "stdout",
          "text": [
            "4\n",
            "9\n",
            "16\n",
            "25\n"
          ]
        }
      ],
      "execution_count": null
    },
    {
      "cell_type": "markdown",
      "source": [
        "#### Iterar con listas por comprensión\n",
        "De forma alternativa, se emplean las **listas por comprensión** para realizar operaciones sobre los elementos de una lista\n",
        "* Mejora la legibilidad de nuestro código\n",
        "* Las órdenes de la lista por comprensión deben estar entre corchetes `[  ]`\n",
        "\n",
        "**Pasos**\n",
        "1. Especificamos la operación a realizar sobre los elementos de la lista referenciados por medio del iterador ``i``\n",
        "2. Referenciar el iterador a la lista: `i in L`"
      ],
      "metadata": {
        "application/vnd.databricks.v1+cell": {
          "title": "",
          "showTitle": false,
          "inputWidgets": {},
          "nuid": "2ec20f5c-a0e0-4645-a3c9-ddf0e4650a6b"
        },
        "id": "UkAeC8sbKH_J"
      }
    },
    {
      "cell_type": "code",
      "source": [
        "print(L)"
      ],
      "metadata": {
        "application/vnd.databricks.v1+cell": {
          "title": "",
          "showTitle": false,
          "inputWidgets": {},
          "nuid": "e9f2cca1-e70e-4f59-af35-d16e51625237"
        },
        "colab": {
          "base_uri": "https://localhost:8080/"
        },
        "id": "tFNo9cUbKH_J",
        "outputId": "1045068e-44dc-4c90-8a23-657cd62479c9"
      },
      "outputs": [
        {
          "output_type": "stream",
          "name": "stdout",
          "text": [
            "[2, 3, 4, 5]\n"
          ]
        }
      ],
      "execution_count": null
    },
    {
      "cell_type": "code",
      "source": [
        "#Cuadrado de los elementos de una lista con Listas por comprensión\n",
        "[i*i for i in L]"
      ],
      "metadata": {
        "application/vnd.databricks.v1+cell": {
          "title": "",
          "showTitle": false,
          "inputWidgets": {},
          "nuid": "66998bb0-f82e-4345-9d67-638aff1d64b9"
        },
        "colab": {
          "base_uri": "https://localhost:8080/"
        },
        "id": "SPzNrDjWKH_J",
        "outputId": "01d34806-3b86-4e4d-bf50-efeebfb26522"
      },
      "outputs": [
        {
          "output_type": "execute_result",
          "data": {
            "text/plain": [
              "[4, 9, 16, 25]"
            ]
          },
          "metadata": {},
          "execution_count": 12
        }
      ],
      "execution_count": null
    },
    {
      "cell_type": "markdown",
      "source": [
        "Adicionalmente, se puede añadir condiciones para que la operación se realice solo sobre algunos elementos de la lista\n",
        "* Utilizamos el operador ``if`` para especificar a qué elementos de la lista `L` se aplicara la operación"
      ],
      "metadata": {
        "application/vnd.databricks.v1+cell": {
          "title": "",
          "showTitle": false,
          "inputWidgets": {},
          "nuid": "9b164048-bce1-497f-859b-543ba2a9b94e"
        },
        "id": "CCt9Bu-CKH_J"
      }
    },
    {
      "cell_type": "code",
      "source": [
        "[i*i for i in L if i>3]"
      ],
      "metadata": {
        "application/vnd.databricks.v1+cell": {
          "title": "",
          "showTitle": false,
          "inputWidgets": {},
          "nuid": "813108b3-73ce-46a1-8409-a986fb5d39c1"
        },
        "colab": {
          "base_uri": "https://localhost:8080/"
        },
        "id": "py4GoJDYKH_J",
        "outputId": "511acefb-c3a1-4b00-c3c1-2cadc232654a"
      },
      "outputs": [
        {
          "output_type": "execute_result",
          "data": {
            "text/plain": [
              "[16, 25]"
            ]
          },
          "metadata": {},
          "execution_count": 13
        }
      ],
      "execution_count": null
    },
    {
      "cell_type": "markdown",
      "source": [
        "Si es necesario evaluar más condiciones:\n",
        "* Cambiamos la posición del operador `if`\n",
        "* Añadimos el operador `else` acompañado de la acción a realizar"
      ],
      "metadata": {
        "application/vnd.databricks.v1+cell": {
          "title": "",
          "showTitle": false,
          "inputWidgets": {},
          "nuid": "dd3d275b-4534-4205-8a99-1a5b3c581b73"
        },
        "id": "AxNxXy-_KH_K"
      }
    },
    {
      "cell_type": "code",
      "source": [
        "print(L)\n",
        "print([i*i if i>3 else 0 for i in L])"
      ],
      "metadata": {
        "application/vnd.databricks.v1+cell": {
          "title": "",
          "showTitle": false,
          "inputWidgets": {},
          "nuid": "0a619d26-1e10-4c08-b0c4-b6e34cfb84bd"
        },
        "colab": {
          "base_uri": "https://localhost:8080/"
        },
        "id": "OZ9Bfj8LKH_K",
        "outputId": "68dd079a-453b-48fd-b866-a1bf8ffbbf13"
      },
      "outputs": [
        {
          "output_type": "stream",
          "name": "stdout",
          "text": [
            "[2, 3, 4, 5]\n",
            "[0, 0, 16, 25]\n"
          ]
        }
      ],
      "execution_count": null
    },
    {
      "cell_type": "markdown",
      "source": [
        ">**Ejercicio 2:** \n",
        "\n",
        "Crear una lista por comprensión llamada `enteros` en un rango de valores del 0 al 99, si los elementos en el listado son divisibles para 5. Finalmente imprimir el listado."
      ],
      "metadata": {
        "application/vnd.databricks.v1+cell": {
          "title": "",
          "showTitle": false,
          "inputWidgets": {},
          "nuid": "5d679c6b-61fe-4e51-85de-dfe8c2cce39d"
        },
        "id": "uds6Hqr0KH_K"
      }
    },
    {
      "cell_type": "code",
      "source": [
        "#Su código aquí"
      ],
      "metadata": {
        "application/vnd.databricks.v1+cell": {
          "title": "",
          "showTitle": false,
          "inputWidgets": {},
          "nuid": "310eb75c-fe58-43f2-8518-ce14cae4dd6a"
        },
        "id": "coV8E8fVKH_K"
      },
      "outputs": [],
      "execution_count": null
    },
    {
      "cell_type": "markdown",
      "source": [
        "### Solución"
      ],
      "metadata": {
        "id": "xI8ZIUEQKdNq"
      }
    },
    {
      "cell_type": "code",
      "source": [
        "print('Resultado:')\n",
        "enteros = [valor for valor in range(0, 100) if valor % 5 == 0]\n",
        "print(enteros)"
      ],
      "metadata": {
        "application/vnd.databricks.v1+cell": {
          "title": "",
          "showTitle": false,
          "inputWidgets": {},
          "nuid": "8ae26177-6671-4f96-8bb5-b6d76ad14ab5"
        },
        "colab": {
          "base_uri": "https://localhost:8080/"
        },
        "id": "yPifl5cbKH_K",
        "outputId": "2de75e78-b256-4b9f-ec3d-df8c7748948e"
      },
      "outputs": [
        {
          "output_type": "stream",
          "name": "stdout",
          "text": [
            "Resultado:\n",
            "[0, 5, 10, 15, 20, 25, 30, 35, 40, 45, 50, 55, 60, 65, 70, 75, 80, 85, 90, 95]\n"
          ]
        }
      ],
      "execution_count": null
    },
    {
      "cell_type": "markdown",
      "source": [
        "## 3. Funciones y parámetros\n",
        "\n",
        "Una *función* es un bloque de código reutilizable que realiza una tarea específica. Las funciones están siempre presentes en Python, ya sea por sí mismas o en objetos.\n",
        "\n",
        "Hemos visto funciones y métodos Python incorporados. Por ejemplo, `len` y` print` son funciones nativas de Python. \n",
        "\n",
        "### 3.1 Métodos\n",
        "\n",
        "Una función que pertenece a un objeto se llama *método*. Un ejemplo de esto es `append` en una lista **existente**. En otras palabras, un *método* es una función en una **instancia** de un tipo de objeto (también llamado **clase**, aquí el tipo de lista)."
      ],
      "metadata": {
        "collapsed": true,
        "id": "3pT4pwNhla-_",
        "application/vnd.databricks.v1+cell": {
          "title": "",
          "showTitle": false,
          "inputWidgets": {},
          "nuid": "600545fd-1dc9-4f7b-abbb-19d4e2213aab"
        }
      }
    },
    {
      "cell_type": "code",
      "source": [
        "numeros_flotantes = [2.45, 0.4, 0.345]\n",
        "numeros_flotantes.append(56.7) \n",
        "numeros_flotantes"
      ],
      "metadata": {
        "application/vnd.databricks.v1+cell": {
          "title": "",
          "showTitle": false,
          "inputWidgets": {},
          "nuid": "b95c76d1-b4f1-4f10-b7d1-86325205b37b"
        },
        "colab": {
          "base_uri": "https://localhost:8080/"
        },
        "id": "hKiOCxAuKH_K",
        "outputId": "c7c1fafd-2f33-4e11-aa3d-252c3e7f7341"
      },
      "outputs": [
        {
          "output_type": "execute_result",
          "data": {
            "text/plain": [
              "[2.45, 0.4, 0.345, 56.7]"
            ]
          },
          "metadata": {},
          "execution_count": 17
        }
      ],
      "execution_count": null
    },
    {
      "cell_type": "markdown",
      "source": [
        "### 3.2 Funciones definidas por el usuario\n",
        "\n",
        "Ahora aprenderemos a escribir nuestras propias funciones (funciones definidas por el usuario). \n",
        "\n",
        "A continuación se muestra la sintaxis para definir una función básica con un parámetro de entrada y uno salida. \n",
        "\n",
        "**Importante:** También se puede definir funciones sin parámetros de entrada o salida, o múltiples parámetros de entrada o salida.\n",
        "\n",
        "```python \n",
        "def nombre_de_la_funcion(parametros):\n",
        "    ''' Opcional: Descripción de la función '''\n",
        "    Bloque de órdenes\n",
        "    return(output)\n",
        "```\n",
        "\n",
        "Cuando se llama a la función, los valores que se evalúan se denominan argumentos."
      ],
      "metadata": {
        "application/vnd.databricks.v1+cell": {
          "title": "",
          "showTitle": false,
          "inputWidgets": {},
          "nuid": "6905a0e2-e68a-4cdd-a946-b9b0826e5482"
        },
        "id": "r7_WbcycKH_K"
      }
    },
    {
      "cell_type": "code",
      "source": [
        "# Función sin parámetros de entrada y uno de salida\n",
        "def bienvenida():\n",
        "  print(\"Hola, Bienvenidos al curso de Python!\")\n",
        "\n",
        "# Evaluamos la función\n",
        "bienvenida()"
      ],
      "metadata": {
        "application/vnd.databricks.v1+cell": {
          "title": "",
          "showTitle": false,
          "inputWidgets": {},
          "nuid": "063b183e-2987-464f-8adc-da8322e87edb"
        },
        "colab": {
          "base_uri": "https://localhost:8080/"
        },
        "id": "PjbjdQ2NKH_L",
        "outputId": "0ebebd85-d76e-4274-b230-b605d34529f8"
      },
      "outputs": [
        {
          "output_type": "stream",
          "name": "stdout",
          "text": [
            "Hola, Bienvenidos al curso de Python!\n"
          ]
        }
      ],
      "execution_count": null
    },
    {
      "cell_type": "code",
      "source": [
        "# Función con un parámetro de entrada y uno de salida\n",
        "def elevado_al_cuadrado(x):\n",
        "  x_cuadrado = x*x\n",
        "  return(x_cuadrado)\n",
        "\n",
        "# Evaluamos la función\n",
        "print(elevado_al_cuadrado(7))"
      ],
      "metadata": {
        "application/vnd.databricks.v1+cell": {
          "title": "",
          "showTitle": false,
          "inputWidgets": {},
          "nuid": "6e2ecf13-bd61-44eb-9b4f-e13455619591"
        },
        "colab": {
          "base_uri": "https://localhost:8080/"
        },
        "id": "L0Cs7cEWKH_L",
        "outputId": "bf5f49ef-d7d4-43e9-94a1-ff662de8830e"
      },
      "outputs": [
        {
          "output_type": "stream",
          "name": "stdout",
          "text": [
            "49\n"
          ]
        }
      ],
      "execution_count": null
    },
    {
      "cell_type": "code",
      "source": [
        "# Función con un parámetro de entrada y dos de salida\n",
        "def elevado_al_cubo(x):\n",
        "  x_cubo = x*x*x\n",
        "  return(x, x_cubo)\n",
        "\n",
        "# Evaluamos la función\n",
        "print(elevado_al_cubo(5))"
      ],
      "metadata": {
        "application/vnd.databricks.v1+cell": {
          "title": "",
          "showTitle": false,
          "inputWidgets": {},
          "nuid": "95f6eb82-c88b-456b-84e2-dc4d76349fe3"
        },
        "colab": {
          "base_uri": "https://localhost:8080/"
        },
        "id": "mQG-SutuKH_L",
        "outputId": "7eff8619-c1a4-453b-b106-864975dd46fd"
      },
      "outputs": [
        {
          "output_type": "stream",
          "name": "stdout",
          "text": [
            "(5, 125)\n"
          ]
        }
      ],
      "execution_count": null
    },
    {
      "cell_type": "markdown",
      "source": [
        "### 3.3 Funciones Lambda\n",
        "\n",
        "A menudo definimos una función matemática con una función rápida de una línea llamada **lambda**. No se necesita una declaración de devolución."
      ],
      "metadata": {
        "application/vnd.databricks.v1+cell": {
          "title": "",
          "showTitle": false,
          "inputWidgets": {},
          "nuid": "98e88ce5-bb0c-4b87-9a62-fe6315a1d683"
        },
        "id": "ERAAgoOnKH_L"
      }
    },
    {
      "cell_type": "code",
      "source": [
        "elevado_al_cuadrado = lambda x: x*x\n",
        "print(elevado_al_cuadrado(3))"
      ],
      "metadata": {
        "application/vnd.databricks.v1+cell": {
          "title": "",
          "showTitle": false,
          "inputWidgets": {},
          "nuid": "d5da9675-b874-47ef-a7a8-e66eea97e6bd"
        },
        "colab": {
          "base_uri": "https://localhost:8080/"
        },
        "id": "Zm89xhVAKH_L",
        "outputId": "53ba9bdb-ce30-4dbb-ddcb-9a95d06d26c6"
      },
      "outputs": [
        {
          "output_type": "stream",
          "name": "stdout",
          "text": [
            "9\n"
          ]
        }
      ],
      "execution_count": null
    },
    {
      "cell_type": "markdown",
      "source": [
        "> **Ejercicio 3**: \n",
        "\n",
        "1. Crear una función lambda llamada `impuesto` que tome como parámetro un valor numérico y aplique las siguientes acciones:\n",
        " - Multiplicar el parámetro (valor) por el 12%\n",
        " - Devolver el valor original más el impuesto\n",
        "2. Finalmente, evalue la función con el número 100"
      ],
      "metadata": {
        "application/vnd.databricks.v1+cell": {
          "title": "",
          "showTitle": false,
          "inputWidgets": {},
          "nuid": "95918245-8827-4422-bd5b-ab7c7992b372"
        },
        "id": "fkCYGvf_KH_L"
      }
    },
    {
      "cell_type": "code",
      "source": [
        "# Su código aquí\n"
      ],
      "metadata": {
        "application/vnd.databricks.v1+cell": {
          "title": "",
          "showTitle": false,
          "inputWidgets": {},
          "nuid": "5b82dff0-42eb-41f9-8f71-f48ffc864606"
        },
        "id": "yNjxD59HKH_L"
      },
      "outputs": [],
      "execution_count": null
    },
    {
      "cell_type": "markdown",
      "source": [
        "### Solución"
      ],
      "metadata": {
        "id": "q7peivvXKlzQ"
      }
    },
    {
      "cell_type": "code",
      "source": [
        "print('Resultado:')\n",
        "impuesto = lambda valor: int(valor * (1+0.12))\n",
        "\n",
        "print(impuesto(100))"
      ],
      "metadata": {
        "application/vnd.databricks.v1+cell": {
          "title": "",
          "showTitle": false,
          "inputWidgets": {},
          "nuid": "3b6386da-8d96-4d64-ba30-9cb9219b15e7"
        },
        "id": "GtvzMAicKH_M"
      },
      "outputs": [],
      "execution_count": null
    },
    {
      "cell_type": "markdown",
      "source": [
        "### Fin"
      ],
      "metadata": {
        "id": "3nKBDxHvKyWJ"
      }
    },
    {
      "cell_type": "markdown",
      "source": [
        "\n",
        "\n",
        "<div style=\"text-align: center; line-height: 0; padding-top: 9px;\">\n",
        "  <img src=\"https://storage.googleapis.com/datasets-academy/public-img/notebooks/headers/databits-footer-notebook.png\" alt=\"Databricks Learning\" style=\"width: 100%;\">\n",
        "</div>"
      ],
      "metadata": {
        "id": "hKB-omngla_I",
        "application/vnd.databricks.v1+cell": {
          "title": "",
          "showTitle": false,
          "inputWidgets": {},
          "nuid": "ddff95c2-2834-4968-ae4d-9be7db13a52e"
        }
      }
    }
  ],
  "metadata": {
    "language_info": {
      "mimetype": "text/x-python",
      "name": "python",
      "pygments_lexer": "ipython3",
      "codemirror_mode": {
        "name": "ipython",
        "version": 3
      },
      "version": "3.7.3",
      "nbconvert_exporter": "python",
      "file_extension": ".py"
    },
    "name": "02 Estructuras de control y funciones",
    "notebookId": 1635544535932862,
    "kernelspec": {
      "display_name": "Python 3",
      "language": "python",
      "name": "python3"
    },
    "application/vnd.databricks.v1+notebook": {
      "notebookName": "02 Python - Estructuras de control y funciones",
      "dashboards": [],
      "notebookMetadata": {
        "pythonIndentUnit": 2
      },
      "language": "python",
      "widgets": {},
      "notebookOrigID": 4088581796752557
    },
    "colab": {
      "collapsed_sections": [
        "pdJy-2L4KXVo",
        "xI8ZIUEQKdNq",
        "q7peivvXKlzQ"
      ],
      "provenance": [],
      "include_colab_link": true
    }
  },
  "nbformat": 4,
  "nbformat_minor": 0
}