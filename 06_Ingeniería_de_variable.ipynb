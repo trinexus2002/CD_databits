{
  "cells": [
    {
      "cell_type": "markdown",
      "metadata": {
        "id": "view-in-github",
        "colab_type": "text"
      },
      "source": [
        "<a href=\"https://colab.research.google.com/github/trinexus2002/CD_databits/blob/main/06_Ingenier%C3%ADa_de_variable.ipynb\" target=\"_parent\"><img src=\"https://colab.research.google.com/assets/colab-badge.svg\" alt=\"Open In Colab\"/></a>"
      ]
    },
    {
      "cell_type": "markdown",
      "source": [
        "<div style=\"text-align: center; line-height: 0; padding-top: 9px;\">\n",
        "  <img src=\"https://storage.googleapis.com/datasets-academy/public-img/notebooks/headers/databits-header-notebook.png\" alt=\"Databricks Learning\" style=\"width: 100%;\">\n",
        "</div>\n",
        "\n",
        "# <center>  Ingeniería de variable </center>\n",
        "\n",
        "## Descripción\n",
        "En esta lección se aplicará procesos de limpieza y transformación de datos como aspectos previos a la aplicación de modelos de Machine Learning\n",
        "\n",
        "## Contenido\n",
        "\n",
        "* Limpieza de datos\n",
        "* Ingeniería de variable\n",
        "\n",
        "## Requisitos previos\n",
        "\n",
        "* Haber completado los cursos:\n",
        "  - Introducción a Python\n",
        "  - Estadística para Ciencia de Datos\n",
        "  - Introducción a Machine Learning\n",
        "  \n",
        "<img alt=\"Caution\" title=\"Caution\" style=\"vertical-align: text-bottom; position: relative; height:1.3em; top:0.0em\" src=\"https://storage.googleapis.com/datasets-academy/public-img/notebooks/icons/danger.png\"/> **Disclaimer:** Este material ha sido preparado por el equipo de **handytec Academy®**. Se prohibe la publicación o reproducción de este material sin previa autorización de **handytec Academy®** - 2022 Todos los derechos reservados."
      ],
      "metadata": {
        "application/vnd.databricks.v1+cell": {
          "title": "",
          "showTitle": false,
          "inputWidgets": {},
          "nuid": "1bc4cf79-6685-40d8-b21e-ba905618fd44"
        },
        "id": "zzh6tiZAHvPV"
      }
    },
    {
      "cell_type": "markdown",
      "source": [
        "## Importación de librerías y verificación de versiones"
      ],
      "metadata": {
        "application/vnd.databricks.v1+cell": {
          "title": "",
          "showTitle": false,
          "inputWidgets": {},
          "nuid": "43298528-f69b-4347-8c9b-d5db02ff1e68"
        },
        "id": "fGoEA8puHvPc"
      }
    },
    {
      "cell_type": "code",
      "source": [
        "import sys\n",
        "import numpy as np\n",
        "import pandas as pd\n",
        "import seaborn as sns\n",
        "import matplotlib\n",
        "import sklearn as sk"
      ],
      "metadata": {
        "application/vnd.databricks.v1+cell": {
          "title": "",
          "showTitle": false,
          "inputWidgets": {},
          "nuid": "e22b97d7-5906-446b-86b9-8ebef7509de4"
        },
        "id": "Pr2RxJ_MHvPd"
      },
      "outputs": [],
      "execution_count": 1
    },
    {
      "cell_type": "code",
      "source": [
        "print('Python:', sys.version)\n",
        "print('NumPy:', np.__version__)\n",
        "print('Pandas:', pd.__version__)\n",
        "print('Seaborn:', sns.__version__)\n",
        "print('Matplotlib:', matplotlib.__version__)\n",
        "print('Scikit-learn:', sk.__version__)"
      ],
      "metadata": {
        "application/vnd.databricks.v1+cell": {
          "title": "",
          "showTitle": false,
          "inputWidgets": {},
          "nuid": "f2e5cd77-d395-43b1-9766-83b4c6f432e4"
        },
        "colab": {
          "base_uri": "https://localhost:8080/"
        },
        "id": "0ag1BptcHvPd",
        "outputId": "acdba282-b234-4d64-8e78-119b83936624"
      },
      "outputs": [
        {
          "output_type": "stream",
          "name": "stdout",
          "text": [
            "Python: 3.7.15 (default, Oct 12 2022, 19:14:55) \n",
            "[GCC 7.5.0]\n",
            "NumPy: 1.21.6\n",
            "Pandas: 1.3.5\n",
            "Seaborn: 0.11.2\n",
            "Matplotlib: 3.2.2\n",
            "Scikit-learn: 1.0.2\n"
          ]
        }
      ],
      "execution_count": null
    },
    {
      "cell_type": "markdown",
      "source": [
        "## Importación de módulos específicos en las librerías"
      ],
      "metadata": {
        "application/vnd.databricks.v1+cell": {
          "title": "",
          "showTitle": false,
          "inputWidgets": {},
          "nuid": "d9f6a81d-0b80-4e3f-8d18-e8093774973b"
        },
        "id": "IYiClShTHvPe"
      }
    },
    {
      "cell_type": "code",
      "source": [
        "from sklearn.pipeline import Pipeline\n",
        "from sklearn.compose import ColumnTransformer\n",
        "from sklearn.impute import SimpleImputer\n",
        "from sklearn.preprocessing import MinMaxScaler\n",
        "from sklearn.preprocessing import OneHotEncoder\n",
        "import matplotlib.pyplot as plt"
      ],
      "metadata": {
        "application/vnd.databricks.v1+cell": {
          "title": "",
          "showTitle": false,
          "inputWidgets": {},
          "nuid": "5c772f96-5590-4516-832e-589b1cedff8b"
        },
        "id": "r2DwCzBdHvPe"
      },
      "outputs": [],
      "execution_count": 2
    },
    {
      "cell_type": "markdown",
      "source": [
        "### EDA (Exploratory Data Analysis)"
      ],
      "metadata": {
        "application/vnd.databricks.v1+cell": {
          "title": "",
          "showTitle": false,
          "inputWidgets": {},
          "nuid": "2c878857-f68d-4992-b1f8-42edaf820942"
        },
        "id": "miLYpWJUHvPg"
      }
    },
    {
      "cell_type": "markdown",
      "source": [
        "**Dataset**: Este archivo de datos incluye toda la información necesaria sobre los hosts, la disponibilidad geográfica y métricas con respecto a los datos proporcionados por Airbnb en la ciudad de Madrid hasta el periodo de mayo 2020\n",
        "\n",
        "[Link acceso Get the Data-Inside Airbnb](http://insideairbnb.com/get-the-data.html)"
      ],
      "metadata": {
        "application/vnd.databricks.v1+cell": {
          "title": "",
          "showTitle": false,
          "inputWidgets": {},
          "nuid": "0dc6a02a-7dfb-455a-9197-6e3d022543b1"
        },
        "id": "JrByF6mZHvPg"
      }
    },
    {
      "cell_type": "code",
      "source": [
        "df = pd.read_csv('https://storage.googleapis.com/datasets-academy/Track%20Data%20Science/03_Machine_Learning_II/Madrid_airbnb_datos_crudos.csv', \n",
        "                 header = 0, \n",
        "                 sep = ',', \n",
        "                 quotechar='\"',\n",
        "                 encoding = 'utf-8',\n",
        "                 dtype = {'zipcode': object,\n",
        "                          'weekly_price': object,\n",
        "                          'monthly_price': object})\n",
        "df.head()"
      ],
      "metadata": {
        "application/vnd.databricks.v1+cell": {
          "title": "",
          "showTitle": false,
          "inputWidgets": {},
          "nuid": "2df46590-317d-4eeb-933a-4687532b69ec"
        },
        "colab": {
          "base_uri": "https://localhost:8080/",
          "height": 647
        },
        "id": "D5joQzGsHvPg",
        "outputId": "f1a76b29-a78b-4aca-c990-55afcfaea920"
      },
      "outputs": [
        {
          "output_type": "execute_result",
          "data": {
            "text/plain": [
              "      id                         listing_url       scrape_id last_scraped  \\\n",
              "0   6369   https://www.airbnb.com/rooms/6369  20200514190756   2020-05-16   \n",
              "1  21853  https://www.airbnb.com/rooms/21853  20200514190756   2020-05-16   \n",
              "2  23001  https://www.airbnb.com/rooms/23001  20200514190756   2020-05-15   \n",
              "3  24836  https://www.airbnb.com/rooms/24836  20200514190756   2020-05-16   \n",
              "4  26825  https://www.airbnb.com/rooms/26825  20200514190756   2020-05-16   \n",
              "\n",
              "                                       name  \\\n",
              "0  Rooftop terrace room ,  ensuite bathroom   \n",
              "1                      Bright and airy room   \n",
              "2         Apartmento Arganzuela- Madrid Rio   \n",
              "3            Select the Madrid more \"cool\".   \n",
              "4        Single Room whith private Bathroom   \n",
              "\n",
              "                                             summary  \\\n",
              "0  Excellent connection with the AIRPORT and EXHI...   \n",
              "1  We have a quiet and sunny room with a good vie...   \n",
              "2  Apartamento de tres dormitorios dobles, gran s...   \n",
              "3  Apartamento céntrico junto a Gran Vía (VT-296)...   \n",
              "4  Nice and cozy roon for one person with a priva...   \n",
              "\n",
              "                                               space  \\\n",
              "0  BETTER THAN A HOTEL.Upscale neighboorhood (Met...   \n",
              "1  I am living in a nice flat near the centre of ...   \n",
              "2  Apartamento de lujo, tres dormitorios dobles i...   \n",
              "3  Select the Madrid more \"cool\" : 70 m, 2 bedroo...   \n",
              "4  Nice and cozy roon for one person with a priva...   \n",
              "\n",
              "                                         description experiences_offered  \\\n",
              "0  Excellent connection with the AIRPORT and EXHI...                none   \n",
              "1  We have a quiet and sunny room with a good vie...                none   \n",
              "2  Apartamento de tres dormitorios dobles, gran s...                none   \n",
              "3  Select the Madrid more \"cool\" : 70 m, 2 bedroo...                none   \n",
              "4  Nice and cozy roon for one person with a priva...                none   \n",
              "\n",
              "                               neighborhood_overview  ... instant_bookable  \\\n",
              "0  Nice and definitely  non touristic neighborhoo...  ...                f   \n",
              "1  We live in a leafy neighbourhood with plenty o...  ...                f   \n",
              "2  Barrio Arganzuela, junto a Madrid Rio, zonas c...  ...                f   \n",
              "3  Cosmopolita, lleno de locales de moda, restaur...  ...                f   \n",
              "4  Es un barrio muy tranquilo, en una zona de Mad...  ...                f   \n",
              "\n",
              "  is_business_travel_ready          cancellation_policy  \\\n",
              "0                        f                     flexible   \n",
              "1                        f  strict_14_with_grace_period   \n",
              "2                        f                     moderate   \n",
              "3                        f                     moderate   \n",
              "4                        f  strict_14_with_grace_period   \n",
              "\n",
              "  require_guest_profile_picture require_guest_phone_verification  \\\n",
              "0                             f                                f   \n",
              "1                             f                                f   \n",
              "2                             f                                f   \n",
              "3                             f                                f   \n",
              "4                             f                                f   \n",
              "\n",
              "   calculated_host_listings_count  \\\n",
              "0                               1   \n",
              "1                               2   \n",
              "2                               7   \n",
              "3                               1   \n",
              "4                               1   \n",
              "\n",
              "   calculated_host_listings_count_entire_homes  \\\n",
              "0                                            0   \n",
              "1                                            0   \n",
              "2                                            6   \n",
              "3                                            1   \n",
              "4                                            0   \n",
              "\n",
              "  calculated_host_listings_count_private_rooms  \\\n",
              "0                                            1   \n",
              "1                                            2   \n",
              "2                                            1   \n",
              "3                                            0   \n",
              "4                                            1   \n",
              "\n",
              "   calculated_host_listings_count_shared_rooms  reviews_per_month  \n",
              "0                                            0               0.61  \n",
              "1                                            0               0.48  \n",
              "2                                            0                NaN  \n",
              "3                                            0               0.62  \n",
              "4                                            0               1.22  \n",
              "\n",
              "[5 rows x 106 columns]"
            ],
            "text/html": [
              "\n",
              "  <div id=\"df-5eaaddd3-3d1a-415a-aca6-da8392b42d58\">\n",
              "    <div class=\"colab-df-container\">\n",
              "      <div>\n",
              "<style scoped>\n",
              "    .dataframe tbody tr th:only-of-type {\n",
              "        vertical-align: middle;\n",
              "    }\n",
              "\n",
              "    .dataframe tbody tr th {\n",
              "        vertical-align: top;\n",
              "    }\n",
              "\n",
              "    .dataframe thead th {\n",
              "        text-align: right;\n",
              "    }\n",
              "</style>\n",
              "<table border=\"1\" class=\"dataframe\">\n",
              "  <thead>\n",
              "    <tr style=\"text-align: right;\">\n",
              "      <th></th>\n",
              "      <th>id</th>\n",
              "      <th>listing_url</th>\n",
              "      <th>scrape_id</th>\n",
              "      <th>last_scraped</th>\n",
              "      <th>name</th>\n",
              "      <th>summary</th>\n",
              "      <th>space</th>\n",
              "      <th>description</th>\n",
              "      <th>experiences_offered</th>\n",
              "      <th>neighborhood_overview</th>\n",
              "      <th>...</th>\n",
              "      <th>instant_bookable</th>\n",
              "      <th>is_business_travel_ready</th>\n",
              "      <th>cancellation_policy</th>\n",
              "      <th>require_guest_profile_picture</th>\n",
              "      <th>require_guest_phone_verification</th>\n",
              "      <th>calculated_host_listings_count</th>\n",
              "      <th>calculated_host_listings_count_entire_homes</th>\n",
              "      <th>calculated_host_listings_count_private_rooms</th>\n",
              "      <th>calculated_host_listings_count_shared_rooms</th>\n",
              "      <th>reviews_per_month</th>\n",
              "    </tr>\n",
              "  </thead>\n",
              "  <tbody>\n",
              "    <tr>\n",
              "      <th>0</th>\n",
              "      <td>6369</td>\n",
              "      <td>https://www.airbnb.com/rooms/6369</td>\n",
              "      <td>20200514190756</td>\n",
              "      <td>2020-05-16</td>\n",
              "      <td>Rooftop terrace room ,  ensuite bathroom</td>\n",
              "      <td>Excellent connection with the AIRPORT and EXHI...</td>\n",
              "      <td>BETTER THAN A HOTEL.Upscale neighboorhood (Met...</td>\n",
              "      <td>Excellent connection with the AIRPORT and EXHI...</td>\n",
              "      <td>none</td>\n",
              "      <td>Nice and definitely  non touristic neighborhoo...</td>\n",
              "      <td>...</td>\n",
              "      <td>f</td>\n",
              "      <td>f</td>\n",
              "      <td>flexible</td>\n",
              "      <td>f</td>\n",
              "      <td>f</td>\n",
              "      <td>1</td>\n",
              "      <td>0</td>\n",
              "      <td>1</td>\n",
              "      <td>0</td>\n",
              "      <td>0.61</td>\n",
              "    </tr>\n",
              "    <tr>\n",
              "      <th>1</th>\n",
              "      <td>21853</td>\n",
              "      <td>https://www.airbnb.com/rooms/21853</td>\n",
              "      <td>20200514190756</td>\n",
              "      <td>2020-05-16</td>\n",
              "      <td>Bright and airy room</td>\n",
              "      <td>We have a quiet and sunny room with a good vie...</td>\n",
              "      <td>I am living in a nice flat near the centre of ...</td>\n",
              "      <td>We have a quiet and sunny room with a good vie...</td>\n",
              "      <td>none</td>\n",
              "      <td>We live in a leafy neighbourhood with plenty o...</td>\n",
              "      <td>...</td>\n",
              "      <td>f</td>\n",
              "      <td>f</td>\n",
              "      <td>strict_14_with_grace_period</td>\n",
              "      <td>f</td>\n",
              "      <td>f</td>\n",
              "      <td>2</td>\n",
              "      <td>0</td>\n",
              "      <td>2</td>\n",
              "      <td>0</td>\n",
              "      <td>0.48</td>\n",
              "    </tr>\n",
              "    <tr>\n",
              "      <th>2</th>\n",
              "      <td>23001</td>\n",
              "      <td>https://www.airbnb.com/rooms/23001</td>\n",
              "      <td>20200514190756</td>\n",
              "      <td>2020-05-15</td>\n",
              "      <td>Apartmento Arganzuela- Madrid Rio</td>\n",
              "      <td>Apartamento de tres dormitorios dobles, gran s...</td>\n",
              "      <td>Apartamento de lujo, tres dormitorios dobles i...</td>\n",
              "      <td>Apartamento de tres dormitorios dobles, gran s...</td>\n",
              "      <td>none</td>\n",
              "      <td>Barrio Arganzuela, junto a Madrid Rio, zonas c...</td>\n",
              "      <td>...</td>\n",
              "      <td>f</td>\n",
              "      <td>f</td>\n",
              "      <td>moderate</td>\n",
              "      <td>f</td>\n",
              "      <td>f</td>\n",
              "      <td>7</td>\n",
              "      <td>6</td>\n",
              "      <td>1</td>\n",
              "      <td>0</td>\n",
              "      <td>NaN</td>\n",
              "    </tr>\n",
              "    <tr>\n",
              "      <th>3</th>\n",
              "      <td>24836</td>\n",
              "      <td>https://www.airbnb.com/rooms/24836</td>\n",
              "      <td>20200514190756</td>\n",
              "      <td>2020-05-16</td>\n",
              "      <td>Select the Madrid more \"cool\".</td>\n",
              "      <td>Apartamento céntrico junto a Gran Vía (VT-296)...</td>\n",
              "      <td>Select the Madrid more \"cool\" : 70 m, 2 bedroo...</td>\n",
              "      <td>Select the Madrid more \"cool\" : 70 m, 2 bedroo...</td>\n",
              "      <td>none</td>\n",
              "      <td>Cosmopolita, lleno de locales de moda, restaur...</td>\n",
              "      <td>...</td>\n",
              "      <td>f</td>\n",
              "      <td>f</td>\n",
              "      <td>moderate</td>\n",
              "      <td>f</td>\n",
              "      <td>f</td>\n",
              "      <td>1</td>\n",
              "      <td>1</td>\n",
              "      <td>0</td>\n",
              "      <td>0</td>\n",
              "      <td>0.62</td>\n",
              "    </tr>\n",
              "    <tr>\n",
              "      <th>4</th>\n",
              "      <td>26825</td>\n",
              "      <td>https://www.airbnb.com/rooms/26825</td>\n",
              "      <td>20200514190756</td>\n",
              "      <td>2020-05-16</td>\n",
              "      <td>Single Room whith private Bathroom</td>\n",
              "      <td>Nice and cozy roon for one person with a priva...</td>\n",
              "      <td>Nice and cozy roon for one person with a priva...</td>\n",
              "      <td>Nice and cozy roon for one person with a priva...</td>\n",
              "      <td>none</td>\n",
              "      <td>Es un barrio muy tranquilo, en una zona de Mad...</td>\n",
              "      <td>...</td>\n",
              "      <td>f</td>\n",
              "      <td>f</td>\n",
              "      <td>strict_14_with_grace_period</td>\n",
              "      <td>f</td>\n",
              "      <td>f</td>\n",
              "      <td>1</td>\n",
              "      <td>0</td>\n",
              "      <td>1</td>\n",
              "      <td>0</td>\n",
              "      <td>1.22</td>\n",
              "    </tr>\n",
              "  </tbody>\n",
              "</table>\n",
              "<p>5 rows × 106 columns</p>\n",
              "</div>\n",
              "      <button class=\"colab-df-convert\" onclick=\"convertToInteractive('df-5eaaddd3-3d1a-415a-aca6-da8392b42d58')\"\n",
              "              title=\"Convert this dataframe to an interactive table.\"\n",
              "              style=\"display:none;\">\n",
              "        \n",
              "  <svg xmlns=\"http://www.w3.org/2000/svg\" height=\"24px\"viewBox=\"0 0 24 24\"\n",
              "       width=\"24px\">\n",
              "    <path d=\"M0 0h24v24H0V0z\" fill=\"none\"/>\n",
              "    <path d=\"M18.56 5.44l.94 2.06.94-2.06 2.06-.94-2.06-.94-.94-2.06-.94 2.06-2.06.94zm-11 1L8.5 8.5l.94-2.06 2.06-.94-2.06-.94L8.5 2.5l-.94 2.06-2.06.94zm10 10l.94 2.06.94-2.06 2.06-.94-2.06-.94-.94-2.06-.94 2.06-2.06.94z\"/><path d=\"M17.41 7.96l-1.37-1.37c-.4-.4-.92-.59-1.43-.59-.52 0-1.04.2-1.43.59L10.3 9.45l-7.72 7.72c-.78.78-.78 2.05 0 2.83L4 21.41c.39.39.9.59 1.41.59.51 0 1.02-.2 1.41-.59l7.78-7.78 2.81-2.81c.8-.78.8-2.07 0-2.86zM5.41 20L4 18.59l7.72-7.72 1.47 1.35L5.41 20z\"/>\n",
              "  </svg>\n",
              "      </button>\n",
              "      \n",
              "  <style>\n",
              "    .colab-df-container {\n",
              "      display:flex;\n",
              "      flex-wrap:wrap;\n",
              "      gap: 12px;\n",
              "    }\n",
              "\n",
              "    .colab-df-convert {\n",
              "      background-color: #E8F0FE;\n",
              "      border: none;\n",
              "      border-radius: 50%;\n",
              "      cursor: pointer;\n",
              "      display: none;\n",
              "      fill: #1967D2;\n",
              "      height: 32px;\n",
              "      padding: 0 0 0 0;\n",
              "      width: 32px;\n",
              "    }\n",
              "\n",
              "    .colab-df-convert:hover {\n",
              "      background-color: #E2EBFA;\n",
              "      box-shadow: 0px 1px 2px rgba(60, 64, 67, 0.3), 0px 1px 3px 1px rgba(60, 64, 67, 0.15);\n",
              "      fill: #174EA6;\n",
              "    }\n",
              "\n",
              "    [theme=dark] .colab-df-convert {\n",
              "      background-color: #3B4455;\n",
              "      fill: #D2E3FC;\n",
              "    }\n",
              "\n",
              "    [theme=dark] .colab-df-convert:hover {\n",
              "      background-color: #434B5C;\n",
              "      box-shadow: 0px 1px 3px 1px rgba(0, 0, 0, 0.15);\n",
              "      filter: drop-shadow(0px 1px 2px rgba(0, 0, 0, 0.3));\n",
              "      fill: #FFFFFF;\n",
              "    }\n",
              "  </style>\n",
              "\n",
              "      <script>\n",
              "        const buttonEl =\n",
              "          document.querySelector('#df-5eaaddd3-3d1a-415a-aca6-da8392b42d58 button.colab-df-convert');\n",
              "        buttonEl.style.display =\n",
              "          google.colab.kernel.accessAllowed ? 'block' : 'none';\n",
              "\n",
              "        async function convertToInteractive(key) {\n",
              "          const element = document.querySelector('#df-5eaaddd3-3d1a-415a-aca6-da8392b42d58');\n",
              "          const dataTable =\n",
              "            await google.colab.kernel.invokeFunction('convertToInteractive',\n",
              "                                                     [key], {});\n",
              "          if (!dataTable) return;\n",
              "\n",
              "          const docLinkHtml = 'Like what you see? Visit the ' +\n",
              "            '<a target=\"_blank\" href=https://colab.research.google.com/notebooks/data_table.ipynb>data table notebook</a>'\n",
              "            + ' to learn more about interactive tables.';\n",
              "          element.innerHTML = '';\n",
              "          dataTable['output_type'] = 'display_data';\n",
              "          await google.colab.output.renderOutput(dataTable, element);\n",
              "          const docLink = document.createElement('div');\n",
              "          docLink.innerHTML = docLinkHtml;\n",
              "          element.appendChild(docLink);\n",
              "        }\n",
              "      </script>\n",
              "    </div>\n",
              "  </div>\n",
              "  "
            ]
          },
          "metadata": {},
          "execution_count": 3
        }
      ],
      "execution_count": 3
    },
    {
      "cell_type": "code",
      "source": [
        "# Se lo hace numpy array para que muestre todo\n",
        "np.array(df.keys())"
      ],
      "metadata": {
        "colab": {
          "base_uri": "https://localhost:8080/"
        },
        "id": "oH2__Dxou0LO",
        "outputId": "59df6d2a-fe13-4ac7-8258-214d95fab1e6"
      },
      "execution_count": null,
      "outputs": [
        {
          "output_type": "execute_result",
          "data": {
            "text/plain": [
              "array(['id', 'listing_url', 'scrape_id', 'last_scraped', 'name',\n",
              "       'summary', 'space', 'description', 'experiences_offered',\n",
              "       'neighborhood_overview', 'notes', 'transit', 'access',\n",
              "       'interaction', 'house_rules', 'thumbnail_url', 'medium_url',\n",
              "       'picture_url', 'xl_picture_url', 'host_id', 'host_url',\n",
              "       'host_name', 'host_since', 'host_location', 'host_about',\n",
              "       'host_response_time', 'host_response_rate', 'host_acceptance_rate',\n",
              "       'host_is_superhost', 'host_thumbnail_url', 'host_picture_url',\n",
              "       'host_neighbourhood', 'host_listings_count',\n",
              "       'host_total_listings_count', 'host_verifications',\n",
              "       'host_has_profile_pic', 'host_identity_verified', 'street',\n",
              "       'neighbourhood', 'neighbourhood_cleansed',\n",
              "       'neighbourhood_group_cleansed', 'city', 'state', 'zipcode',\n",
              "       'market', 'smart_location', 'country_code', 'country', 'latitude',\n",
              "       'longitude', 'is_location_exact', 'property_type', 'room_type',\n",
              "       'accommodates', 'bathrooms', 'bedrooms', 'beds', 'bed_type',\n",
              "       'amenities', 'square_feet', 'price', 'weekly_price',\n",
              "       'monthly_price', 'security_deposit', 'cleaning_fee',\n",
              "       'guests_included', 'extra_people', 'minimum_nights',\n",
              "       'maximum_nights', 'minimum_minimum_nights',\n",
              "       'maximum_minimum_nights', 'minimum_maximum_nights',\n",
              "       'maximum_maximum_nights', 'minimum_nights_avg_ntm',\n",
              "       'maximum_nights_avg_ntm', 'calendar_updated', 'has_availability',\n",
              "       'availability_30', 'availability_60', 'availability_90',\n",
              "       'availability_365', 'calendar_last_scraped', 'number_of_reviews',\n",
              "       'number_of_reviews_ltm', 'first_review', 'last_review',\n",
              "       'review_scores_rating', 'review_scores_accuracy',\n",
              "       'review_scores_cleanliness', 'review_scores_checkin',\n",
              "       'review_scores_communication', 'review_scores_location',\n",
              "       'review_scores_value', 'requires_license', 'license',\n",
              "       'jurisdiction_names', 'instant_bookable',\n",
              "       'is_business_travel_ready', 'cancellation_policy',\n",
              "       'require_guest_profile_picture',\n",
              "       'require_guest_phone_verification',\n",
              "       'calculated_host_listings_count',\n",
              "       'calculated_host_listings_count_entire_homes',\n",
              "       'calculated_host_listings_count_private_rooms',\n",
              "       'calculated_host_listings_count_shared_rooms', 'reviews_per_month'],\n",
              "      dtype=object)"
            ]
          },
          "metadata": {},
          "execution_count": 7
        }
      ]
    },
    {
      "cell_type": "code",
      "source": [
        "# Información resumida del DataFrame\n",
        "df.info()"
      ],
      "metadata": {
        "application/vnd.databricks.v1+cell": {
          "title": "",
          "showTitle": false,
          "inputWidgets": {},
          "nuid": "53d7f9f7-5e15-49b1-ac4c-722cc2591ada"
        },
        "colab": {
          "base_uri": "https://localhost:8080/"
        },
        "id": "nZmAXUhLHvPh",
        "outputId": "5f407c61-6489-44cf-e4b1-4cbb9edda311"
      },
      "outputs": [
        {
          "output_type": "stream",
          "name": "stdout",
          "text": [
            "<class 'pandas.core.frame.DataFrame'>\n",
            "RangeIndex: 21739 entries, 0 to 21738\n",
            "Columns: 106 entries, id to reviews_per_month\n",
            "dtypes: float64(22), int64(21), object(63)\n",
            "memory usage: 17.6+ MB\n"
          ]
        }
      ],
      "execution_count": 4
    },
    {
      "cell_type": "code",
      "source": [
        "df['property_type'].value_counts()"
      ],
      "metadata": {
        "application/vnd.databricks.v1+cell": {
          "title": "",
          "showTitle": false,
          "inputWidgets": {},
          "nuid": "1ec9168d-b140-4fc9-992e-1be3f8a049f9"
        },
        "colab": {
          "base_uri": "https://localhost:8080/"
        },
        "id": "qXb79p99HvPh",
        "outputId": "e954ee93-7841-4a39-efad-ff7d6f8b2b3f"
      },
      "outputs": [
        {
          "output_type": "execute_result",
          "data": {
            "text/plain": [
              "Apartment                 17770\n",
              "House                      1220\n",
              "Condominium                 780\n",
              "Loft                        704\n",
              "Serviced apartment          310\n",
              "Hostel                      292\n",
              "Bed and breakfast           102\n",
              "Townhouse                    77\n",
              "Guest suite                  75\n",
              "Boutique hotel               68\n",
              "Other                        64\n",
              "Guesthouse                   56\n",
              "Chalet                       54\n",
              "Hotel                        50\n",
              "Tiny house                   29\n",
              "Casa particular (Cuba)       20\n",
              "Camper/RV                    19\n",
              "Aparthotel                   10\n",
              "Villa                         9\n",
              "Dome house                    8\n",
              "Earth house                   3\n",
              "Hut                           3\n",
              "Cabin                         3\n",
              "Bungalow                      2\n",
              "Barn                          2\n",
              "Pension (South Korea)         2\n",
              "Farm stay                     1\n",
              "Tent                          1\n",
              "Cave                          1\n",
              "Nature lodge                  1\n",
              "Igloo                         1\n",
              "Yurt                          1\n",
              "Cottage                       1\n",
              "Name: property_type, dtype: int64"
            ]
          },
          "metadata": {},
          "execution_count": 6
        }
      ],
      "execution_count": null
    },
    {
      "cell_type": "code",
      "source": [
        "df['room_type'].value_counts()"
      ],
      "metadata": {
        "colab": {
          "base_uri": "https://localhost:8080/"
        },
        "id": "aD0utpK1wc9o",
        "outputId": "22b67140-94bc-428a-9b03-57073b57572a"
      },
      "execution_count": 5,
      "outputs": [
        {
          "output_type": "execute_result",
          "data": {
            "text/plain": [
              "Entire home/apt    13339\n",
              "Private room        7831\n",
              "Shared room          331\n",
              "Hotel room           238\n",
              "Name: room_type, dtype: int64"
            ]
          },
          "metadata": {},
          "execution_count": 5
        }
      ]
    },
    {
      "cell_type": "markdown",
      "source": [
        "##### 1.1 Filtrado condicional de las observaciones\n",
        "\n",
        "Enfocamos nuestro análisis en **Apartamentos** que posean una **Habitación privada**"
      ],
      "metadata": {
        "application/vnd.databricks.v1+cell": {
          "title": "",
          "showTitle": false,
          "inputWidgets": {},
          "nuid": "8c4babab-7e22-4d4a-8740-9ce0d1ba2805"
        },
        "id": "kLFTGj88HvPh"
      }
    },
    {
      "cell_type": "code",
      "source": [
        "# Filtrar observaciones del DataFrame por dos condiciones\n",
        "df_filtrado = df.loc[(df['property_type'] == 'Apartment') & (df['room_type'] == 'Private room'), :].copy()\n",
        "df_filtrado.shape"
      ],
      "metadata": {
        "application/vnd.databricks.v1+cell": {
          "title": "",
          "showTitle": false,
          "inputWidgets": {},
          "nuid": "d640b8f6-0923-4fe8-8756-26614249a1ff"
        },
        "colab": {
          "base_uri": "https://localhost:8080/"
        },
        "id": "T9mzTOcDHvPh",
        "outputId": "13d63330-3403-4d9d-b0f7-11d9eb5e0dff"
      },
      "outputs": [
        {
          "output_type": "execute_result",
          "data": {
            "text/plain": [
              "(5915, 106)"
            ]
          },
          "metadata": {},
          "execution_count": 6
        }
      ],
      "execution_count": 6
    },
    {
      "cell_type": "code",
      "source": [
        "# Eliminar columnas\n",
        "df_filtrado = df_filtrado.drop(['property_type', 'room_type'], axis=1)\n",
        "df_filtrado.shape"
      ],
      "metadata": {
        "application/vnd.databricks.v1+cell": {
          "title": "",
          "showTitle": false,
          "inputWidgets": {},
          "nuid": "eac813e1-708d-46e4-9054-e61fe10c90ed"
        },
        "colab": {
          "base_uri": "https://localhost:8080/"
        },
        "id": "3Q6C6zYFHvPi",
        "outputId": "e3ed95b7-38ec-47ef-9c5d-541890e4a4d9"
      },
      "outputs": [
        {
          "output_type": "execute_result",
          "data": {
            "text/plain": [
              "(5915, 104)"
            ]
          },
          "metadata": {},
          "execution_count": 7
        }
      ],
      "execution_count": 7
    },
    {
      "cell_type": "markdown",
      "source": [
        "##### 1.2 Selección de las columnas o variables de interés:"
      ],
      "metadata": {
        "application/vnd.databricks.v1+cell": {
          "title": "",
          "showTitle": false,
          "inputWidgets": {},
          "nuid": "fa786f05-d471-4a23-9073-fe8c44b63676"
        },
        "id": "-a4JBPtyHvPi"
      }
    },
    {
      "cell_type": "code",
      "source": [
        "# Imprimir listado de columnas con sus respectiva posición en el DataFrame\n",
        "indice_columnas = list(enumerate(df_filtrado.columns))\n",
        "print(indice_columnas)"
      ],
      "metadata": {
        "application/vnd.databricks.v1+cell": {
          "title": "",
          "showTitle": false,
          "inputWidgets": {},
          "nuid": "4503f2fd-6339-4307-ae48-24871fc6d303"
        },
        "colab": {
          "base_uri": "https://localhost:8080/"
        },
        "id": "7dmZivgaHvPi",
        "outputId": "5eeb492b-21e6-4326-9b8c-df011eb2e8b4"
      },
      "outputs": [
        {
          "output_type": "stream",
          "name": "stdout",
          "text": [
            "[(0, 'id'), (1, 'listing_url'), (2, 'scrape_id'), (3, 'last_scraped'), (4, 'name'), (5, 'summary'), (6, 'space'), (7, 'description'), (8, 'experiences_offered'), (9, 'neighborhood_overview'), (10, 'notes'), (11, 'transit'), (12, 'access'), (13, 'interaction'), (14, 'house_rules'), (15, 'thumbnail_url'), (16, 'medium_url'), (17, 'picture_url'), (18, 'xl_picture_url'), (19, 'host_id'), (20, 'host_url'), (21, 'host_name'), (22, 'host_since'), (23, 'host_location'), (24, 'host_about'), (25, 'host_response_time'), (26, 'host_response_rate'), (27, 'host_acceptance_rate'), (28, 'host_is_superhost'), (29, 'host_thumbnail_url'), (30, 'host_picture_url'), (31, 'host_neighbourhood'), (32, 'host_listings_count'), (33, 'host_total_listings_count'), (34, 'host_verifications'), (35, 'host_has_profile_pic'), (36, 'host_identity_verified'), (37, 'street'), (38, 'neighbourhood'), (39, 'neighbourhood_cleansed'), (40, 'neighbourhood_group_cleansed'), (41, 'city'), (42, 'state'), (43, 'zipcode'), (44, 'market'), (45, 'smart_location'), (46, 'country_code'), (47, 'country'), (48, 'latitude'), (49, 'longitude'), (50, 'is_location_exact'), (51, 'accommodates'), (52, 'bathrooms'), (53, 'bedrooms'), (54, 'beds'), (55, 'bed_type'), (56, 'amenities'), (57, 'square_feet'), (58, 'price'), (59, 'weekly_price'), (60, 'monthly_price'), (61, 'security_deposit'), (62, 'cleaning_fee'), (63, 'guests_included'), (64, 'extra_people'), (65, 'minimum_nights'), (66, 'maximum_nights'), (67, 'minimum_minimum_nights'), (68, 'maximum_minimum_nights'), (69, 'minimum_maximum_nights'), (70, 'maximum_maximum_nights'), (71, 'minimum_nights_avg_ntm'), (72, 'maximum_nights_avg_ntm'), (73, 'calendar_updated'), (74, 'has_availability'), (75, 'availability_30'), (76, 'availability_60'), (77, 'availability_90'), (78, 'availability_365'), (79, 'calendar_last_scraped'), (80, 'number_of_reviews'), (81, 'number_of_reviews_ltm'), (82, 'first_review'), (83, 'last_review'), (84, 'review_scores_rating'), (85, 'review_scores_accuracy'), (86, 'review_scores_cleanliness'), (87, 'review_scores_checkin'), (88, 'review_scores_communication'), (89, 'review_scores_location'), (90, 'review_scores_value'), (91, 'requires_license'), (92, 'license'), (93, 'jurisdiction_names'), (94, 'instant_bookable'), (95, 'is_business_travel_ready'), (96, 'cancellation_policy'), (97, 'require_guest_profile_picture'), (98, 'require_guest_phone_verification'), (99, 'calculated_host_listings_count'), (100, 'calculated_host_listings_count_entire_homes'), (101, 'calculated_host_listings_count_private_rooms'), (102, 'calculated_host_listings_count_shared_rooms'), (103, 'reviews_per_month')]\n"
          ]
        }
      ],
      "execution_count": 9
    },
    {
      "cell_type": "code",
      "source": [
        "listado_columnas = [40, 52, 53, 54, 55, 58, 80, 84]"
      ],
      "metadata": {
        "application/vnd.databricks.v1+cell": {
          "title": "",
          "showTitle": false,
          "inputWidgets": {},
          "nuid": "2c74a15c-de7a-4d79-ab4a-0b0ba6541b7d"
        },
        "id": "M0l8z5gAHvPi"
      },
      "outputs": [],
      "execution_count": 8
    },
    {
      "cell_type": "code",
      "source": [
        "df_seleccion = df_filtrado.iloc[:, listado_columnas].copy()\n",
        "df_seleccion.tail(5)"
      ],
      "metadata": {
        "application/vnd.databricks.v1+cell": {
          "title": "",
          "showTitle": false,
          "inputWidgets": {},
          "nuid": "eea368d4-e46d-4da8-a573-ea20a1f648e5"
        },
        "colab": {
          "base_uri": "https://localhost:8080/",
          "height": 206
        },
        "id": "dIrYtz4MHvPi",
        "outputId": "551d5d0c-7517-412c-dd31-9df949cc039f"
      },
      "outputs": [
        {
          "output_type": "execute_result",
          "data": {
            "text/plain": [
              "      neighbourhood_group_cleansed  bathrooms  bedrooms  beds  bed_type  \\\n",
              "21670        Fuencarral - El Pardo        1.0       1.0   1.0  Real Bed   \n",
              "21671                       Tetuán        1.0       1.0   1.0  Real Bed   \n",
              "21677                       Retiro        1.0       1.0   NaN  Real Bed   \n",
              "21684                Ciudad Lineal        1.0       NaN   1.0  Real Bed   \n",
              "21687                    Chamartín        1.0       0.0   1.0  Real Bed   \n",
              "\n",
              "        price  number_of_reviews  review_scores_rating  \n",
              "21670  $60.00                  0                   NaN  \n",
              "21671  $50.00                  0                   NaN  \n",
              "21677  $30.00                  0                   NaN  \n",
              "21684  $23.00                  0                   NaN  \n",
              "21687  $15.00                  0                   NaN  "
            ],
            "text/html": [
              "\n",
              "  <div id=\"df-399376c8-8931-4cfc-afa9-a239defd01c6\">\n",
              "    <div class=\"colab-df-container\">\n",
              "      <div>\n",
              "<style scoped>\n",
              "    .dataframe tbody tr th:only-of-type {\n",
              "        vertical-align: middle;\n",
              "    }\n",
              "\n",
              "    .dataframe tbody tr th {\n",
              "        vertical-align: top;\n",
              "    }\n",
              "\n",
              "    .dataframe thead th {\n",
              "        text-align: right;\n",
              "    }\n",
              "</style>\n",
              "<table border=\"1\" class=\"dataframe\">\n",
              "  <thead>\n",
              "    <tr style=\"text-align: right;\">\n",
              "      <th></th>\n",
              "      <th>neighbourhood_group_cleansed</th>\n",
              "      <th>bathrooms</th>\n",
              "      <th>bedrooms</th>\n",
              "      <th>beds</th>\n",
              "      <th>bed_type</th>\n",
              "      <th>price</th>\n",
              "      <th>number_of_reviews</th>\n",
              "      <th>review_scores_rating</th>\n",
              "    </tr>\n",
              "  </thead>\n",
              "  <tbody>\n",
              "    <tr>\n",
              "      <th>21670</th>\n",
              "      <td>Fuencarral - El Pardo</td>\n",
              "      <td>1.0</td>\n",
              "      <td>1.0</td>\n",
              "      <td>1.0</td>\n",
              "      <td>Real Bed</td>\n",
              "      <td>$60.00</td>\n",
              "      <td>0</td>\n",
              "      <td>NaN</td>\n",
              "    </tr>\n",
              "    <tr>\n",
              "      <th>21671</th>\n",
              "      <td>Tetuán</td>\n",
              "      <td>1.0</td>\n",
              "      <td>1.0</td>\n",
              "      <td>1.0</td>\n",
              "      <td>Real Bed</td>\n",
              "      <td>$50.00</td>\n",
              "      <td>0</td>\n",
              "      <td>NaN</td>\n",
              "    </tr>\n",
              "    <tr>\n",
              "      <th>21677</th>\n",
              "      <td>Retiro</td>\n",
              "      <td>1.0</td>\n",
              "      <td>1.0</td>\n",
              "      <td>NaN</td>\n",
              "      <td>Real Bed</td>\n",
              "      <td>$30.00</td>\n",
              "      <td>0</td>\n",
              "      <td>NaN</td>\n",
              "    </tr>\n",
              "    <tr>\n",
              "      <th>21684</th>\n",
              "      <td>Ciudad Lineal</td>\n",
              "      <td>1.0</td>\n",
              "      <td>NaN</td>\n",
              "      <td>1.0</td>\n",
              "      <td>Real Bed</td>\n",
              "      <td>$23.00</td>\n",
              "      <td>0</td>\n",
              "      <td>NaN</td>\n",
              "    </tr>\n",
              "    <tr>\n",
              "      <th>21687</th>\n",
              "      <td>Chamartín</td>\n",
              "      <td>1.0</td>\n",
              "      <td>0.0</td>\n",
              "      <td>1.0</td>\n",
              "      <td>Real Bed</td>\n",
              "      <td>$15.00</td>\n",
              "      <td>0</td>\n",
              "      <td>NaN</td>\n",
              "    </tr>\n",
              "  </tbody>\n",
              "</table>\n",
              "</div>\n",
              "      <button class=\"colab-df-convert\" onclick=\"convertToInteractive('df-399376c8-8931-4cfc-afa9-a239defd01c6')\"\n",
              "              title=\"Convert this dataframe to an interactive table.\"\n",
              "              style=\"display:none;\">\n",
              "        \n",
              "  <svg xmlns=\"http://www.w3.org/2000/svg\" height=\"24px\"viewBox=\"0 0 24 24\"\n",
              "       width=\"24px\">\n",
              "    <path d=\"M0 0h24v24H0V0z\" fill=\"none\"/>\n",
              "    <path d=\"M18.56 5.44l.94 2.06.94-2.06 2.06-.94-2.06-.94-.94-2.06-.94 2.06-2.06.94zm-11 1L8.5 8.5l.94-2.06 2.06-.94-2.06-.94L8.5 2.5l-.94 2.06-2.06.94zm10 10l.94 2.06.94-2.06 2.06-.94-2.06-.94-.94-2.06-.94 2.06-2.06.94z\"/><path d=\"M17.41 7.96l-1.37-1.37c-.4-.4-.92-.59-1.43-.59-.52 0-1.04.2-1.43.59L10.3 9.45l-7.72 7.72c-.78.78-.78 2.05 0 2.83L4 21.41c.39.39.9.59 1.41.59.51 0 1.02-.2 1.41-.59l7.78-7.78 2.81-2.81c.8-.78.8-2.07 0-2.86zM5.41 20L4 18.59l7.72-7.72 1.47 1.35L5.41 20z\"/>\n",
              "  </svg>\n",
              "      </button>\n",
              "      \n",
              "  <style>\n",
              "    .colab-df-container {\n",
              "      display:flex;\n",
              "      flex-wrap:wrap;\n",
              "      gap: 12px;\n",
              "    }\n",
              "\n",
              "    .colab-df-convert {\n",
              "      background-color: #E8F0FE;\n",
              "      border: none;\n",
              "      border-radius: 50%;\n",
              "      cursor: pointer;\n",
              "      display: none;\n",
              "      fill: #1967D2;\n",
              "      height: 32px;\n",
              "      padding: 0 0 0 0;\n",
              "      width: 32px;\n",
              "    }\n",
              "\n",
              "    .colab-df-convert:hover {\n",
              "      background-color: #E2EBFA;\n",
              "      box-shadow: 0px 1px 2px rgba(60, 64, 67, 0.3), 0px 1px 3px 1px rgba(60, 64, 67, 0.15);\n",
              "      fill: #174EA6;\n",
              "    }\n",
              "\n",
              "    [theme=dark] .colab-df-convert {\n",
              "      background-color: #3B4455;\n",
              "      fill: #D2E3FC;\n",
              "    }\n",
              "\n",
              "    [theme=dark] .colab-df-convert:hover {\n",
              "      background-color: #434B5C;\n",
              "      box-shadow: 0px 1px 3px 1px rgba(0, 0, 0, 0.15);\n",
              "      filter: drop-shadow(0px 1px 2px rgba(0, 0, 0, 0.3));\n",
              "      fill: #FFFFFF;\n",
              "    }\n",
              "  </style>\n",
              "\n",
              "      <script>\n",
              "        const buttonEl =\n",
              "          document.querySelector('#df-399376c8-8931-4cfc-afa9-a239defd01c6 button.colab-df-convert');\n",
              "        buttonEl.style.display =\n",
              "          google.colab.kernel.accessAllowed ? 'block' : 'none';\n",
              "\n",
              "        async function convertToInteractive(key) {\n",
              "          const element = document.querySelector('#df-399376c8-8931-4cfc-afa9-a239defd01c6');\n",
              "          const dataTable =\n",
              "            await google.colab.kernel.invokeFunction('convertToInteractive',\n",
              "                                                     [key], {});\n",
              "          if (!dataTable) return;\n",
              "\n",
              "          const docLinkHtml = 'Like what you see? Visit the ' +\n",
              "            '<a target=\"_blank\" href=https://colab.research.google.com/notebooks/data_table.ipynb>data table notebook</a>'\n",
              "            + ' to learn more about interactive tables.';\n",
              "          element.innerHTML = '';\n",
              "          dataTable['output_type'] = 'display_data';\n",
              "          await google.colab.output.renderOutput(dataTable, element);\n",
              "          const docLink = document.createElement('div');\n",
              "          docLink.innerHTML = docLinkHtml;\n",
              "          element.appendChild(docLink);\n",
              "        }\n",
              "      </script>\n",
              "    </div>\n",
              "  </div>\n",
              "  "
            ]
          },
          "metadata": {},
          "execution_count": 11
        }
      ],
      "execution_count": 11
    },
    {
      "cell_type": "code",
      "source": [
        "# Examinar tipos de datos\n",
        "df_seleccion.dtypes"
      ],
      "metadata": {
        "application/vnd.databricks.v1+cell": {
          "title": "",
          "showTitle": false,
          "inputWidgets": {},
          "nuid": "93fae261-bd02-489d-9723-ebb7f1448bdd"
        },
        "colab": {
          "base_uri": "https://localhost:8080/"
        },
        "id": "Bnht8ofHHvPj",
        "outputId": "24fadd12-5eb9-48b7-fe9b-a085f653cb8f"
      },
      "outputs": [
        {
          "output_type": "execute_result",
          "data": {
            "text/plain": [
              "neighbourhood_group_cleansed     object\n",
              "bathrooms                       float64\n",
              "bedrooms                        float64\n",
              "beds                            float64\n",
              "bed_type                         object\n",
              "price                            object\n",
              "number_of_reviews                 int64\n",
              "review_scores_rating            float64\n",
              "dtype: object"
            ]
          },
          "metadata": {},
          "execution_count": 12
        }
      ],
      "execution_count": 12
    },
    {
      "cell_type": "markdown",
      "source": [
        "##### 1.3 Conversión en tipos de datos"
      ],
      "metadata": {
        "application/vnd.databricks.v1+cell": {
          "title": "",
          "showTitle": false,
          "inputWidgets": {},
          "nuid": "08e6c60c-778c-454e-88f4-1ba85f1d2db3"
        },
        "id": "7fsz8opOHvPj"
      }
    },
    {
      "cell_type": "markdown",
      "source": [
        "Ahora convertimos la columna **price** de tipo `object` a `float` usando `astype` de `Pandas`. \n",
        "\n",
        "Para ello, se requiere remover los caracteres especiales operando sobre una [cadenas de caracteres](https://docs.hektorprofe.net/python/metodos-de-las-colecciones/metodos-de-las-cadenas/):"
      ],
      "metadata": {
        "application/vnd.databricks.v1+cell": {
          "title": "",
          "showTitle": false,
          "inputWidgets": {},
          "nuid": "53811ae2-4d46-4d88-b197-eecfa47e755a"
        },
        "id": "V8-i7W5jHvPj"
      }
    },
    {
      "cell_type": "code",
      "source": [
        "df_seleccion['price']"
      ],
      "metadata": {
        "colab": {
          "base_uri": "https://localhost:8080/"
        },
        "id": "3MUB3TwR5hZw",
        "outputId": "3b113038-00ab-43df-d3ff-9e6198399cfc"
      },
      "execution_count": 13,
      "outputs": [
        {
          "output_type": "execute_result",
          "data": {
            "text/plain": [
              "0        $70.00\n",
              "1        $30.00\n",
              "11       $45.00\n",
              "12       $20.00\n",
              "26       $55.00\n",
              "          ...  \n",
              "21670    $60.00\n",
              "21671    $50.00\n",
              "21677    $30.00\n",
              "21684    $23.00\n",
              "21687    $15.00\n",
              "Name: price, Length: 5915, dtype: object"
            ]
          },
          "metadata": {},
          "execution_count": 13
        }
      ]
    },
    {
      "cell_type": "code",
      "source": [
        "# Creación de una función para limpiar columnas con caracteres especiales\n",
        "def limpieza_caracteres(cadena):\n",
        "  '''Función que elimina espacios, remueve el signo de dólares y retira separadores de miles (,) para convertir la variable en tipo float'''\n",
        "  remover_espacios = cadena.strip()\n",
        "  remover_signo = remover_espacios.replace('$', '')\n",
        "  remover_coma = remover_signo.replace(',', '')\n",
        "  return float(remover_coma)"
      ],
      "metadata": {
        "application/vnd.databricks.v1+cell": {
          "title": "",
          "showTitle": false,
          "inputWidgets": {},
          "nuid": "55e60a83-fb72-45cf-aa4f-89f6e454c6ea"
        },
        "id": "6_3ljCYAHvPj"
      },
      "outputs": [],
      "execution_count": 14
    },
    {
      "cell_type": "code",
      "source": [
        "# Limpiamos la columna correspondiente\n",
        "df_seleccion['price'] = df_seleccion['price'].apply(limpieza_caracteres)  #Se usa apply para que lo haga distribuido en lugar de secuencial para no usar un for."
      ],
      "metadata": {
        "application/vnd.databricks.v1+cell": {
          "title": "",
          "showTitle": false,
          "inputWidgets": {},
          "nuid": "9214dbb0-ebf6-4df1-bf0b-d1109a8ebaf5"
        },
        "id": "H6K37vnKHvPj"
      },
      "outputs": [],
      "execution_count": 15
    },
    {
      "cell_type": "code",
      "source": [
        "# Comprobar la conversión\n",
        "df_seleccion.price.dtypes"
      ],
      "metadata": {
        "application/vnd.databricks.v1+cell": {
          "title": "",
          "showTitle": false,
          "inputWidgets": {},
          "nuid": "eb57ce31-5963-4866-b0b4-04078d1142f5"
        },
        "colab": {
          "base_uri": "https://localhost:8080/"
        },
        "id": "jznUf8tZHvPj",
        "outputId": "8f73010c-7eed-4767-f8ac-d8b53d756cff"
      },
      "outputs": [
        {
          "output_type": "execute_result",
          "data": {
            "text/plain": [
              "dtype('float64')"
            ]
          },
          "metadata": {},
          "execution_count": 16
        }
      ],
      "execution_count": 16
    },
    {
      "cell_type": "markdown",
      "source": [
        "## 2. Limpieza de datos"
      ],
      "metadata": {
        "application/vnd.databricks.v1+cell": {
          "title": "",
          "showTitle": false,
          "inputWidgets": {},
          "nuid": "46843d12-9e18-4817-96b3-fd289e818889"
        },
        "id": "CUGCXaRRHvPk"
      }
    },
    {
      "cell_type": "markdown",
      "source": [
        "##### 2.1 Identificar de datos perdidos por columna"
      ],
      "metadata": {
        "application/vnd.databricks.v1+cell": {
          "title": "",
          "showTitle": false,
          "inputWidgets": {},
          "nuid": "19eeab3f-af6f-4134-a68c-14b4ad4c4a09"
        },
        "id": "89WC-7uSHvPk"
      }
    },
    {
      "cell_type": "code",
      "source": [
        "# Identificar columnas con valores NaN (Not a Number)\n",
        "df_seleccion.isnull().sum()"
      ],
      "metadata": {
        "application/vnd.databricks.v1+cell": {
          "title": "",
          "showTitle": false,
          "inputWidgets": {},
          "nuid": "63e2b317-2ec9-438a-99df-11e8df13758c"
        },
        "colab": {
          "base_uri": "https://localhost:8080/"
        },
        "id": "LyVRBUNoHvPk",
        "outputId": "a823248a-5da1-4c3a-fcc1-5e17cf60da58"
      },
      "outputs": [
        {
          "output_type": "execute_result",
          "data": {
            "text/plain": [
              "neighbourhood_group_cleansed       0\n",
              "bathrooms                          3\n",
              "bedrooms                          15\n",
              "beds                             194\n",
              "bed_type                           0\n",
              "price                              0\n",
              "number_of_reviews                  0\n",
              "review_scores_rating            1680\n",
              "dtype: int64"
            ]
          },
          "metadata": {},
          "execution_count": 17
        }
      ],
      "execution_count": 17
    },
    {
      "cell_type": "markdown",
      "source": [
        "En este caso solo se tiene valores perdidos en variables numéricas."
      ],
      "metadata": {
        "application/vnd.databricks.v1+cell": {
          "title": "",
          "showTitle": false,
          "inputWidgets": {},
          "nuid": "aa2d8507-e1d3-401a-b054-4b49adce8c30"
        },
        "id": "yGC89-NuHvPl"
      }
    },
    {
      "cell_type": "markdown",
      "source": [
        "##### 2.2 Rangos variables numéricas"
      ],
      "metadata": {
        "application/vnd.databricks.v1+cell": {
          "title": "",
          "showTitle": false,
          "inputWidgets": {},
          "nuid": "21a10de8-194d-435d-8a57-9ee4ce69d4a0"
        },
        "id": "9tp_EAqgHvPm"
      }
    },
    {
      "cell_type": "markdown",
      "source": [
        "Limitar rango de la variable precio"
      ],
      "metadata": {
        "application/vnd.databricks.v1+cell": {
          "title": "",
          "showTitle": false,
          "inputWidgets": {},
          "nuid": "92136ce4-81f8-45fa-a969-f9371d28ceb5"
        },
        "id": "HdW7G9FoHvPm"
      }
    },
    {
      "cell_type": "code",
      "source": [
        "sns.boxplot(data = df_seleccion, x='price')"
      ],
      "metadata": {
        "colab": {
          "base_uri": "https://localhost:8080/",
          "height": 296
        },
        "id": "0jNqUtXcpSWc",
        "outputId": "fa1f47d3-a2dd-4ef7-8abc-aee4c60107d5"
      },
      "execution_count": 19,
      "outputs": [
        {
          "output_type": "execute_result",
          "data": {
            "text/plain": [
              "<matplotlib.axes._subplots.AxesSubplot at 0x7f2851978950>"
            ]
          },
          "metadata": {},
          "execution_count": 19
        },
        {
          "output_type": "display_data",
          "data": {
            "text/plain": [
              "<Figure size 432x288 with 1 Axes>"
            ],
            "image/png": "[encoded data removed]"
          },
          "metadata": {
            "needs_background": "light"
          }
        }
      ]
    },
    {
      "cell_type": "code",
      "source": [
        "df_seleccion.price.describe()"
      ],
      "metadata": {
        "application/vnd.databricks.v1+cell": {
          "title": "",
          "showTitle": false,
          "inputWidgets": {},
          "nuid": "e90a3146-ca13-4a18-b278-4725233ca92d"
        },
        "colab": {
          "base_uri": "https://localhost:8080/"
        },
        "id": "ifDJA8XbHvPm",
        "outputId": "742f1515-c240-4f8a-bf8d-1a0db71f18e2"
      },
      "outputs": [
        {
          "output_type": "execute_result",
          "data": {
            "text/plain": [
              "count    5915.000000\n",
              "mean       75.448859\n",
              "std       191.038548\n",
              "min         1.000000\n",
              "25%        24.000000\n",
              "50%        33.000000\n",
              "75%        50.000000\n",
              "max      5000.000000\n",
              "Name: price, dtype: float64"
            ]
          },
          "metadata": {},
          "execution_count": 18
        }
      ],
      "execution_count": 18
    },
    {
      "cell_type": "code",
      "source": [
        "df_seleccion.price.quantile(np.arange(0, 1.05, 0.05))"
      ],
      "metadata": {
        "application/vnd.databricks.v1+cell": {
          "title": "",
          "showTitle": false,
          "inputWidgets": {},
          "nuid": "e1348c08-7f59-4650-91a0-4ef94a8f453c"
        },
        "colab": {
          "base_uri": "https://localhost:8080/"
        },
        "id": "7tY2NyTTHvPm",
        "outputId": "d8b88407-ab9f-4a2c-bf20-fae91d60cda3"
      },
      "outputs": [
        {
          "output_type": "execute_result",
          "data": {
            "text/plain": [
              "0.00       1.0\n",
              "0.05      15.0\n",
              "0.10      18.0\n",
              "0.15      20.0\n",
              "0.20      21.0\n",
              "0.25      24.0\n",
              "0.30      25.0\n",
              "0.35      27.0\n",
              "0.40      30.0\n",
              "0.45      30.0\n",
              "0.50      33.0\n",
              "0.55      35.0\n",
              "0.60      38.0\n",
              "0.65      40.0\n",
              "0.70      45.0\n",
              "0.75      50.0\n",
              "0.80      55.0\n",
              "0.85      70.0\n",
              "0.90     100.0\n",
              "0.95     300.0\n",
              "1.00    5000.0\n",
              "Name: price, dtype: float64"
            ]
          },
          "metadata": {},
          "execution_count": 20
        }
      ],
      "execution_count": 20
    },
    {
      "cell_type": "code",
      "source": [
        "p05 = df_seleccion.price.quantile(0.05)\n",
        "p90 = df_seleccion.price.quantile(0.90)\n",
        "print('Percentil 5%:', p05, 'Percentil 90%:', p90)"
      ],
      "metadata": {
        "application/vnd.databricks.v1+cell": {
          "title": "",
          "showTitle": false,
          "inputWidgets": {},
          "nuid": "5ff0ef6f-9a87-4f04-b68e-03a7bfd12f5b"
        },
        "colab": {
          "base_uri": "https://localhost:8080/"
        },
        "id": "NLoO--yqHvPm",
        "outputId": "96611d63-fd37-420e-cd5a-abea27cbd35e"
      },
      "outputs": [
        {
          "output_type": "stream",
          "name": "stdout",
          "text": [
            "Percentil 5%: 15.0 Percentil 90%: 100.0\n"
          ]
        }
      ],
      "execution_count": 21
    },
    {
      "cell_type": "code",
      "source": [
        "df_rango = df_seleccion.loc[(df_seleccion['price'] >= p05) & (df_seleccion['price'] <= p90), :].copy()\n",
        "df_rango.shape\n",
        "sns.boxplot(data = df_rango, x= 'price')"
      ],
      "metadata": {
        "application/vnd.databricks.v1+cell": {
          "title": "",
          "showTitle": false,
          "inputWidgets": {},
          "nuid": "f3ff1c29-09f0-4ff7-8513-47f6b54e623d"
        },
        "colab": {
          "base_uri": "https://localhost:8080/",
          "height": 296
        },
        "id": "Ey0ChVt8HvPm",
        "outputId": "c540fa50-f005-44da-b35e-8bc03c55c341"
      },
      "outputs": [
        {
          "output_type": "execute_result",
          "data": {
            "text/plain": [
              "<matplotlib.axes._subplots.AxesSubplot at 0x7f2851313990>"
            ]
          },
          "metadata": {},
          "execution_count": 23
        },
        {
          "output_type": "display_data",
          "data": {
            "text/plain": [
              "<Figure size 432x288 with 1 Axes>"
            ],
            "image/png": "[encoded data removed]"
          },
          "metadata": {
            "needs_background": "light"
          }
        }
      ],
      "execution_count": 23
    },
    {
      "cell_type": "code",
      "source": [
        "df_rango"
      ],
      "metadata": {
        "application/vnd.databricks.v1+cell": {
          "title": "",
          "showTitle": false,
          "inputWidgets": {},
          "nuid": "53a5d27d-a0a3-43f8-a383-b680d7c60a47"
        },
        "colab": {
          "base_uri": "https://localhost:8080/",
          "height": 424
        },
        "id": "nVXoEP4MHvPm",
        "outputId": "120792d3-3cc2-4513-b8d1-d2cbbe816445"
      },
      "outputs": [
        {
          "output_type": "execute_result",
          "data": {
            "text/plain": [
              "      neighbourhood_group_cleansed  bathrooms  bedrooms  beds  bed_type  \\\n",
              "0                        Chamartín        1.0       1.0   0.0  Real Bed   \n",
              "1                           Latina        1.0       1.0   1.0  Real Bed   \n",
              "11                          Centro        1.5       1.0   2.0  Real Bed   \n",
              "12           Fuencarral - El Pardo        1.0       1.0   2.0  Real Bed   \n",
              "26                          Centro        1.5       1.0   1.0  Real Bed   \n",
              "...                            ...        ...       ...   ...       ...   \n",
              "21670        Fuencarral - El Pardo        1.0       1.0   1.0  Real Bed   \n",
              "21671                       Tetuán        1.0       1.0   1.0  Real Bed   \n",
              "21677                       Retiro        1.0       1.0   NaN  Real Bed   \n",
              "21684                Ciudad Lineal        1.0       NaN   1.0  Real Bed   \n",
              "21687                    Chamartín        1.0       0.0   1.0  Real Bed   \n",
              "\n",
              "       price  number_of_reviews  review_scores_rating  \n",
              "0       70.0                 75                  98.0  \n",
              "1       30.0                 33                  92.0  \n",
              "11      45.0                 78                  91.0  \n",
              "12      20.0                 32                  94.0  \n",
              "26      55.0                 92                  99.0  \n",
              "...      ...                ...                   ...  \n",
              "21670   60.0                  0                   NaN  \n",
              "21671   50.0                  0                   NaN  \n",
              "21677   30.0                  0                   NaN  \n",
              "21684   23.0                  0                   NaN  \n",
              "21687   15.0                  0                   NaN  \n",
              "\n",
              "[5157 rows x 8 columns]"
            ],
            "text/html": [
              "\n",
              "  <div id=\"df-19090e2d-6f0d-486c-bcbc-2db3f2a85089\">\n",
              "    <div class=\"colab-df-container\">\n",
              "      <div>\n",
              "<style scoped>\n",
              "    .dataframe tbody tr th:only-of-type {\n",
              "        vertical-align: middle;\n",
              "    }\n",
              "\n",
              "    .dataframe tbody tr th {\n",
              "        vertical-align: top;\n",
              "    }\n",
              "\n",
              "    .dataframe thead th {\n",
              "        text-align: right;\n",
              "    }\n",
              "</style>\n",
              "<table border=\"1\" class=\"dataframe\">\n",
              "  <thead>\n",
              "    <tr style=\"text-align: right;\">\n",
              "      <th></th>\n",
              "      <th>neighbourhood_group_cleansed</th>\n",
              "      <th>bathrooms</th>\n",
              "      <th>bedrooms</th>\n",
              "      <th>beds</th>\n",
              "      <th>bed_type</th>\n",
              "      <th>price</th>\n",
              "      <th>number_of_reviews</th>\n",
              "      <th>review_scores_rating</th>\n",
              "    </tr>\n",
              "  </thead>\n",
              "  <tbody>\n",
              "    <tr>\n",
              "      <th>0</th>\n",
              "      <td>Chamartín</td>\n",
              "      <td>1.0</td>\n",
              "      <td>1.0</td>\n",
              "      <td>0.0</td>\n",
              "      <td>Real Bed</td>\n",
              "      <td>70.0</td>\n",
              "      <td>75</td>\n",
              "      <td>98.0</td>\n",
              "    </tr>\n",
              "    <tr>\n",
              "      <th>1</th>\n",
              "      <td>Latina</td>\n",
              "      <td>1.0</td>\n",
              "      <td>1.0</td>\n",
              "      <td>1.0</td>\n",
              "      <td>Real Bed</td>\n",
              "      <td>30.0</td>\n",
              "      <td>33</td>\n",
              "      <td>92.0</td>\n",
              "    </tr>\n",
              "    <tr>\n",
              "      <th>11</th>\n",
              "      <td>Centro</td>\n",
              "      <td>1.5</td>\n",
              "      <td>1.0</td>\n",
              "      <td>2.0</td>\n",
              "      <td>Real Bed</td>\n",
              "      <td>45.0</td>\n",
              "      <td>78</td>\n",
              "      <td>91.0</td>\n",
              "    </tr>\n",
              "    <tr>\n",
              "      <th>12</th>\n",
              "      <td>Fuencarral - El Pardo</td>\n",
              "      <td>1.0</td>\n",
              "      <td>1.0</td>\n",
              "      <td>2.0</td>\n",
              "      <td>Real Bed</td>\n",
              "      <td>20.0</td>\n",
              "      <td>32</td>\n",
              "      <td>94.0</td>\n",
              "    </tr>\n",
              "    <tr>\n",
              "      <th>26</th>\n",
              "      <td>Centro</td>\n",
              "      <td>1.5</td>\n",
              "      <td>1.0</td>\n",
              "      <td>1.0</td>\n",
              "      <td>Real Bed</td>\n",
              "      <td>55.0</td>\n",
              "      <td>92</td>\n",
              "      <td>99.0</td>\n",
              "    </tr>\n",
              "    <tr>\n",
              "      <th>...</th>\n",
              "      <td>...</td>\n",
              "      <td>...</td>\n",
              "      <td>...</td>\n",
              "      <td>...</td>\n",
              "      <td>...</td>\n",
              "      <td>...</td>\n",
              "      <td>...</td>\n",
              "      <td>...</td>\n",
              "    </tr>\n",
              "    <tr>\n",
              "      <th>21670</th>\n",
              "      <td>Fuencarral - El Pardo</td>\n",
              "      <td>1.0</td>\n",
              "      <td>1.0</td>\n",
              "      <td>1.0</td>\n",
              "      <td>Real Bed</td>\n",
              "      <td>60.0</td>\n",
              "      <td>0</td>\n",
              "      <td>NaN</td>\n",
              "    </tr>\n",
              "    <tr>\n",
              "      <th>21671</th>\n",
              "      <td>Tetuán</td>\n",
              "      <td>1.0</td>\n",
              "      <td>1.0</td>\n",
              "      <td>1.0</td>\n",
              "      <td>Real Bed</td>\n",
              "      <td>50.0</td>\n",
              "      <td>0</td>\n",
              "      <td>NaN</td>\n",
              "    </tr>\n",
              "    <tr>\n",
              "      <th>21677</th>\n",
              "      <td>Retiro</td>\n",
              "      <td>1.0</td>\n",
              "      <td>1.0</td>\n",
              "      <td>NaN</td>\n",
              "      <td>Real Bed</td>\n",
              "      <td>30.0</td>\n",
              "      <td>0</td>\n",
              "      <td>NaN</td>\n",
              "    </tr>\n",
              "    <tr>\n",
              "      <th>21684</th>\n",
              "      <td>Ciudad Lineal</td>\n",
              "      <td>1.0</td>\n",
              "      <td>NaN</td>\n",
              "      <td>1.0</td>\n",
              "      <td>Real Bed</td>\n",
              "      <td>23.0</td>\n",
              "      <td>0</td>\n",
              "      <td>NaN</td>\n",
              "    </tr>\n",
              "    <tr>\n",
              "      <th>21687</th>\n",
              "      <td>Chamartín</td>\n",
              "      <td>1.0</td>\n",
              "      <td>0.0</td>\n",
              "      <td>1.0</td>\n",
              "      <td>Real Bed</td>\n",
              "      <td>15.0</td>\n",
              "      <td>0</td>\n",
              "      <td>NaN</td>\n",
              "    </tr>\n",
              "  </tbody>\n",
              "</table>\n",
              "<p>5157 rows × 8 columns</p>\n",
              "</div>\n",
              "      <button class=\"colab-df-convert\" onclick=\"convertToInteractive('df-19090e2d-6f0d-486c-bcbc-2db3f2a85089')\"\n",
              "              title=\"Convert this dataframe to an interactive table.\"\n",
              "              style=\"display:none;\">\n",
              "        \n",
              "  <svg xmlns=\"http://www.w3.org/2000/svg\" height=\"24px\"viewBox=\"0 0 24 24\"\n",
              "       width=\"24px\">\n",
              "    <path d=\"M0 0h24v24H0V0z\" fill=\"none\"/>\n",
              "    <path d=\"M18.56 5.44l.94 2.06.94-2.06 2.06-.94-2.06-.94-.94-2.06-.94 2.06-2.06.94zm-11 1L8.5 8.5l.94-2.06 2.06-.94-2.06-.94L8.5 2.5l-.94 2.06-2.06.94zm10 10l.94 2.06.94-2.06 2.06-.94-2.06-.94-.94-2.06-.94 2.06-2.06.94z\"/><path d=\"M17.41 7.96l-1.37-1.37c-.4-.4-.92-.59-1.43-.59-.52 0-1.04.2-1.43.59L10.3 9.45l-7.72 7.72c-.78.78-.78 2.05 0 2.83L4 21.41c.39.39.9.59 1.41.59.51 0 1.02-.2 1.41-.59l7.78-7.78 2.81-2.81c.8-.78.8-2.07 0-2.86zM5.41 20L4 18.59l7.72-7.72 1.47 1.35L5.41 20z\"/>\n",
              "  </svg>\n",
              "      </button>\n",
              "      \n",
              "  <style>\n",
              "    .colab-df-container {\n",
              "      display:flex;\n",
              "      flex-wrap:wrap;\n",
              "      gap: 12px;\n",
              "    }\n",
              "\n",
              "    .colab-df-convert {\n",
              "      background-color: #E8F0FE;\n",
              "      border: none;\n",
              "      border-radius: 50%;\n",
              "      cursor: pointer;\n",
              "      display: none;\n",
              "      fill: #1967D2;\n",
              "      height: 32px;\n",
              "      padding: 0 0 0 0;\n",
              "      width: 32px;\n",
              "    }\n",
              "\n",
              "    .colab-df-convert:hover {\n",
              "      background-color: #E2EBFA;\n",
              "      box-shadow: 0px 1px 2px rgba(60, 64, 67, 0.3), 0px 1px 3px 1px rgba(60, 64, 67, 0.15);\n",
              "      fill: #174EA6;\n",
              "    }\n",
              "\n",
              "    [theme=dark] .colab-df-convert {\n",
              "      background-color: #3B4455;\n",
              "      fill: #D2E3FC;\n",
              "    }\n",
              "\n",
              "    [theme=dark] .colab-df-convert:hover {\n",
              "      background-color: #434B5C;\n",
              "      box-shadow: 0px 1px 3px 1px rgba(0, 0, 0, 0.15);\n",
              "      filter: drop-shadow(0px 1px 2px rgba(0, 0, 0, 0.3));\n",
              "      fill: #FFFFFF;\n",
              "    }\n",
              "  </style>\n",
              "\n",
              "      <script>\n",
              "        const buttonEl =\n",
              "          document.querySelector('#df-19090e2d-6f0d-486c-bcbc-2db3f2a85089 button.colab-df-convert');\n",
              "        buttonEl.style.display =\n",
              "          google.colab.kernel.accessAllowed ? 'block' : 'none';\n",
              "\n",
              "        async function convertToInteractive(key) {\n",
              "          const element = document.querySelector('#df-19090e2d-6f0d-486c-bcbc-2db3f2a85089');\n",
              "          const dataTable =\n",
              "            await google.colab.kernel.invokeFunction('convertToInteractive',\n",
              "                                                     [key], {});\n",
              "          if (!dataTable) return;\n",
              "\n",
              "          const docLinkHtml = 'Like what you see? Visit the ' +\n",
              "            '<a target=\"_blank\" href=https://colab.research.google.com/notebooks/data_table.ipynb>data table notebook</a>'\n",
              "            + ' to learn more about interactive tables.';\n",
              "          element.innerHTML = '';\n",
              "          dataTable['output_type'] = 'display_data';\n",
              "          await google.colab.output.renderOutput(dataTable, element);\n",
              "          const docLink = document.createElement('div');\n",
              "          docLink.innerHTML = docLinkHtml;\n",
              "          element.appendChild(docLink);\n",
              "        }\n",
              "      </script>\n",
              "    </div>\n",
              "  </div>\n",
              "  "
            ]
          },
          "metadata": {},
          "execution_count": 24
        }
      ],
      "execution_count": 24
    },
    {
      "cell_type": "code",
      "source": [
        "import missingno as msg\n",
        "msg.matrix(df_rango)"
      ],
      "metadata": {
        "colab": {
          "base_uri": "https://localhost:8080/",
          "height": 803
        },
        "id": "qaI2t-c6B-A4",
        "outputId": "bb7eb19c-553b-4d50-c052-cf65f1dfa4a1"
      },
      "execution_count": null,
      "outputs": [
        {
          "output_type": "execute_result",
          "data": {
            "text/plain": [
              "<matplotlib.axes._subplots.AxesSubplot at 0x7fbb72f24050>"
            ]
          },
          "metadata": {},
          "execution_count": 26
        },
        {
          "output_type": "display_data",
          "data": {
            "text/plain": [
              "<Figure size 1800x720 with 2 Axes>"
            ],
            "image/png": "[encoded data removed]"
          },
          "metadata": {
            "needs_background": "light"
          }
        }
      ]
    },
    {
      "cell_type": "code",
      "source": [
        "msg.heatmap(df_rango)"
      ],
      "metadata": {
        "colab": {
          "base_uri": "https://localhost:8080/",
          "height": 842
        },
        "id": "DshzgIJTCyno",
        "outputId": "c951ccef-c3cb-41b4-9926-de1315b35fc3"
      },
      "execution_count": null,
      "outputs": [
        {
          "output_type": "execute_result",
          "data": {
            "text/plain": [
              "<matplotlib.axes._subplots.AxesSubplot at 0x7fbb706d1ed0>"
            ]
          },
          "metadata": {},
          "execution_count": 27
        },
        {
          "output_type": "display_data",
          "data": {
            "text/plain": [
              "<Figure size 1440x864 with 2 Axes>"
            ],
            "image/png": "[encoded data removed]"
          },
          "metadata": {
            "needs_background": "light"
          }
        }
      ]
    },
    {
      "cell_type": "code",
      "source": [
        "df_rango.corr"
      ],
      "metadata": {
        "colab": {
          "base_uri": "https://localhost:8080/"
        },
        "id": "wtVchKMmDSwx",
        "outputId": "00cd0c29-a3ac-41d7-8983-965faade625b"
      },
      "execution_count": null,
      "outputs": [
        {
          "output_type": "execute_result",
          "data": {
            "text/plain": [
              "<bound method DataFrame.corr of       neighbourhood_group_cleansed  bathrooms  bedrooms  beds  bed_type  \\\n",
              "0                        Chamartín        1.0       1.0   0.0  Real Bed   \n",
              "1                           Latina        1.0       1.0   1.0  Real Bed   \n",
              "11                          Centro        1.5       1.0   2.0  Real Bed   \n",
              "12           Fuencarral - El Pardo        1.0       1.0   2.0  Real Bed   \n",
              "26                          Centro        1.5       1.0   1.0  Real Bed   \n",
              "...                            ...        ...       ...   ...       ...   \n",
              "21670        Fuencarral - El Pardo        1.0       1.0   1.0  Real Bed   \n",
              "21671                       Tetuán        1.0       1.0   1.0  Real Bed   \n",
              "21677                       Retiro        1.0       1.0   NaN  Real Bed   \n",
              "21684                Ciudad Lineal        1.0       NaN   1.0  Real Bed   \n",
              "21687                    Chamartín        1.0       0.0   1.0  Real Bed   \n",
              "\n",
              "       price  number_of_reviews  review_scores_rating  \n",
              "0       70.0                 75                  98.0  \n",
              "1       30.0                 33                  92.0  \n",
              "11      45.0                 78                  91.0  \n",
              "12      20.0                 32                  94.0  \n",
              "26      55.0                 92                  99.0  \n",
              "...      ...                ...                   ...  \n",
              "21670   60.0                  0                   NaN  \n",
              "21671   50.0                  0                   NaN  \n",
              "21677   30.0                  0                   NaN  \n",
              "21684   23.0                  0                   NaN  \n",
              "21687   15.0                  0                   NaN  \n",
              "\n",
              "[5157 rows x 8 columns]>"
            ]
          },
          "metadata": {},
          "execution_count": 28
        }
      ]
    },
    {
      "cell_type": "markdown",
      "source": [
        "##### 2.3 Identificar filas duplicadas"
      ],
      "metadata": {
        "id": "NojCAvILIPjs"
      }
    },
    {
      "cell_type": "code",
      "source": [
        "df_rango.duplicated().value_counts()"
      ],
      "metadata": {
        "colab": {
          "base_uri": "https://localhost:8080/"
        },
        "id": "zADZsmGsILjt",
        "outputId": "4757b8a7-50d9-4501-b892-78144d650fee"
      },
      "execution_count": 25,
      "outputs": [
        {
          "output_type": "execute_result",
          "data": {
            "text/plain": [
              "False    4659\n",
              "True      498\n",
              "dtype: int64"
            ]
          },
          "metadata": {},
          "execution_count": 25
        }
      ]
    },
    {
      "cell_type": "markdown",
      "source": [
        "Eliminar filas duplicadas:"
      ],
      "metadata": {
        "id": "pvAkqeSeRGgR"
      }
    },
    {
      "cell_type": "code",
      "source": [
        "df_limpio = df_rango.drop_duplicates(subset=None, keep='first', inplace=False).copy()\n",
        "df_limpio.shape"
      ],
      "metadata": {
        "colab": {
          "base_uri": "https://localhost:8080/"
        },
        "id": "aO_Js0NWPFVg",
        "outputId": "28c61525-ca10-4de5-a7d3-5eaeb93b35f9"
      },
      "execution_count": 27,
      "outputs": [
        {
          "output_type": "execute_result",
          "data": {
            "text/plain": [
              "(4659, 8)"
            ]
          },
          "metadata": {},
          "execution_count": 27
        }
      ]
    },
    {
      "cell_type": "markdown",
      "source": [
        "---"
      ],
      "metadata": {
        "id": "t1Z6PD_tIXms"
      }
    },
    {
      "cell_type": "markdown",
      "source": [
        "##### A partir del EDA realizado previamente el dataset dispone las siguientes características:\n",
        "\n",
        "- Las siguientes variables poseen valores faltantes (missing data): `bathrooms`, `bedrooms`, `beds`, `review_scores_rating` \n",
        "- La variable precio presenta valores fuera del rango esperado. Por lo que fue truncada.\n",
        "- Existen filas con valores duplicados. Por lo que se procedió a eliminarlas."
      ],
      "metadata": {
        "application/vnd.databricks.v1+cell": {
          "title": "",
          "showTitle": false,
          "inputWidgets": {},
          "nuid": "53b38edf-3146-4606-88ad-157fe5deefdb"
        },
        "id": "9dahIpyWHvPk"
      }
    },
    {
      "cell_type": "markdown",
      "source": [
        "## 2. Preparación de datos"
      ],
      "metadata": {
        "application/vnd.databricks.v1+cell": {
          "title": "",
          "showTitle": false,
          "inputWidgets": {},
          "nuid": "0f04367f-6a39-4a5f-a7e3-874e9a7ab433"
        },
        "id": "3dB4KIDvHvPm"
      }
    },
    {
      "cell_type": "markdown",
      "source": [
        "#### 2.1 Selección de variable objetivo y predictores"
      ],
      "metadata": {
        "application/vnd.databricks.v1+cell": {
          "title": "",
          "showTitle": false,
          "inputWidgets": {},
          "nuid": "47485cac-06bd-4b7f-a958-02538da7a9c1"
        },
        "id": "9yg3HFYbHvPn"
      }
    },
    {
      "cell_type": "code",
      "source": [
        "y = df_limpio.loc[:,'price'] # en Y localiza todas las filas que la columnas que sean price\n",
        "X = df_limpio.loc[:, [i for i in df_limpio.columns if i != 'price']] # Loc selecciona serie o rango del dataframe en forma matricial. Toma toda fila, si es diferente de price.\n",
        "# [neighborhood_goup_cleansed, bathrooms, bedrooms, beds, bed_type, number_of_reviews, reviews]\n",
        "X"
      ],
      "metadata": {
        "application/vnd.databricks.v1+cell": {
          "title": "",
          "showTitle": false,
          "inputWidgets": {},
          "nuid": "c5c6049d-c497-4661-9f4a-e53f6bf93677"
        },
        "id": "hHHcSjLfHvPn",
        "colab": {
          "base_uri": "https://localhost:8080/",
          "height": 424
        },
        "outputId": "745d0e56-3d95-4f2d-9582-ab5d23b2206c"
      },
      "outputs": [
        {
          "output_type": "execute_result",
          "data": {
            "text/plain": [
              "      neighbourhood_group_cleansed  bathrooms  bedrooms  beds  bed_type  \\\n",
              "0                        Chamartín        1.0       1.0   0.0  Real Bed   \n",
              "1                           Latina        1.0       1.0   1.0  Real Bed   \n",
              "11                          Centro        1.5       1.0   2.0  Real Bed   \n",
              "12           Fuencarral - El Pardo        1.0       1.0   2.0  Real Bed   \n",
              "26                          Centro        1.5       1.0   1.0  Real Bed   \n",
              "...                            ...        ...       ...   ...       ...   \n",
              "21645           Puente de Vallecas        1.0       NaN   1.0  Real Bed   \n",
              "21660                    Salamanca        2.0       1.0   NaN  Real Bed   \n",
              "21677                       Retiro        1.0       1.0   NaN  Real Bed   \n",
              "21684                Ciudad Lineal        1.0       NaN   1.0  Real Bed   \n",
              "21687                    Chamartín        1.0       0.0   1.0  Real Bed   \n",
              "\n",
              "       number_of_reviews  review_scores_rating  \n",
              "0                     75                  98.0  \n",
              "1                     33                  92.0  \n",
              "11                    78                  91.0  \n",
              "12                    32                  94.0  \n",
              "26                    92                  99.0  \n",
              "...                  ...                   ...  \n",
              "21645                  0                   NaN  \n",
              "21660                  0                   NaN  \n",
              "21677                  0                   NaN  \n",
              "21684                  0                   NaN  \n",
              "21687                  0                   NaN  \n",
              "\n",
              "[4659 rows x 7 columns]"
            ],
            "text/html": [
              "\n",
              "  <div id=\"df-0b438618-94c7-42e1-929a-3ca569131489\">\n",
              "    <div class=\"colab-df-container\">\n",
              "      <div>\n",
              "<style scoped>\n",
              "    .dataframe tbody tr th:only-of-type {\n",
              "        vertical-align: middle;\n",
              "    }\n",
              "\n",
              "    .dataframe tbody tr th {\n",
              "        vertical-align: top;\n",
              "    }\n",
              "\n",
              "    .dataframe thead th {\n",
              "        text-align: right;\n",
              "    }\n",
              "</style>\n",
              "<table border=\"1\" class=\"dataframe\">\n",
              "  <thead>\n",
              "    <tr style=\"text-align: right;\">\n",
              "      <th></th>\n",
              "      <th>neighbourhood_group_cleansed</th>\n",
              "      <th>bathrooms</th>\n",
              "      <th>bedrooms</th>\n",
              "      <th>beds</th>\n",
              "      <th>bed_type</th>\n",
              "      <th>number_of_reviews</th>\n",
              "      <th>review_scores_rating</th>\n",
              "    </tr>\n",
              "  </thead>\n",
              "  <tbody>\n",
              "    <tr>\n",
              "      <th>0</th>\n",
              "      <td>Chamartín</td>\n",
              "      <td>1.0</td>\n",
              "      <td>1.0</td>\n",
              "      <td>0.0</td>\n",
              "      <td>Real Bed</td>\n",
              "      <td>75</td>\n",
              "      <td>98.0</td>\n",
              "    </tr>\n",
              "    <tr>\n",
              "      <th>1</th>\n",
              "      <td>Latina</td>\n",
              "      <td>1.0</td>\n",
              "      <td>1.0</td>\n",
              "      <td>1.0</td>\n",
              "      <td>Real Bed</td>\n",
              "      <td>33</td>\n",
              "      <td>92.0</td>\n",
              "    </tr>\n",
              "    <tr>\n",
              "      <th>11</th>\n",
              "      <td>Centro</td>\n",
              "      <td>1.5</td>\n",
              "      <td>1.0</td>\n",
              "      <td>2.0</td>\n",
              "      <td>Real Bed</td>\n",
              "      <td>78</td>\n",
              "      <td>91.0</td>\n",
              "    </tr>\n",
              "    <tr>\n",
              "      <th>12</th>\n",
              "      <td>Fuencarral - El Pardo</td>\n",
              "      <td>1.0</td>\n",
              "      <td>1.0</td>\n",
              "      <td>2.0</td>\n",
              "      <td>Real Bed</td>\n",
              "      <td>32</td>\n",
              "      <td>94.0</td>\n",
              "    </tr>\n",
              "    <tr>\n",
              "      <th>26</th>\n",
              "      <td>Centro</td>\n",
              "      <td>1.5</td>\n",
              "      <td>1.0</td>\n",
              "      <td>1.0</td>\n",
              "      <td>Real Bed</td>\n",
              "      <td>92</td>\n",
              "      <td>99.0</td>\n",
              "    </tr>\n",
              "    <tr>\n",
              "      <th>...</th>\n",
              "      <td>...</td>\n",
              "      <td>...</td>\n",
              "      <td>...</td>\n",
              "      <td>...</td>\n",
              "      <td>...</td>\n",
              "      <td>...</td>\n",
              "      <td>...</td>\n",
              "    </tr>\n",
              "    <tr>\n",
              "      <th>21645</th>\n",
              "      <td>Puente de Vallecas</td>\n",
              "      <td>1.0</td>\n",
              "      <td>NaN</td>\n",
              "      <td>1.0</td>\n",
              "      <td>Real Bed</td>\n",
              "      <td>0</td>\n",
              "      <td>NaN</td>\n",
              "    </tr>\n",
              "    <tr>\n",
              "      <th>21660</th>\n",
              "      <td>Salamanca</td>\n",
              "      <td>2.0</td>\n",
              "      <td>1.0</td>\n",
              "      <td>NaN</td>\n",
              "      <td>Real Bed</td>\n",
              "      <td>0</td>\n",
              "      <td>NaN</td>\n",
              "    </tr>\n",
              "    <tr>\n",
              "      <th>21677</th>\n",
              "      <td>Retiro</td>\n",
              "      <td>1.0</td>\n",
              "      <td>1.0</td>\n",
              "      <td>NaN</td>\n",
              "      <td>Real Bed</td>\n",
              "      <td>0</td>\n",
              "      <td>NaN</td>\n",
              "    </tr>\n",
              "    <tr>\n",
              "      <th>21684</th>\n",
              "      <td>Ciudad Lineal</td>\n",
              "      <td>1.0</td>\n",
              "      <td>NaN</td>\n",
              "      <td>1.0</td>\n",
              "      <td>Real Bed</td>\n",
              "      <td>0</td>\n",
              "      <td>NaN</td>\n",
              "    </tr>\n",
              "    <tr>\n",
              "      <th>21687</th>\n",
              "      <td>Chamartín</td>\n",
              "      <td>1.0</td>\n",
              "      <td>0.0</td>\n",
              "      <td>1.0</td>\n",
              "      <td>Real Bed</td>\n",
              "      <td>0</td>\n",
              "      <td>NaN</td>\n",
              "    </tr>\n",
              "  </tbody>\n",
              "</table>\n",
              "<p>4659 rows × 7 columns</p>\n",
              "</div>\n",
              "      <button class=\"colab-df-convert\" onclick=\"convertToInteractive('df-0b438618-94c7-42e1-929a-3ca569131489')\"\n",
              "              title=\"Convert this dataframe to an interactive table.\"\n",
              "              style=\"display:none;\">\n",
              "        \n",
              "  <svg xmlns=\"http://www.w3.org/2000/svg\" height=\"24px\"viewBox=\"0 0 24 24\"\n",
              "       width=\"24px\">\n",
              "    <path d=\"M0 0h24v24H0V0z\" fill=\"none\"/>\n",
              "    <path d=\"M18.56 5.44l.94 2.06.94-2.06 2.06-.94-2.06-.94-.94-2.06-.94 2.06-2.06.94zm-11 1L8.5 8.5l.94-2.06 2.06-.94-2.06-.94L8.5 2.5l-.94 2.06-2.06.94zm10 10l.94 2.06.94-2.06 2.06-.94-2.06-.94-.94-2.06-.94 2.06-2.06.94z\"/><path d=\"M17.41 7.96l-1.37-1.37c-.4-.4-.92-.59-1.43-.59-.52 0-1.04.2-1.43.59L10.3 9.45l-7.72 7.72c-.78.78-.78 2.05 0 2.83L4 21.41c.39.39.9.59 1.41.59.51 0 1.02-.2 1.41-.59l7.78-7.78 2.81-2.81c.8-.78.8-2.07 0-2.86zM5.41 20L4 18.59l7.72-7.72 1.47 1.35L5.41 20z\"/>\n",
              "  </svg>\n",
              "      </button>\n",
              "      \n",
              "  <style>\n",
              "    .colab-df-container {\n",
              "      display:flex;\n",
              "      flex-wrap:wrap;\n",
              "      gap: 12px;\n",
              "    }\n",
              "\n",
              "    .colab-df-convert {\n",
              "      background-color: #E8F0FE;\n",
              "      border: none;\n",
              "      border-radius: 50%;\n",
              "      cursor: pointer;\n",
              "      display: none;\n",
              "      fill: #1967D2;\n",
              "      height: 32px;\n",
              "      padding: 0 0 0 0;\n",
              "      width: 32px;\n",
              "    }\n",
              "\n",
              "    .colab-df-convert:hover {\n",
              "      background-color: #E2EBFA;\n",
              "      box-shadow: 0px 1px 2px rgba(60, 64, 67, 0.3), 0px 1px 3px 1px rgba(60, 64, 67, 0.15);\n",
              "      fill: #174EA6;\n",
              "    }\n",
              "\n",
              "    [theme=dark] .colab-df-convert {\n",
              "      background-color: #3B4455;\n",
              "      fill: #D2E3FC;\n",
              "    }\n",
              "\n",
              "    [theme=dark] .colab-df-convert:hover {\n",
              "      background-color: #434B5C;\n",
              "      box-shadow: 0px 1px 3px 1px rgba(0, 0, 0, 0.15);\n",
              "      filter: drop-shadow(0px 1px 2px rgba(0, 0, 0, 0.3));\n",
              "      fill: #FFFFFF;\n",
              "    }\n",
              "  </style>\n",
              "\n",
              "      <script>\n",
              "        const buttonEl =\n",
              "          document.querySelector('#df-0b438618-94c7-42e1-929a-3ca569131489 button.colab-df-convert');\n",
              "        buttonEl.style.display =\n",
              "          google.colab.kernel.accessAllowed ? 'block' : 'none';\n",
              "\n",
              "        async function convertToInteractive(key) {\n",
              "          const element = document.querySelector('#df-0b438618-94c7-42e1-929a-3ca569131489');\n",
              "          const dataTable =\n",
              "            await google.colab.kernel.invokeFunction('convertToInteractive',\n",
              "                                                     [key], {});\n",
              "          if (!dataTable) return;\n",
              "\n",
              "          const docLinkHtml = 'Like what you see? Visit the ' +\n",
              "            '<a target=\"_blank\" href=https://colab.research.google.com/notebooks/data_table.ipynb>data table notebook</a>'\n",
              "            + ' to learn more about interactive tables.';\n",
              "          element.innerHTML = '';\n",
              "          dataTable['output_type'] = 'display_data';\n",
              "          await google.colab.output.renderOutput(dataTable, element);\n",
              "          const docLink = document.createElement('div');\n",
              "          docLink.innerHTML = docLinkHtml;\n",
              "          element.appendChild(docLink);\n",
              "        }\n",
              "      </script>\n",
              "    </div>\n",
              "  </div>\n",
              "  "
            ]
          },
          "metadata": {},
          "execution_count": 30
        }
      ],
      "execution_count": 30
    },
    {
      "cell_type": "markdown",
      "source": [
        "#### 2.2 Imputación y Escalamiento (variables numéricas) y One-Hot-Encoding (variables categóricas)"
      ],
      "metadata": {
        "application/vnd.databricks.v1+cell": {
          "title": "",
          "showTitle": false,
          "inputWidgets": {},
          "nuid": "4cffd107-86ff-48a8-bb56-e8e0d4e5ac68"
        },
        "id": "VXRPxoCkHvPn"
      }
    },
    {
      "cell_type": "code",
      "source": [
        "# Selección de la etiqueta de variables numéricas\n",
        "X_num = X.select_dtypes(include=np.number).columns\n",
        "print(X_num)"
      ],
      "metadata": {
        "application/vnd.databricks.v1+cell": {
          "title": "",
          "showTitle": false,
          "inputWidgets": {},
          "nuid": "67576057-b276-408b-b57a-021ae1481247"
        },
        "colab": {
          "base_uri": "https://localhost:8080/"
        },
        "id": "lDxrMJTMHvPn",
        "outputId": "8ee41027-33be-421d-8919-e69ae91f2967"
      },
      "outputs": [
        {
          "output_type": "stream",
          "name": "stdout",
          "text": [
            "Index(['bathrooms', 'bedrooms', 'beds', 'number_of_reviews',\n",
            "       'review_scores_rating'],\n",
            "      dtype='object')\n"
          ]
        }
      ],
      "execution_count": 31
    },
    {
      "cell_type": "code",
      "source": [
        "# Selección de la etiqueta de variables categóricas\n",
        "X_cat = X.select_dtypes(include=object).columns\n",
        "print(X_cat)"
      ],
      "metadata": {
        "application/vnd.databricks.v1+cell": {
          "title": "",
          "showTitle": false,
          "inputWidgets": {},
          "nuid": "e71f6a87-fe81-4b5e-9765-132c47e3522f"
        },
        "colab": {
          "base_uri": "https://localhost:8080/"
        },
        "id": "w9vcoioOHvPn",
        "outputId": "d69b416b-2c4e-4334-e09f-74edf4d55713"
      },
      "outputs": [
        {
          "output_type": "stream",
          "name": "stdout",
          "text": [
            "Index(['neighbourhood_group_cleansed', 'bed_type'], dtype='object')\n"
          ]
        }
      ],
      "execution_count": 33
    },
    {
      "cell_type": "code",
      "source": [
        "# Creación de un Pipeline para transformar variables numéricas y categóricas\n",
        "numeric_transformer = Pipeline(steps=[\n",
        "  ('imputer', SimpleImputer(strategy='median')),  #Para los datos vacios vamos a llenarlos con la media\n",
        "  ('scaler', MinMaxScaler(feature_range=(0, 1)))])  # una vez hecho hacer un escalamiento entre minimo y maximo sean 0 o 1\n",
        "\n",
        "categorical_transformer = Pipeline(steps=[\n",
        "  ('onehot', OneHotEncoder(handle_unknown='ignore'))]) # One hot encoder transforma los valores categoricos en numeros.  ej azul 1, rojo 2, amarillo 3.  Luego hace escalamiento 1 = 0.33, 2 = 0.66, 3 = 1"
      ],
      "metadata": {
        "application/vnd.databricks.v1+cell": {
          "title": "",
          "showTitle": false,
          "inputWidgets": {},
          "nuid": "49f8c25a-4032-4f71-855b-2964086380a8"
        },
        "id": "Il3APAgfHvPn"
      },
      "outputs": [],
      "execution_count": null
    },
    {
      "cell_type": "code",
      "source": [
        "# Delimitar el procesamiento de variables\n",
        "preprocessor = ColumnTransformer(\n",
        "    transformers=[\n",
        "        ('num', numeric_transformer, X_num),\n",
        "        ('cat', categorical_transformer, X_cat)])"
      ],
      "metadata": {
        "application/vnd.databricks.v1+cell": {
          "title": "",
          "showTitle": false,
          "inputWidgets": {},
          "nuid": "118ee64f-9ac9-45be-81c2-1a593de6393a"
        },
        "id": "27W0BSgnHvPn"
      },
      "outputs": [],
      "execution_count": null
    },
    {
      "cell_type": "code",
      "source": [
        "# Aplicar el procesamiento (transformación de los datos)\n",
        "X_prep = preprocessor.fit_transform(X).toarray()\n",
        "X_prep"
      ],
      "metadata": {
        "application/vnd.databricks.v1+cell": {
          "title": "",
          "showTitle": false,
          "inputWidgets": {},
          "nuid": "775a4622-b416-4b60-a75d-e962e4289dcc"
        },
        "colab": {
          "base_uri": "https://localhost:8080/"
        },
        "id": "3QBNhJ6NHvPq",
        "outputId": "210a5460-aae0-4d5e-fd18-5ff691eb210c"
      },
      "outputs": [
        {
          "output_type": "execute_result",
          "data": {
            "text/plain": [
              "array([[0.06666667, 0.06666667, 0.        , ..., 0.        , 0.        ,\n",
              "        1.        ],\n",
              "       [0.06666667, 0.06666667, 0.06666667, ..., 0.        , 0.        ,\n",
              "        1.        ],\n",
              "       [0.1       , 0.06666667, 0.13333333, ..., 0.        , 0.        ,\n",
              "        1.        ],\n",
              "       ...,\n",
              "       [0.06666667, 0.06666667, 0.06666667, ..., 0.        , 0.        ,\n",
              "        1.        ],\n",
              "       [0.06666667, 0.06666667, 0.06666667, ..., 0.        , 0.        ,\n",
              "        1.        ],\n",
              "       [0.06666667, 0.        , 0.06666667, ..., 0.        , 0.        ,\n",
              "        1.        ]])"
            ]
          },
          "metadata": {},
          "execution_count": 29
        }
      ],
      "execution_count": null
    },
    {
      "cell_type": "markdown",
      "source": [
        "#### 2.3 Exportar datos procesados"
      ],
      "metadata": {
        "application/vnd.databricks.v1+cell": {
          "title": "",
          "showTitle": false,
          "inputWidgets": {},
          "nuid": "0b916482-42d7-40a4-9de2-0d3873117096"
        },
        "id": "5T0ikzZuHvPq"
      }
    },
    {
      "cell_type": "markdown",
      "source": [
        "Creación de un nuevo DataFrame con los arreglos n-dimensionales"
      ],
      "metadata": {
        "application/vnd.databricks.v1+cell": {
          "title": "",
          "showTitle": false,
          "inputWidgets": {},
          "nuid": "b3fcd892-df57-455d-b4f7-385f2a7f6cff"
        },
        "id": "C8GZmIOKHvPq"
      }
    },
    {
      "cell_type": "code",
      "source": [
        "# Crear una lista con los nombres de las variables numéricas\n",
        "name_num_prep = X_num.tolist()\n",
        "print(name_num_prep)"
      ],
      "metadata": {
        "application/vnd.databricks.v1+cell": {
          "title": "",
          "showTitle": false,
          "inputWidgets": {},
          "nuid": "8c411e7d-dd1a-46dc-b272-ebf07fc9fdcc"
        },
        "colab": {
          "base_uri": "https://localhost:8080/"
        },
        "id": "IAr4wy11HvPq",
        "outputId": "78133b2f-341e-4b6a-de98-82d50628cf4b"
      },
      "outputs": [
        {
          "output_type": "stream",
          "name": "stdout",
          "text": [
            "['bathrooms', 'bedrooms', 'beds', 'number_of_reviews', 'review_scores_rating']\n"
          ]
        }
      ],
      "execution_count": null
    },
    {
      "cell_type": "code",
      "source": [
        "# Crear una lista con los nombres de las variables categóricas\n",
        "name_cat_prep = preprocessor.named_transformers_['cat'].named_steps['onehot'].get_feature_names_out().tolist()\n",
        "print(name_cat_prep)"
      ],
      "metadata": {
        "application/vnd.databricks.v1+cell": {
          "title": "",
          "showTitle": false,
          "inputWidgets": {},
          "nuid": "e723f571-d7c4-42b7-9309-3ad77ff8ae78"
        },
        "colab": {
          "base_uri": "https://localhost:8080/"
        },
        "id": "5ZRU0DrWHvPq",
        "outputId": "5c0b3539-d0a2-4f68-c10d-358ec4a286d1"
      },
      "outputs": [
        {
          "output_type": "stream",
          "name": "stdout",
          "text": [
            "['neighbourhood_group_cleansed_Arganzuela', 'neighbourhood_group_cleansed_Barajas', 'neighbourhood_group_cleansed_Carabanchel', 'neighbourhood_group_cleansed_Centro', 'neighbourhood_group_cleansed_Chamartín', 'neighbourhood_group_cleansed_Chamberí', 'neighbourhood_group_cleansed_Ciudad Lineal', 'neighbourhood_group_cleansed_Fuencarral - El Pardo', 'neighbourhood_group_cleansed_Hortaleza', 'neighbourhood_group_cleansed_Latina', 'neighbourhood_group_cleansed_Moncloa - Aravaca', 'neighbourhood_group_cleansed_Moratalaz', 'neighbourhood_group_cleansed_Puente de Vallecas', 'neighbourhood_group_cleansed_Retiro', 'neighbourhood_group_cleansed_Salamanca', 'neighbourhood_group_cleansed_San Blas - Canillejas', 'neighbourhood_group_cleansed_Tetuán', 'neighbourhood_group_cleansed_Usera', 'neighbourhood_group_cleansed_Vicálvaro', 'neighbourhood_group_cleansed_Villa de Vallecas', 'neighbourhood_group_cleansed_Villaverde', 'bed_type_Airbed', 'bed_type_Couch', 'bed_type_Futon', 'bed_type_Pull-out Sofa', 'bed_type_Real Bed']\n"
          ]
        }
      ],
      "execution_count": null
    },
    {
      "cell_type": "code",
      "source": [
        "#  Creación de un listado de nombres de las columnas\n",
        "nombres_columnas = ['price'] + name_num_prep + name_cat_prep\n",
        "print(nombres_columnas)"
      ],
      "metadata": {
        "application/vnd.databricks.v1+cell": {
          "title": "",
          "showTitle": false,
          "inputWidgets": {},
          "nuid": "7a01fd5b-f5ce-40ff-a7d4-85dbaa950f3a"
        },
        "colab": {
          "base_uri": "https://localhost:8080/"
        },
        "id": "Bl3tOu-6HvPr",
        "outputId": "84a318ae-4053-40f9-fdbb-54a51d516a83"
      },
      "outputs": [
        {
          "output_type": "stream",
          "name": "stdout",
          "text": [
            "['price', 'bathrooms', 'bedrooms', 'beds', 'number_of_reviews', 'review_scores_rating', 'neighbourhood_group_cleansed_Arganzuela', 'neighbourhood_group_cleansed_Barajas', 'neighbourhood_group_cleansed_Carabanchel', 'neighbourhood_group_cleansed_Centro', 'neighbourhood_group_cleansed_Chamartín', 'neighbourhood_group_cleansed_Chamberí', 'neighbourhood_group_cleansed_Ciudad Lineal', 'neighbourhood_group_cleansed_Fuencarral - El Pardo', 'neighbourhood_group_cleansed_Hortaleza', 'neighbourhood_group_cleansed_Latina', 'neighbourhood_group_cleansed_Moncloa - Aravaca', 'neighbourhood_group_cleansed_Moratalaz', 'neighbourhood_group_cleansed_Puente de Vallecas', 'neighbourhood_group_cleansed_Retiro', 'neighbourhood_group_cleansed_Salamanca', 'neighbourhood_group_cleansed_San Blas - Canillejas', 'neighbourhood_group_cleansed_Tetuán', 'neighbourhood_group_cleansed_Usera', 'neighbourhood_group_cleansed_Vicálvaro', 'neighbourhood_group_cleansed_Villa de Vallecas', 'neighbourhood_group_cleansed_Villaverde', 'bed_type_Airbed', 'bed_type_Couch', 'bed_type_Futon', 'bed_type_Pull-out Sofa', 'bed_type_Real Bed']\n"
          ]
        }
      ],
      "execution_count": null
    },
    {
      "cell_type": "code",
      "source": [
        "# Creación de un DataFrame con los datos procesados\n",
        "df_final = pd.DataFrame(data=np.c_[y, X_prep], columns=nombres_columnas)\n",
        "df_final.head()"
      ],
      "metadata": {
        "application/vnd.databricks.v1+cell": {
          "title": "",
          "showTitle": false,
          "inputWidgets": {},
          "nuid": "6b18f36b-e61f-40b4-90c5-640e11604e60"
        },
        "colab": {
          "base_uri": "https://localhost:8080/",
          "height": 287
        },
        "id": "nvHLIHUvHvPr",
        "outputId": "b6669a04-175b-4fe0-a6ef-5c49b0bc14d2"
      },
      "outputs": [
        {
          "output_type": "execute_result",
          "data": {
            "text/html": [
              "\n",
              "  <div id=\"df-baa04551-71ec-4832-be30-c16df79a235e\">\n",
              "    <div class=\"colab-df-container\">\n",
              "      <div>\n",
              "<style scoped>\n",
              "    .dataframe tbody tr th:only-of-type {\n",
              "        vertical-align: middle;\n",
              "    }\n",
              "\n",
              "    .dataframe tbody tr th {\n",
              "        vertical-align: top;\n",
              "    }\n",
              "\n",
              "    .dataframe thead th {\n",
              "        text-align: right;\n",
              "    }\n",
              "</style>\n",
              "<table border=\"1\" class=\"dataframe\">\n",
              "  <thead>\n",
              "    <tr style=\"text-align: right;\">\n",
              "      <th></th>\n",
              "      <th>price</th>\n",
              "      <th>bathrooms</th>\n",
              "      <th>bedrooms</th>\n",
              "      <th>beds</th>\n",
              "      <th>number_of_reviews</th>\n",
              "      <th>review_scores_rating</th>\n",
              "      <th>neighbourhood_group_cleansed_Arganzuela</th>\n",
              "      <th>neighbourhood_group_cleansed_Barajas</th>\n",
              "      <th>neighbourhood_group_cleansed_Carabanchel</th>\n",
              "      <th>neighbourhood_group_cleansed_Centro</th>\n",
              "      <th>neighbourhood_group_cleansed_Chamartín</th>\n",
              "      <th>neighbourhood_group_cleansed_Chamberí</th>\n",
              "      <th>neighbourhood_group_cleansed_Ciudad Lineal</th>\n",
              "      <th>neighbourhood_group_cleansed_Fuencarral - El Pardo</th>\n",
              "      <th>neighbourhood_group_cleansed_Hortaleza</th>\n",
              "      <th>neighbourhood_group_cleansed_Latina</th>\n",
              "      <th>neighbourhood_group_cleansed_Moncloa - Aravaca</th>\n",
              "      <th>neighbourhood_group_cleansed_Moratalaz</th>\n",
              "      <th>neighbourhood_group_cleansed_Puente de Vallecas</th>\n",
              "      <th>neighbourhood_group_cleansed_Retiro</th>\n",
              "      <th>neighbourhood_group_cleansed_Salamanca</th>\n",
              "      <th>neighbourhood_group_cleansed_San Blas - Canillejas</th>\n",
              "      <th>neighbourhood_group_cleansed_Tetuán</th>\n",
              "      <th>neighbourhood_group_cleansed_Usera</th>\n",
              "      <th>neighbourhood_group_cleansed_Vicálvaro</th>\n",
              "      <th>neighbourhood_group_cleansed_Villa de Vallecas</th>\n",
              "      <th>neighbourhood_group_cleansed_Villaverde</th>\n",
              "      <th>bed_type_Airbed</th>\n",
              "      <th>bed_type_Couch</th>\n",
              "      <th>bed_type_Futon</th>\n",
              "      <th>bed_type_Pull-out Sofa</th>\n",
              "      <th>bed_type_Real Bed</th>\n",
              "    </tr>\n",
              "  </thead>\n",
              "  <tbody>\n",
              "    <tr>\n",
              "      <th>0</th>\n",
              "      <td>70.0</td>\n",
              "      <td>0.066667</td>\n",
              "      <td>0.066667</td>\n",
              "      <td>0.000000</td>\n",
              "      <td>0.116641</td>\n",
              "      <td>0.9750</td>\n",
              "      <td>0.0</td>\n",
              "      <td>0.0</td>\n",
              "      <td>0.0</td>\n",
              "      <td>0.0</td>\n",
              "      <td>1.0</td>\n",
              "      <td>0.0</td>\n",
              "      <td>0.0</td>\n",
              "      <td>0.0</td>\n",
              "      <td>0.0</td>\n",
              "      <td>0.0</td>\n",
              "      <td>0.0</td>\n",
              "      <td>0.0</td>\n",
              "      <td>0.0</td>\n",
              "      <td>0.0</td>\n",
              "      <td>0.0</td>\n",
              "      <td>0.0</td>\n",
              "      <td>0.0</td>\n",
              "      <td>0.0</td>\n",
              "      <td>0.0</td>\n",
              "      <td>0.0</td>\n",
              "      <td>0.0</td>\n",
              "      <td>0.0</td>\n",
              "      <td>0.0</td>\n",
              "      <td>0.0</td>\n",
              "      <td>0.0</td>\n",
              "      <td>1.0</td>\n",
              "    </tr>\n",
              "    <tr>\n",
              "      <th>1</th>\n",
              "      <td>30.0</td>\n",
              "      <td>0.066667</td>\n",
              "      <td>0.066667</td>\n",
              "      <td>0.066667</td>\n",
              "      <td>0.051322</td>\n",
              "      <td>0.9000</td>\n",
              "      <td>0.0</td>\n",
              "      <td>0.0</td>\n",
              "      <td>0.0</td>\n",
              "      <td>0.0</td>\n",
              "      <td>0.0</td>\n",
              "      <td>0.0</td>\n",
              "      <td>0.0</td>\n",
              "      <td>0.0</td>\n",
              "      <td>0.0</td>\n",
              "      <td>1.0</td>\n",
              "      <td>0.0</td>\n",
              "      <td>0.0</td>\n",
              "      <td>0.0</td>\n",
              "      <td>0.0</td>\n",
              "      <td>0.0</td>\n",
              "      <td>0.0</td>\n",
              "      <td>0.0</td>\n",
              "      <td>0.0</td>\n",
              "      <td>0.0</td>\n",
              "      <td>0.0</td>\n",
              "      <td>0.0</td>\n",
              "      <td>0.0</td>\n",
              "      <td>0.0</td>\n",
              "      <td>0.0</td>\n",
              "      <td>0.0</td>\n",
              "      <td>1.0</td>\n",
              "    </tr>\n",
              "    <tr>\n",
              "      <th>2</th>\n",
              "      <td>45.0</td>\n",
              "      <td>0.100000</td>\n",
              "      <td>0.066667</td>\n",
              "      <td>0.133333</td>\n",
              "      <td>0.121306</td>\n",
              "      <td>0.8875</td>\n",
              "      <td>0.0</td>\n",
              "      <td>0.0</td>\n",
              "      <td>0.0</td>\n",
              "      <td>1.0</td>\n",
              "      <td>0.0</td>\n",
              "      <td>0.0</td>\n",
              "      <td>0.0</td>\n",
              "      <td>0.0</td>\n",
              "      <td>0.0</td>\n",
              "      <td>0.0</td>\n",
              "      <td>0.0</td>\n",
              "      <td>0.0</td>\n",
              "      <td>0.0</td>\n",
              "      <td>0.0</td>\n",
              "      <td>0.0</td>\n",
              "      <td>0.0</td>\n",
              "      <td>0.0</td>\n",
              "      <td>0.0</td>\n",
              "      <td>0.0</td>\n",
              "      <td>0.0</td>\n",
              "      <td>0.0</td>\n",
              "      <td>0.0</td>\n",
              "      <td>0.0</td>\n",
              "      <td>0.0</td>\n",
              "      <td>0.0</td>\n",
              "      <td>1.0</td>\n",
              "    </tr>\n",
              "    <tr>\n",
              "      <th>3</th>\n",
              "      <td>20.0</td>\n",
              "      <td>0.066667</td>\n",
              "      <td>0.066667</td>\n",
              "      <td>0.133333</td>\n",
              "      <td>0.049767</td>\n",
              "      <td>0.9250</td>\n",
              "      <td>0.0</td>\n",
              "      <td>0.0</td>\n",
              "      <td>0.0</td>\n",
              "      <td>0.0</td>\n",
              "      <td>0.0</td>\n",
              "      <td>0.0</td>\n",
              "      <td>0.0</td>\n",
              "      <td>1.0</td>\n",
              "      <td>0.0</td>\n",
              "      <td>0.0</td>\n",
              "      <td>0.0</td>\n",
              "      <td>0.0</td>\n",
              "      <td>0.0</td>\n",
              "      <td>0.0</td>\n",
              "      <td>0.0</td>\n",
              "      <td>0.0</td>\n",
              "      <td>0.0</td>\n",
              "      <td>0.0</td>\n",
              "      <td>0.0</td>\n",
              "      <td>0.0</td>\n",
              "      <td>0.0</td>\n",
              "      <td>0.0</td>\n",
              "      <td>0.0</td>\n",
              "      <td>0.0</td>\n",
              "      <td>0.0</td>\n",
              "      <td>1.0</td>\n",
              "    </tr>\n",
              "    <tr>\n",
              "      <th>4</th>\n",
              "      <td>55.0</td>\n",
              "      <td>0.100000</td>\n",
              "      <td>0.066667</td>\n",
              "      <td>0.066667</td>\n",
              "      <td>0.143079</td>\n",
              "      <td>0.9875</td>\n",
              "      <td>0.0</td>\n",
              "      <td>0.0</td>\n",
              "      <td>0.0</td>\n",
              "      <td>1.0</td>\n",
              "      <td>0.0</td>\n",
              "      <td>0.0</td>\n",
              "      <td>0.0</td>\n",
              "      <td>0.0</td>\n",
              "      <td>0.0</td>\n",
              "      <td>0.0</td>\n",
              "      <td>0.0</td>\n",
              "      <td>0.0</td>\n",
              "      <td>0.0</td>\n",
              "      <td>0.0</td>\n",
              "      <td>0.0</td>\n",
              "      <td>0.0</td>\n",
              "      <td>0.0</td>\n",
              "      <td>0.0</td>\n",
              "      <td>0.0</td>\n",
              "      <td>0.0</td>\n",
              "      <td>0.0</td>\n",
              "      <td>0.0</td>\n",
              "      <td>0.0</td>\n",
              "      <td>0.0</td>\n",
              "      <td>0.0</td>\n",
              "      <td>1.0</td>\n",
              "    </tr>\n",
              "  </tbody>\n",
              "</table>\n",
              "</div>\n",
              "      <button class=\"colab-df-convert\" onclick=\"convertToInteractive('df-baa04551-71ec-4832-be30-c16df79a235e')\"\n",
              "              title=\"Convert this dataframe to an interactive table.\"\n",
              "              style=\"display:none;\">\n",
              "        \n",
              "  <svg xmlns=\"http://www.w3.org/2000/svg\" height=\"24px\"viewBox=\"0 0 24 24\"\n",
              "       width=\"24px\">\n",
              "    <path d=\"M0 0h24v24H0V0z\" fill=\"none\"/>\n",
              "    <path d=\"M18.56 5.44l.94 2.06.94-2.06 2.06-.94-2.06-.94-.94-2.06-.94 2.06-2.06.94zm-11 1L8.5 8.5l.94-2.06 2.06-.94-2.06-.94L8.5 2.5l-.94 2.06-2.06.94zm10 10l.94 2.06.94-2.06 2.06-.94-2.06-.94-.94-2.06-.94 2.06-2.06.94z\"/><path d=\"M17.41 7.96l-1.37-1.37c-.4-.4-.92-.59-1.43-.59-.52 0-1.04.2-1.43.59L10.3 9.45l-7.72 7.72c-.78.78-.78 2.05 0 2.83L4 21.41c.39.39.9.59 1.41.59.51 0 1.02-.2 1.41-.59l7.78-7.78 2.81-2.81c.8-.78.8-2.07 0-2.86zM5.41 20L4 18.59l7.72-7.72 1.47 1.35L5.41 20z\"/>\n",
              "  </svg>\n",
              "      </button>\n",
              "      \n",
              "  <style>\n",
              "    .colab-df-container {\n",
              "      display:flex;\n",
              "      flex-wrap:wrap;\n",
              "      gap: 12px;\n",
              "    }\n",
              "\n",
              "    .colab-df-convert {\n",
              "      background-color: #E8F0FE;\n",
              "      border: none;\n",
              "      border-radius: 50%;\n",
              "      cursor: pointer;\n",
              "      display: none;\n",
              "      fill: #1967D2;\n",
              "      height: 32px;\n",
              "      padding: 0 0 0 0;\n",
              "      width: 32px;\n",
              "    }\n",
              "\n",
              "    .colab-df-convert:hover {\n",
              "      background-color: #E2EBFA;\n",
              "      box-shadow: 0px 1px 2px rgba(60, 64, 67, 0.3), 0px 1px 3px 1px rgba(60, 64, 67, 0.15);\n",
              "      fill: #174EA6;\n",
              "    }\n",
              "\n",
              "    [theme=dark] .colab-df-convert {\n",
              "      background-color: #3B4455;\n",
              "      fill: #D2E3FC;\n",
              "    }\n",
              "\n",
              "    [theme=dark] .colab-df-convert:hover {\n",
              "      background-color: #434B5C;\n",
              "      box-shadow: 0px 1px 3px 1px rgba(0, 0, 0, 0.15);\n",
              "      filter: drop-shadow(0px 1px 2px rgba(0, 0, 0, 0.3));\n",
              "      fill: #FFFFFF;\n",
              "    }\n",
              "  </style>\n",
              "\n",
              "      <script>\n",
              "        const buttonEl =\n",
              "          document.querySelector('#df-baa04551-71ec-4832-be30-c16df79a235e button.colab-df-convert');\n",
              "        buttonEl.style.display =\n",
              "          google.colab.kernel.accessAllowed ? 'block' : 'none';\n",
              "\n",
              "        async function convertToInteractive(key) {\n",
              "          const element = document.querySelector('#df-baa04551-71ec-4832-be30-c16df79a235e');\n",
              "          const dataTable =\n",
              "            await google.colab.kernel.invokeFunction('convertToInteractive',\n",
              "                                                     [key], {});\n",
              "          if (!dataTable) return;\n",
              "\n",
              "          const docLinkHtml = 'Like what you see? Visit the ' +\n",
              "            '<a target=\"_blank\" href=https://colab.research.google.com/notebooks/data_table.ipynb>data table notebook</a>'\n",
              "            + ' to learn more about interactive tables.';\n",
              "          element.innerHTML = '';\n",
              "          dataTable['output_type'] = 'display_data';\n",
              "          await google.colab.output.renderOutput(dataTable, element);\n",
              "          const docLink = document.createElement('div');\n",
              "          docLink.innerHTML = docLinkHtml;\n",
              "          element.appendChild(docLink);\n",
              "        }\n",
              "      </script>\n",
              "    </div>\n",
              "  </div>\n",
              "  "
            ],
            "text/plain": [
              "   price  bathrooms  ...  bed_type_Pull-out Sofa  bed_type_Real Bed\n",
              "0   70.0   0.066667  ...                     0.0                1.0\n",
              "1   30.0   0.066667  ...                     0.0                1.0\n",
              "2   45.0   0.100000  ...                     0.0                1.0\n",
              "3   20.0   0.066667  ...                     0.0                1.0\n",
              "4   55.0   0.100000  ...                     0.0                1.0\n",
              "\n",
              "[5 rows x 32 columns]"
            ]
          },
          "metadata": {},
          "execution_count": 33
        }
      ],
      "execution_count": null
    },
    {
      "cell_type": "code",
      "source": [
        "df_final.to_csv('./datos_limpios_Airbnb.csv', index=True, sep = ',', decimal='.', encoding='utf-8')"
      ],
      "metadata": {
        "application/vnd.databricks.v1+cell": {
          "title": "",
          "showTitle": false,
          "inputWidgets": {},
          "nuid": "112f92cf-1da3-4b71-8ef6-9bb5acb681ac"
        },
        "id": "s2crnlAjHvPr"
      },
      "outputs": [],
      "execution_count": null
    },
    {
      "cell_type": "markdown",
      "source": [
        "<div style=\"text-align: center; line-height: 0; padding-top: 9px;\">\n",
        "  <img src=\"https://storage.googleapis.com/datasets-academy/public-img/notebooks/headers/databits-footer-notebook.png\" alt=\"Databricks Learning\" style=\"width: 100%;\">\n",
        "</div>"
      ],
      "metadata": {
        "application/vnd.databricks.v1+cell": {
          "title": "",
          "showTitle": false,
          "inputWidgets": {},
          "nuid": "f87329cf-21b2-4df1-a941-2afe9fa754de"
        },
        "id": "8IFEU2jHHvPr"
      }
    }
  ],
  "metadata": {
    "language_info": {
      "mimetype": "text/x-python",
      "name": "python",
      "pygments_lexer": "ipython3",
      "codemirror_mode": {
        "name": "ipython",
        "version": 3
      },
      "version": "3.7.4",
      "nbconvert_exporter": "python",
      "file_extension": ".py"
    },
    "name": "Cap 1 - Perfilamiento",
    "notebookId": 2033241813376627,
    "kernelspec": {
      "display_name": "Python 3",
      "language": "python",
      "name": "python3"
    },
    "application/vnd.databricks.v1+notebook": {
      "notebookName": "00 Limpieza y preparación de los datos",
      "dashboards": [],
      "notebookMetadata": {
        "pythonIndentUnit": 2
      },
      "language": "python",
      "widgets": {},
      "notebookOrigID": 1959040389592824
    },
    "colab": {
      "provenance": [],
      "collapsed_sections": [],
      "include_colab_link": true
    }
  },
  "nbformat": 4,
  "nbformat_minor": 0
}