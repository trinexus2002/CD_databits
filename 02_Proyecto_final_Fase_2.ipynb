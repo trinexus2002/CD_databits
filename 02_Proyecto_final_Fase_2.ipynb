{
  "cells": [
    {
      "cell_type": "markdown",
      "metadata": {
        "id": "view-in-github",
        "colab_type": "text"
      },
      "source": [
        "<a href=\"https://colab.research.google.com/github/trinexus2002/CD_databits/blob/main/02_Proyecto_final_Fase_2.ipynb\" target=\"_parent\"><img src=\"https://colab.research.google.com/assets/colab-badge.svg\" alt=\"Open In Colab\"/></a>"
      ]
    },
    {
      "cell_type": "markdown",
      "source": [
        "<div style=\"text-align: center; line-height: 0; padding-top: 9px;\">\n",
        "  <img src=\"https://storage.googleapis.com/datasets-academy/public-img/notebooks/headers/databits-header-notebook.png\" alt=\"Databricks Learning\" style=\"width: 100%;\">\n",
        "</div>"
      ],
      "metadata": {
        "application/vnd.databricks.v1+cell": {
          "title": "",
          "showTitle": false,
          "inputWidgets": {},
          "nuid": "ee6a5c99-5d71-43b3-b72a-0f15ac832334"
        },
        "id": "KhUoJAJRn3CO"
      }
    },
    {
      "cell_type": "markdown",
      "source": [
        "# <center>  Proyecto Final - Fase 2  </center>\n",
        "\n",
        "## Descripción\n",
        "- En esta sección se ejecutará el preprocesamiento e ingeniería de variable en los datos de entrenamiento\n",
        "- Además, se estimará por medio de la Regresión Logística la probabilidad de default en los datos de test (modelo de línea base)\n",
        "  \n",
        "<img alt=\"Caution\" title=\"Caution\" style=\"vertical-align: text-bottom; position: relative; height:1.3em; top:0.0em\" src=\"https://storage.googleapis.com/datasets-academy/public-img/notebooks/icons/danger.png\"/> **Disclaimer:** Este material ha sido preparado por el equipo de **handytec Academy®**. Se prohibe la publicación o reproducción de este material sin previa autorización de **handytec Academy®** - 2022 Todos los derechos reservados."
      ],
      "metadata": {
        "application/vnd.databricks.v1+cell": {
          "title": "",
          "showTitle": false,
          "inputWidgets": {},
          "nuid": "1fdc9d5c-4504-4078-a75f-098e443eb2ff"
        },
        "id": "FUGmjPRin3CU"
      }
    },
    {
      "cell_type": "markdown",
      "source": [
        "## Problema de negocio"
      ],
      "metadata": {
        "application/vnd.databricks.v1+cell": {
          "title": "",
          "showTitle": false,
          "inputWidgets": {},
          "nuid": "04a14081-59ce-4add-acb6-9ab66ece8b2e"
        },
        "id": "tyRus49zn3CW"
      }
    },
    {
      "cell_type": "markdown",
      "source": [
        "Un problema imperante en el entorno bancario a nivel global se enfoca en el riesgo crediticio o riesgo de impago. \n",
        "  \n",
        "Este aspecto hace refencia a las pérdidas que incurren los bancos dado que los prestamistas son incapaces de devolver los créditos otorgados. \n",
        "\n",
        "Lo cual conlleva la siguiente pregunta: **¿Cómo poder reducir el número de personas que caen en mora crediticia?** \n",
        "  \n",
        "Aspecto que se aborda a continuación."
      ],
      "metadata": {
        "application/vnd.databricks.v1+cell": {
          "title": "",
          "showTitle": false,
          "inputWidgets": {},
          "nuid": "f9e2027e-348b-4f84-9a48-a35c03242d3b"
        },
        "id": "g5YwOgkJn3CW"
      }
    },
    {
      "cell_type": "markdown",
      "source": [
        "## Objetivos del proyecto"
      ],
      "metadata": {
        "application/vnd.databricks.v1+cell": {
          "title": "",
          "showTitle": false,
          "inputWidgets": {},
          "nuid": "9da42ca7-353e-483e-9f3c-8b8b2cec9967"
        },
        "id": "HcIJn22mn3CY"
      }
    },
    {
      "cell_type": "markdown",
      "source": [
        "El objetivo de este proyecto es construir un modelo que los prestatarios puedan usar para ayudar a tomar las mejores decisiones financieras.\n",
        "\n",
        "Mediante el uso de diferentes algoritmos se obtendrá la probabilidad de impago en cada individuo. El principal indicador que se va usar para ver la bonanza de los distintos modelos va a ser el AUC (Area Under the Curve) generado por las curvas ROC."
      ],
      "metadata": {
        "application/vnd.databricks.v1+cell": {
          "title": "",
          "showTitle": false,
          "inputWidgets": {},
          "nuid": "32ce9f43-46ef-4a66-970b-13aaf2ff18ca"
        },
        "id": "A0tXyBb1n3CY"
      }
    },
    {
      "cell_type": "markdown",
      "source": [
        "## Importar librerías y verificar versiones"
      ],
      "metadata": {
        "application/vnd.databricks.v1+cell": {
          "title": "",
          "showTitle": false,
          "inputWidgets": {},
          "nuid": "226018b0-7d38-4bdc-8eae-7e63b7e9a90c"
        },
        "id": "E-zXW4DWn3CZ"
      }
    },
    {
      "cell_type": "code",
      "source": [
        "import sys\n",
        "import numpy as np\n",
        "import pandas as pd\n",
        "import sklearn as sk\n",
        "# Librerías para visualización\n",
        "import seaborn as sns\n",
        "import matplotlib\n",
        "import matplotlib.pyplot as plt"
      ],
      "metadata": {
        "application/vnd.databricks.v1+cell": {
          "title": "",
          "showTitle": false,
          "inputWidgets": {},
          "nuid": "36d0f29c-b8df-49a1-92cd-6e37430e0adb"
        },
        "id": "s9p8Wx2ln3Cb"
      },
      "outputs": [],
      "execution_count": 1
    },
    {
      "cell_type": "code",
      "source": [
        "print('** Versiones Actuales | Requeridas **')\n",
        "print('Python:\\nVersion Actual:', sys.version, ' | Requerida >= 3.6')\n",
        "print('NumPy:\\nVersion Actual: {:10} | Requerida >= 1.16.2'.format(np.__version__))\n",
        "print('Pandas:\\nVersion Actual: {:10}| Requerida >= 1.0.1'.format(pd.__version__))\n",
        "print('Scikit-learn:\\nVersion Actual: {:10}| Requerida >= 0.22.1'.format(sk.__version__))\n",
        "print('Matplotlib:\\nVersion Actual: {:10} | Requerida >= 3.0.3'.format(matplotlib.__version__))\n",
        "print('Seaborn:\\nVersion Actual: {:10} |Requerida >= 0.9.0 '.format(sns.__version__))"
      ],
      "metadata": {
        "application/vnd.databricks.v1+cell": {
          "title": "",
          "showTitle": false,
          "inputWidgets": {},
          "nuid": "9e0ac715-2adb-4520-baf9-4652a3572540"
        },
        "id": "fqp4TCE5n3Cf",
        "colab": {
          "base_uri": "https://localhost:8080/"
        },
        "outputId": "15464d90-e8a4-4549-ca6e-eb1126dc378f"
      },
      "outputs": [
        {
          "output_type": "stream",
          "name": "stdout",
          "text": [
            "** Versiones Actuales | Requeridas **\n",
            "Python:\n",
            "Version Actual: 3.7.15 (default, Oct 12 2022, 19:14:55) \n",
            "[GCC 7.5.0]  | Requerida >= 3.6\n",
            "NumPy:\n",
            "Version Actual: 1.21.6     | Requerida >= 1.16.2\n",
            "Pandas:\n",
            "Version Actual: 1.3.5     | Requerida >= 1.0.1\n",
            "Scikit-learn:\n",
            "Version Actual: 1.0.2     | Requerida >= 0.22.1\n",
            "Matplotlib:\n",
            "Version Actual: 3.2.2      | Requerida >= 3.0.3\n",
            "Seaborn:\n",
            "Version Actual: 0.11.2     |Requerida >= 0.9.0 \n"
          ]
        }
      ],
      "execution_count": 2
    },
    {
      "cell_type": "code",
      "source": [
        "from sklearn.pipeline import Pipeline\n",
        "from sklearn.compose import ColumnTransformer\n",
        "from sklearn.impute import SimpleImputer\n",
        "from sklearn.preprocessing import MinMaxScaler\n",
        "from sklearn.model_selection import train_test_split, GridSearchCV\n",
        "from sklearn.linear_model import LogisticRegression\n",
        "from sklearn import metrics\n",
        "import matplotlib.pyplot as plt"
      ],
      "metadata": {
        "application/vnd.databricks.v1+cell": {
          "title": "",
          "showTitle": false,
          "inputWidgets": {},
          "nuid": "16ba3a5c-9526-4426-b42a-207d0b0805ce"
        },
        "id": "Obm0Ymodn3Ch"
      },
      "outputs": [],
      "execution_count": 3
    },
    {
      "cell_type": "markdown",
      "source": [
        "## Descripción de las variables contenidas en el _dataset_"
      ],
      "metadata": {
        "application/vnd.databricks.v1+cell": {
          "title": "",
          "showTitle": false,
          "inputWidgets": {},
          "nuid": "9569ffd7-93d3-4439-ad6a-2a6eee416d6b"
        },
        "id": "1bO8gyI7n3Cj"
      }
    },
    {
      "cell_type": "markdown",
      "source": [
        "El _dataset_ usado proviene de la plataforma **Kaggle**, y se encuentra separado en dos partes. \n",
        "\n",
        "La primera parte contiene los datos que serán usados para el entrenamiento del modelo, que serán nombrados como *datos_training*. La segunda parte son los datos que se usarán para el test del modelo *datos_test*. Estas muestras contienen 150.000 y 101.503 registros, respectivamente (aunque existen algunos campos que tienen distintos valores ausentes). \n",
        "\n",
        "Accesso a la Competencia **Give Me Some Credit:** [Link de acceso](https://www.kaggle.com/c/GiveMeSomeCredit/overview)\n",
        "\n",
        "Link de descarga correspondiente a cada dataset: \n",
        "* [training data](https://storage.googleapis.com/datasets-academy/Track%20Data%20Science/Proyecto%20Final/cs-training.csv)\n",
        "* [test data](https://storage.googleapis.com/datasets-academy/Track%20Data%20Science/Proyecto%20Final/cs-test.csv)"
      ],
      "metadata": {
        "application/vnd.databricks.v1+cell": {
          "title": "",
          "showTitle": false,
          "inputWidgets": {},
          "nuid": "e5c53952-5d72-451e-a424-bcd47e7a3b19"
        },
        "id": "8s_AQUV8n3Cj"
      }
    },
    {
      "cell_type": "markdown",
      "source": [
        "* **SeriousDlqin2yrs:** Persona que tiene 90 días de morosidad vencida o peor (Si = 1 y  No = 0)\n",
        "* **RevolvingUtilizationOfUnsecuredLines:** El saldo total en tarjetas de crédito y líneas de crédito personales (excepto bienes inmuebles y sin deuda a plazos) sobre la suma de los límites de crédito\n",
        "* **Age:** Edad prestamista en años \n",
        "* **NumberOfTime30-59DaysPastDueNotWorse:** Número de veces que el prestatario ha caido en mora entre 30 y 59 días, pero no ha empeorado en los últimos 2 años \n",
        "* **DebtRatio:** Pagos mensuales de deuda sobre el ingreso bruto mensual \n",
        "* **MonthlyIncome:** Ingreso mensual \n",
        "* **NumberOfOpenCreditLinesAndLoans:** Número de préstamos abiertos (cuotas como préstamos para automóviles o hipotecas) y líneas de crédito \n",
        "* **NumberOfTimes90DaysLate:** Número de veces que el prestatario ha caido en mora entre 90 días o más \n",
        "* **NumberRealEstateLoansOrLines:** Número de préstamos hipotecarios e inmobiliarios, incluidas las líneas de crédito hipotecario \n",
        "* **NumberOfTime60-89DaysPastDueNotWorse:** Número de veces que el prestatario ha caido en mora entre 60 y 89 días, pero no ha empeorado en los últimos 2 años \n",
        "* **NumberOfDependents:** Número de dependientes en la familia excluyendose a si mismos (ej: cónyuge, hijos, etc.)"
      ],
      "metadata": {
        "application/vnd.databricks.v1+cell": {
          "title": "Diccionario de datos",
          "showTitle": true,
          "inputWidgets": {},
          "nuid": "b2dab89b-0622-404c-9793-982f02aa3585"
        },
        "id": "7qRBzOI0n3Ck"
      }
    },
    {
      "cell_type": "code",
      "source": [
        "from google.colab import drive\n",
        "drive.mount('/content/drive')"
      ],
      "metadata": {
        "colab": {
          "base_uri": "https://localhost:8080/"
        },
        "id": "D_sTfXEC9JO-",
        "outputId": "825d4c9f-4061-4985-a95f-b215dd36a89f"
      },
      "execution_count": 4,
      "outputs": [
        {
          "output_type": "stream",
          "name": "stdout",
          "text": [
            "Mounted at /content/drive\n"
          ]
        }
      ]
    },
    {
      "cell_type": "markdown",
      "source": [
        "## Carga de los datos"
      ],
      "metadata": {
        "application/vnd.databricks.v1+cell": {
          "title": "",
          "showTitle": false,
          "inputWidgets": {},
          "nuid": "4fdf0406-dd54-45f4-ace0-914c3ace0922"
        },
        "id": "-9v22iwen3Cl"
      }
    },
    {
      "cell_type": "markdown",
      "source": [
        "### **Importante**\n",
        "\n",
        "Recordar descargar los archivos localmente y subirlos al sistema de archivos de Google Colab"
      ],
      "metadata": {
        "id": "vP4AzxsKom_D"
      }
    },
    {
      "cell_type": "code",
      "source": [
        "# Colocar la ruta del directorio correspondiente a cada dataset\n",
        "ruta_training = \"/content/drive/MyDrive/Colab Notebooks/Datasets/cs-training.csv\"\n",
        "ruta_test     = \"/content/drive/MyDrive/Colab Notebooks/Datasets/cs-test.csv\""
      ],
      "metadata": {
        "application/vnd.databricks.v1+cell": {
          "title": "",
          "showTitle": false,
          "inputWidgets": {},
          "nuid": "d5a59d8f-6067-4e90-96ff-df554f48ad0c"
        },
        "id": "kVOj3lTyn3Cn"
      },
      "outputs": [],
      "execution_count": 5
    },
    {
      "cell_type": "code",
      "source": [
        "# Lectura de los datos usando pandas (creación de DataFrames)\n",
        "datos_training = pd.read_csv(ruta_training, sep = ',', decimal = '.', index_col = 0)\n",
        "datos_test     = pd.read_csv(ruta_test,     sep = ',', decimal = '.', index_col = 0)"
      ],
      "metadata": {
        "application/vnd.databricks.v1+cell": {
          "title": "",
          "showTitle": false,
          "inputWidgets": {},
          "nuid": "e50fd214-ed19-4ceb-a350-950bb34587d3"
        },
        "id": "Rg-2b8iln3Co"
      },
      "outputs": [],
      "execution_count": 6
    },
    {
      "cell_type": "code",
      "source": [
        "# Imprimir el número de filas y columnas de ambos datasets\n",
        "print('Filas y columnas - datos de entrenamiento', datos_training.shape)\n",
        "print('Filas y columnas - datos de test', datos_test.shape)"
      ],
      "metadata": {
        "application/vnd.databricks.v1+cell": {
          "title": "",
          "showTitle": false,
          "inputWidgets": {},
          "nuid": "1e47c7f9-26c2-4a60-a9bb-0477e0fc5b1a"
        },
        "id": "ayEoUzNzn3Co",
        "colab": {
          "base_uri": "https://localhost:8080/"
        },
        "outputId": "5ab46fb7-1092-4174-caca-43a61c2709e4"
      },
      "outputs": [
        {
          "output_type": "stream",
          "name": "stdout",
          "text": [
            "Filas y columnas - datos de entrenamiento (150000, 11)\n",
            "Filas y columnas - datos de test (101503, 11)\n"
          ]
        }
      ],
      "execution_count": 7
    },
    {
      "cell_type": "code",
      "source": [
        "# Imprimir los tipos de datos de cada columna en el dataset de entrenamiento\n",
        "print(datos_training.dtypes)"
      ],
      "metadata": {
        "application/vnd.databricks.v1+cell": {
          "title": "",
          "showTitle": false,
          "inputWidgets": {},
          "nuid": "a3568b9e-a4ad-4044-bb58-670acd173f5e"
        },
        "id": "Tgibxd8Un3Cp",
        "colab": {
          "base_uri": "https://localhost:8080/"
        },
        "outputId": "0fb85d92-6fa7-4896-ec2d-833c4c0e7f6b"
      },
      "outputs": [
        {
          "output_type": "stream",
          "name": "stdout",
          "text": [
            "SeriousDlqin2yrs                          int64\n",
            "RevolvingUtilizationOfUnsecuredLines    float64\n",
            "age                                       int64\n",
            "NumberOfTime30-59DaysPastDueNotWorse      int64\n",
            "DebtRatio                               float64\n",
            "MonthlyIncome                           float64\n",
            "NumberOfOpenCreditLinesAndLoans           int64\n",
            "NumberOfTimes90DaysLate                   int64\n",
            "NumberRealEstateLoansOrLines              int64\n",
            "NumberOfTime60-89DaysPastDueNotWorse      int64\n",
            "NumberOfDependents                      float64\n",
            "dtype: object\n"
          ]
        }
      ],
      "execution_count": 8
    },
    {
      "cell_type": "markdown",
      "source": [
        "## Ingeniería de variable"
      ],
      "metadata": {
        "application/vnd.databricks.v1+cell": {
          "title": "",
          "showTitle": false,
          "inputWidgets": {},
          "nuid": "635ffb26-ad95-48f0-bad8-f536cf170788"
        },
        "id": "hc3tO8GIn3Cq"
      }
    },
    {
      "cell_type": "markdown",
      "source": [
        "### Selección de variable objetivo y predictores del DataFrame `datos_training`"
      ],
      "metadata": {
        "application/vnd.databricks.v1+cell": {
          "title": "",
          "showTitle": false,
          "inputWidgets": {},
          "nuid": "33ef6172-9476-4ae3-b706-0403291db95e"
        },
        "id": "2P2x5RdTn3Cq"
      }
    },
    {
      "cell_type": "code",
      "source": [
        "# En la variable y colocar la variable objetivo. En la variable X todos los predictores\n",
        "y = datos_training.loc[:,'SeriousDlqin2yrs']\n",
        "X = datos_training.loc[:, [i for i in datos_training.columns if i != 'SeriousDlqin2yrs']]"
      ],
      "metadata": {
        "application/vnd.databricks.v1+cell": {
          "title": "",
          "showTitle": false,
          "inputWidgets": {},
          "nuid": "432d8cbb-c116-48e7-8b07-c3ae8b359d77"
        },
        "id": "8nhdFYaDn3Cr"
      },
      "outputs": [],
      "execution_count": 9
    },
    {
      "cell_type": "markdown",
      "source": [
        "### División en datos de training y test"
      ],
      "metadata": {
        "application/vnd.databricks.v1+cell": {
          "title": "",
          "showTitle": false,
          "inputWidgets": {},
          "nuid": "98a21860-5edf-4f13-a365-5346c6997fab"
        },
        "id": "HqgRKqzon3Cs"
      }
    },
    {
      "cell_type": "markdown",
      "source": [
        "Para dividir la muestra de entrenamiento en dos submuestras de _training_ y _test_, se decide guardar una proporción de 80% _training_ 20% _test_. \n",
        "\n",
        "En los argumentos de `train_test_split` emplear el muestreo estratificado `stratify=y` y  `random_state=0`"
      ],
      "metadata": {
        "application/vnd.databricks.v1+cell": {
          "title": "",
          "showTitle": false,
          "inputWidgets": {},
          "nuid": "274ab111-7ac3-4b13-a99d-9de3591d57e2"
        },
        "id": "7JR9tBd3n3Cs"
      }
    },
    {
      "cell_type": "code",
      "source": [
        "# División en training y test\n",
        "X_train, X_test, y_train, y_test = train_test_split(X, y, test_size=0.2, stratify=y, random_state=0)"
      ],
      "metadata": {
        "application/vnd.databricks.v1+cell": {
          "title": "",
          "showTitle": false,
          "inputWidgets": {},
          "nuid": "1c338a08-89a9-4ff2-aad7-8028dd05a160"
        },
        "id": "Q2nJiVzpn3Cs"
      },
      "outputs": [],
      "execution_count": 10
    },
    {
      "cell_type": "code",
      "source": [
        "# Imprimir las filas y columnas de los datos de training y test: para los predictores y para la variables objetivo\n",
        "print(X_train.shape, X_test.shape, y_train.shape, y_test.shape)"
      ],
      "metadata": {
        "application/vnd.databricks.v1+cell": {
          "title": "",
          "showTitle": false,
          "inputWidgets": {},
          "nuid": "4cfc864b-2df1-43e2-87ad-a5a4b9e366c4"
        },
        "id": "XicXromKn3Ct",
        "colab": {
          "base_uri": "https://localhost:8080/"
        },
        "outputId": "47058267-15f2-405e-c4eb-3a99d87ef894"
      },
      "outputs": [
        {
          "output_type": "stream",
          "name": "stdout",
          "text": [
            "(120000, 10) (30000, 10) (120000,) (30000,)\n"
          ]
        }
      ],
      "execution_count": 11
    },
    {
      "cell_type": "markdown",
      "source": [
        "### Escalamiento (variables numéricas)"
      ],
      "metadata": {
        "application/vnd.databricks.v1+cell": {
          "title": "",
          "showTitle": false,
          "inputWidgets": {},
          "nuid": "5073be7a-f5c6-41d7-a27c-dec690fe564e"
        },
        "id": "Vn5Q5Vbin3Ct"
      }
    },
    {
      "cell_type": "code",
      "source": [
        "# Selección de las etiquetas de las variables numéricas\n",
        "X_num = X.select_dtypes(include=np.number).columns\n",
        "print(X_num)"
      ],
      "metadata": {
        "application/vnd.databricks.v1+cell": {
          "title": "",
          "showTitle": false,
          "inputWidgets": {},
          "nuid": "38c99228-b84a-4286-910b-ba23867d0b63"
        },
        "id": "dMQgqKPDn3Cu",
        "colab": {
          "base_uri": "https://localhost:8080/"
        },
        "outputId": "6568fce0-496d-4c41-fde4-2c5fb0789040"
      },
      "outputs": [
        {
          "output_type": "stream",
          "name": "stdout",
          "text": [
            "Index(['RevolvingUtilizationOfUnsecuredLines', 'age',\n",
            "       'NumberOfTime30-59DaysPastDueNotWorse', 'DebtRatio', 'MonthlyIncome',\n",
            "       'NumberOfOpenCreditLinesAndLoans', 'NumberOfTimes90DaysLate',\n",
            "       'NumberRealEstateLoansOrLines', 'NumberOfTime60-89DaysPastDueNotWorse',\n",
            "       'NumberOfDependents'],\n",
            "      dtype='object')\n"
          ]
        }
      ],
      "execution_count": 12
    },
    {
      "cell_type": "markdown",
      "source": [
        "### Pipeline - Ingeniería de variable"
      ],
      "metadata": {
        "application/vnd.databricks.v1+cell": {
          "title": "",
          "showTitle": false,
          "inputWidgets": {},
          "nuid": "dee6b679-fbc8-479e-9b1d-292052e457ab"
        },
        "id": "tCnzUUbLn3Cu"
      }
    },
    {
      "cell_type": "code",
      "source": [
        "# Creación de un Pipeline para el preprocesamiento de las variables numéricas\n",
        "numeric_transformer = Pipeline(steps=[\n",
        "    ('imputer', SimpleImputer(strategy='median')),\n",
        "    ('scaler',  MinMaxScaler(feature_range=(0, 1)))])"
      ],
      "metadata": {
        "application/vnd.databricks.v1+cell": {
          "title": "",
          "showTitle": false,
          "inputWidgets": {},
          "nuid": "c3aa7473-dd7a-4e50-ad4a-b2df51eda8bd"
        },
        "id": "D3OyocTDn3Cv"
      },
      "outputs": [],
      "execution_count": 13
    },
    {
      "cell_type": "code",
      "source": [
        "# Delimitar el preprocesamiento de variables\n",
        "preprocessor = ColumnTransformer(\n",
        "    transformers=[\n",
        "        ('num', numeric_transformer, X_num)])"
      ],
      "metadata": {
        "application/vnd.databricks.v1+cell": {
          "title": "",
          "showTitle": false,
          "inputWidgets": {},
          "nuid": "889563a7-709a-483a-bb0b-ce86e20d804b"
        },
        "id": "Iy0BVU08n3Cv"
      },
      "outputs": [],
      "execution_count": 14
    },
    {
      "cell_type": "markdown",
      "source": [
        "Crear en la variable `reg_log` el algoritmo de Regresión Logística con los siguientes argumentos: `max_iter=1000, class_weight='balanced', random_state=0, n_jobs = -1`"
      ],
      "metadata": {
        "application/vnd.databricks.v1+cell": {
          "title": "",
          "showTitle": false,
          "inputWidgets": {},
          "nuid": "3a629458-f7ee-4623-a2e2-750e46da2ede"
        },
        "id": "LKI7Fgo_n3Cw"
      }
    },
    {
      "cell_type": "code",
      "source": [
        "# Delimitar la configuración del algoritmo de Regresión Logística\n",
        "reg_log = LogisticRegression(C=1, max_iter=1000, class_weight='balanced', random_state=0, n_jobs=-1)"
      ],
      "metadata": {
        "application/vnd.databricks.v1+cell": {
          "title": "",
          "showTitle": false,
          "inputWidgets": {},
          "nuid": "77a4914f-5ec2-4abb-b2e6-e2f69f7a3e1b"
        },
        "id": "ikQPWdSXn3Cw"
      },
      "outputs": [],
      "execution_count": 18
    },
    {
      "cell_type": "markdown",
      "source": [
        "### Pipeline - Ingeniería de variable y Modelo de Línea Base"
      ],
      "metadata": {
        "application/vnd.databricks.v1+cell": {
          "title": "",
          "showTitle": false,
          "inputWidgets": {},
          "nuid": "af1a4934-d831-4186-b06b-796b04121a2e"
        },
        "id": "W0-6DnV2n3Cw"
      }
    },
    {
      "cell_type": "code",
      "source": [
        "# Creción de Pipeline para preprocesamiento y ejecución del algoritmo\n",
        "clf = Pipeline(steps=[('preprocessor', preprocessor),\n",
        "                      ('classifier', reg_log)])\n",
        "\n",
        "clf.fit(X_train, y_train)\n",
        "print('Intercepto', reg_log.intercept_)\n",
        "print('Pendientes', reg_log.coef_.round(4))"
      ],
      "metadata": {
        "application/vnd.databricks.v1+cell": {
          "title": "",
          "showTitle": false,
          "inputWidgets": {},
          "nuid": "07a5f38f-2f7e-4aea-b71b-95c8e8e2fbf1"
        },
        "id": "Cksy6sz7n3Cx",
        "colab": {
          "base_uri": "https://localhost:8080/"
        },
        "outputId": "2c6b271d-7334-40c1-c96c-099b5f7cc51b"
      },
      "outputs": [
        {
          "output_type": "stream",
          "name": "stdout",
          "text": [
            "Intercepto [1.11881639]\n",
            "Pendientes [[-0.851  -3.33   36.6093 -1.8925 -4.5961 -0.1717 29.2056  2.1923  7.6777\n",
            "   1.2573]]\n"
          ]
        }
      ],
      "execution_count": 19
    },
    {
      "cell_type": "markdown",
      "source": [
        "Aplicar Validación Cruzada:\n",
        "1. Crear el grid de valores llamado `param_grid` con el hiperparámetro: `'classifier__C': [1, 10, 100, 1000, 10000]` \n",
        "2. En la variable `grid` asignar `GridSearchCV` con los siguientes argumentos: `cv = 10, param_grid = param_grid, estimator = clf, scoring = 'roc_auc', n_jobs = -1`\n",
        "3. Realizar el ajuste con respecto a los datos de entrenamiento\n",
        "4. Imprimir el hiperparámetro óptimo y el mejor score"
      ],
      "metadata": {
        "application/vnd.databricks.v1+cell": {
          "title": "",
          "showTitle": false,
          "inputWidgets": {},
          "nuid": "f525e871-35b5-4716-ae23-ef6ba85c83f7"
        },
        "id": "7LdlQqVsn3Cx"
      }
    },
    {
      "cell_type": "code",
      "source": [
        "# Validación Cruzada \n",
        "param_grid = [{'classifier__C': [1, 10, 100, 1000, 10000]}]\n",
        "grid = GridSearchCV(cv = 10, param_grid = param_grid, estimator = clf, scoring = 'roc_auc', n_jobs = -1)\n",
        "grid.fit(X_train, y_train)\n",
        "\n",
        "# Imprimir el hiperparámetro óptimo y el mejor score\n",
        "\n",
        "print(\"Mejor score = \", grid.best_score_)\n",
        "print(\"Hiperparametro optimo = \", grid.best_params_)\n",
        "print(\"Mejor index= \", grid.best_index_)"
      ],
      "metadata": {
        "application/vnd.databricks.v1+cell": {
          "title": "",
          "showTitle": false,
          "inputWidgets": {},
          "nuid": "5279fe84-5189-417d-883c-07cb2a18111d"
        },
        "id": "-XVm5ezan3Cy",
        "colab": {
          "base_uri": "https://localhost:8080/"
        },
        "outputId": "f06cd645-c0bc-4266-c65b-d83d2158f8a7"
      },
      "outputs": [
        {
          "output_type": "stream",
          "name": "stdout",
          "text": [
            "Mejor score =  0.7898113531356262\n",
            "Hiperparametro optimo =  {'classifier__C': 10000}\n",
            "Mejor index=  4\n"
          ]
        }
      ],
      "execution_count": 29
    },
    {
      "cell_type": "code",
      "source": [
        "# Algoritmo optimizado\n",
        "log_opt = LogisticRegression(multi_class = 'ovr', \n",
        "                             solver = 'lbfgs',\n",
        "                             C = grid.best_params_['classifier__C'],\n",
        "                             max_iter = 1000,\n",
        "                             class_weight = 'balanced', \n",
        "                             random_state = 0,\n",
        "                             n_jobs = -1)\n",
        "log_opt2 = LogisticRegression(multi_class = 'ovr', \n",
        "                             solver = 'lbfgs',\n",
        "                             C = 100000,\n",
        "                             max_iter = 1000,\n",
        "                             class_weight = 'balanced', \n",
        "                             random_state = 0,\n",
        "                             n_jobs = -1)"
      ],
      "metadata": {
        "application/vnd.databricks.v1+cell": {
          "title": "",
          "showTitle": false,
          "inputWidgets": {},
          "nuid": "82ef128e-0fec-4988-a862-9bd3fb46da08"
        },
        "id": "VQjPHDiin3Cy"
      },
      "outputs": [],
      "execution_count": 55
    },
    {
      "cell_type": "code",
      "source": [
        "# Creación del Pipeline para el preprocesamiento de los datos y ejecución del algoritmo optimizado\n",
        "clf_opt = Pipeline(steps=[('preprocessor', preprocessor),\n",
        "                          ('classifier', log_opt)])\n",
        "clf_opt2 = Pipeline(steps=[('preprocessor', preprocessor),\n",
        "                          ('classifier', log_opt2)])\n",
        "clf_opt.fit(X_train, y_train)\n",
        "clf_opt2.fit(X_train, y_train)\n",
        "# Clasificación de clientes (cut-off 0.5)\n",
        "yHat_test2 = clf_opt2.predict(X_test)\n",
        "yHat_test = clf_opt.predict(X_test)"
      ],
      "metadata": {
        "application/vnd.databricks.v1+cell": {
          "title": "",
          "showTitle": false,
          "inputWidgets": {},
          "nuid": "344c19e8-8182-4252-a3a2-679984c484c0"
        },
        "id": "F0_tVtc6n3Cz"
      },
      "outputs": [],
      "execution_count": 56
    },
    {
      "cell_type": "markdown",
      "source": [
        "Imprimir la matriz de confusión en forma de visualización evaluando los datos de test: `y_test` y `yHat_test`. Adicionalmente, interpretar los resultados a partir de la matriz de confusión."
      ],
      "metadata": {
        "application/vnd.databricks.v1+cell": {
          "title": "",
          "showTitle": false,
          "inputWidgets": {},
          "nuid": "17a07a7f-254c-491e-a417-3198405c27bd"
        },
        "id": "V97_Ezxtn3Cz"
      }
    },
    {
      "cell_type": "code",
      "source": [
        "# Matriz de confusión\n",
        "print('Exactitud: ', metrics.accuracy_score(y_test, yHat_test),metrics.accuracy_score(y_test, yHat_test2))\n",
        "print('Precision: ', metrics.precision_score(y_test, yHat_test),metrics.precision_score(y_test, yHat_test2))\n",
        "print('Sensitividad (Recall):', metrics.recall_score(y_test, yHat_test),metrics.recall_score(y_test, yHat_test2))\n",
        "matriz_confusion = metrics.confusion_matrix(y_test, yHat_test)\n",
        "matriz_confusion2 = metrics.confusion_matrix(y_test, yHat_test2)\n",
        "# Graficar la matriz de Confusion\n",
        "plt.figure(figsize=(7,5))\n",
        "plot_matriz = sns.heatmap(matriz_confusion, annot = True, fmt = '.2f', linewidths = 0.5, cmap = 'Blues_r')\n",
        "plt.ylabel('yTest')\n",
        "plt.xlabel('yHat')"
      ],
      "metadata": {
        "application/vnd.databricks.v1+cell": {
          "title": "",
          "showTitle": false,
          "inputWidgets": {},
          "nuid": "c4cf0ab1-615a-4704-bb6a-4102d872b845"
        },
        "id": "tpuKeALon3Cz",
        "colab": {
          "base_uri": "https://localhost:8080/",
          "height": 403
        },
        "outputId": "d29946bb-7c57-41ae-836a-8c4d8a75cc14"
      },
      "outputs": [
        {
          "output_type": "stream",
          "name": "stdout",
          "text": [
            "Exactitud:  0.7727333333333334 0.7729\n",
            "Precision:  0.17658916812256417 0.17670790747713824\n",
            "Sensitividad (Recall): 0.655361596009975 0.655361596009975\n"
          ]
        },
        {
          "output_type": "execute_result",
          "data": {
            "text/plain": [
              "Text(0.5, 24.0, 'yHat')"
            ]
          },
          "metadata": {},
          "execution_count": 57
        },
        {
          "output_type": "display_data",
          "data": {
            "text/plain": [
              "<Figure size 504x360 with 2 Axes>"
            ],
            "image/png": "[encoded data removed]"
          },
          "metadata": {
            "needs_background": "light"
          }
        }
      ],
      "execution_count": 57
    },
    {
      "cell_type": "code",
      "source": [
        "plt.figure(figsize=(7,5))\n",
        "plot_matriz = sns.heatmap(matriz_confusion2, annot = True, fmt = '.2f', linewidths = 0.5, cmap = 'Blues_r')\n",
        "plt.ylabel('yTest')\n",
        "plt.xlabel('yHat2')"
      ],
      "metadata": {
        "colab": {
          "base_uri": "https://localhost:8080/",
          "height": 351
        },
        "id": "9FoSrWt3wOze",
        "outputId": "b8e6d018-5668-446c-9804-e7aa59fe7eb1"
      },
      "execution_count": 58,
      "outputs": [
        {
          "output_type": "execute_result",
          "data": {
            "text/plain": [
              "Text(0.5, 24.0, 'yHat2')"
            ]
          },
          "metadata": {},
          "execution_count": 58
        },
        {
          "output_type": "display_data",
          "data": {
            "text/plain": [
              "<Figure size 504x360 with 2 Axes>"
            ],
            "image/png": "[encoded data removed]"
          },
          "metadata": {
            "needs_background": "light"
          }
        }
      ]
    },
    {
      "cell_type": "markdown",
      "source": [
        "Se puede apreciar en la matriz de confusion que hay una alta cantidad de falsos positivos 6127, es decir tiene una baja precision.\n",
        "A pesar de que su exactitud es del 77.3%, su probabilidad de atinar correctamente a los positivos es de solo 17.7%, y solo toma el 65.5% de los verdaderos positivos.  Se podria mejorar si se tomase un C mayor de 100000, pero solo mejora los verdaderos negativos."
      ],
      "metadata": {
        "id": "Xv6u3ECtro3d"
      }
    },
    {
      "cell_type": "markdown",
      "source": [
        "Imprimir la métrica del AUC para analizar el desempeño del algoritmo en los datos de test"
      ],
      "metadata": {
        "application/vnd.databricks.v1+cell": {
          "title": "",
          "showTitle": false,
          "inputWidgets": {},
          "nuid": "c8e0707e-66e9-4513-a408-422f43a23876"
        },
        "id": "T0pMIZy0n3C0"
      }
    },
    {
      "cell_type": "code",
      "source": [
        "# Métricas de evaluación para analizar el desempeño del algoritmo (AUC)\n",
        "scores = clf_opt.predict_proba(X_test)[:,1]\n",
        "fpr, tpr, threshold = metrics.roc_curve(y_test, scores)\n",
        "aucROC = metrics.auc(fpr, tpr)\n",
        "\n",
        "# Calculo métrica ROC-AUC\n",
        "curva_roc = metrics.RocCurveDisplay.from_estimator(clf_opt, X_test, y_test)\n",
        "plt.title('Curva ROC', fontsize=16)"
      ],
      "metadata": {
        "application/vnd.databricks.v1+cell": {
          "title": "",
          "showTitle": false,
          "inputWidgets": {},
          "nuid": "3b77234c-d233-49c4-9cb5-1e28e242fe08"
        },
        "id": "0io9OWDin3C1",
        "colab": {
          "base_uri": "https://localhost:8080/",
          "height": 314
        },
        "outputId": "1b4b7f3f-0646-4cd2-d2eb-d650fad61958"
      },
      "outputs": [
        {
          "output_type": "execute_result",
          "data": {
            "text/plain": [
              "Text(0.5, 1.0, 'Curva ROC')"
            ]
          },
          "metadata": {},
          "execution_count": 41
        },
        {
          "output_type": "display_data",
          "data": {
            "text/plain": [
              "<Figure size 432x288 with 1 Axes>"
            ],
            "image/png": "[encoded data removed]"
          },
          "metadata": {
            "needs_background": "light"
          }
        }
      ],
      "execution_count": 41
    },
    {
      "cell_type": "code",
      "source": [
        "# Su código aquí\n",
        "for i in [1, 10, 100, 1000, 10000, 100000]:\n",
        "  C = i\n",
        "  log_opt = LogisticRegression(multi_class = 'ovr', \n",
        "                             solver = 'lbfgs',\n",
        "                             C = C,\n",
        "                             max_iter = 1000,\n",
        "                             class_weight = 'balanced', \n",
        "                             random_state = 0,\n",
        "                             n_jobs = -1)\n",
        "\n",
        "  clf_opt = Pipeline(steps=[('preprocessor', preprocessor),\n",
        "                          ('classifier', log_opt)])\n",
        "  clf_opt.fit(X_train, y_train)\n",
        "  # Predecir con training para analizar overfitting\n",
        "  yHat_train = clf_opt.predict(X_train)\n",
        "  # Evaluar desempeño algortimo al prededir con test\n",
        "  yHat_test = clf_opt.predict(X_test)\n",
        "  # Cálculo de FPR, Recall(TPR) y puntos de corte:\n",
        "  scores = clf_opt.predict_proba(X_test)[:,1]\n",
        "  fpr, tpr, threshold = metrics.roc_curve(y_test, scores)\n",
        "  # Calculo métrica ROC-AUC\n",
        "  aucROC = metrics.auc(fpr, tpr)\n",
        "  print(aucROC)\n",
        "  # Graficar la curva ROC\n",
        "  curva_roc = metrics.RocCurveDisplay.from_estimator(clf_opt, X_test, y_test)\n",
        "  plt.title('Curva ROC C= ' + str(C), fontsize=16)"
      ],
      "metadata": {
        "colab": {
          "base_uri": "https://localhost:8080/",
          "height": 1000
        },
        "id": "Be3OrcVst9np",
        "outputId": "e483eeef-fd2f-48dd-89c8-177e93a2183a"
      },
      "execution_count": 54,
      "outputs": [
        {
          "output_type": "stream",
          "name": "stdout",
          "text": [
            "0.7844492002713345\n",
            "0.7972331004957689\n",
            "0.7986899691296852\n",
            "0.7987280592945213\n",
            "0.7987223938724363\n",
            "0.7988278989969264\n"
          ]
        },
        {
          "output_type": "display_data",
          "data": {
            "text/plain": [
              "<Figure size 432x288 with 1 Axes>"
            ],
            "image/png": "[encoded data removed]"
          },
          "metadata": {
            "needs_background": "light"
          }
        },
        {
          "output_type": "display_data",
          "data": {
            "text/plain": [
              "<Figure size 432x288 with 1 Axes>"
            ],
            "image/png": "[encoded data removed]"
          },
          "metadata": {
            "needs_background": "light"
          }
        },
        {
          "output_type": "display_data",
          "data": {
            "text/plain": [
              "<Figure size 432x288 with 1 Axes>"
            ],
            "image/png": "[encoded data removed]"
          },
          "metadata": {
            "needs_background": "light"
          }
        },
        {
          "output_type": "display_data",
          "data": {
            "text/plain": [
              "<Figure size 432x288 with 1 Axes>"
            ],
            "image/png": "[encoded data removed]"
          },
          "metadata": {
            "needs_background": "light"
          }
        },
        {
          "output_type": "display_data",
          "data": {
            "text/plain": [
              "<Figure size 432x288 with 1 Axes>"
            ],
            "image/png": "[encoded data removed]"
          },
          "metadata": {
            "needs_background": "light"
          }
        },
        {
          "output_type": "display_data",
          "data": {
            "text/plain": [
              "<Figure size 432x288 with 1 Axes>"
            ],
            "image/png": "[encoded data removed]"
          },
          "metadata": {
            "needs_background": "light"
          }
        }
      ]
    },
    {
      "cell_type": "markdown",
      "source": [
        "### Envío probabilidades de default (datos_test) - Kaggle Submission"
      ],
      "metadata": {
        "application/vnd.databricks.v1+cell": {
          "title": "",
          "showTitle": false,
          "inputWidgets": {},
          "nuid": "49aaf70e-f544-408a-b155-d036b3f283f8"
        },
        "id": "KFkllfRkn3C1"
      }
    },
    {
      "cell_type": "code",
      "source": [
        "X_datos_test = datos_test.loc[:, [i for i in datos_test.columns if i != 'SeriousDlqin2yrs']]\n",
        "X_datos_test.shape"
      ],
      "metadata": {
        "application/vnd.databricks.v1+cell": {
          "title": "",
          "showTitle": false,
          "inputWidgets": {},
          "nuid": "414274e7-d7c7-4fc8-80c2-2a85f6e542d4"
        },
        "id": "2cFOeECDn3C1",
        "colab": {
          "base_uri": "https://localhost:8080/"
        },
        "outputId": "a34d4201-df08-49b2-f0e5-bec58791b068"
      },
      "outputs": [
        {
          "output_type": "execute_result",
          "data": {
            "text/plain": [
              "(101503, 10)"
            ]
          },
          "metadata": {},
          "execution_count": 42
        }
      ],
      "execution_count": 42
    },
    {
      "cell_type": "code",
      "source": [
        "prob_default = clf_opt.predict_proba(X_datos_test)[:,1]\n",
        "prob_default"
      ],
      "metadata": {
        "application/vnd.databricks.v1+cell": {
          "title": "",
          "showTitle": false,
          "inputWidgets": {},
          "nuid": "319c3408-9f30-4b7c-92ee-f36cf2dd4cf8"
        },
        "id": "tQXmdNnAn3C2",
        "colab": {
          "base_uri": "https://localhost:8080/"
        },
        "outputId": "0c70cc38-e633-4a8e-ae53-aa5ebb80162e"
      },
      "outputs": [
        {
          "output_type": "execute_result",
          "data": {
            "text/plain": [
              "array([0.40885209, 0.39326793, 0.34888299, ..., 0.23219201, 0.3788116 ,\n",
              "       0.51234308])"
            ]
          },
          "metadata": {},
          "execution_count": 43
        }
      ],
      "execution_count": 43
    },
    {
      "cell_type": "code",
      "source": [
        "df_entrega = pd.DataFrame(data=prob_default, \n",
        "                          columns = [\"Probability\"])\n",
        "\n",
        "df_entrega['Id'] = range(1, prob_default.shape[0]+1)\n",
        "df_entrega = df_entrega[[\"Id\", \"Probability\"]] "
      ],
      "metadata": {
        "application/vnd.databricks.v1+cell": {
          "title": "",
          "showTitle": false,
          "inputWidgets": {},
          "nuid": "1bc14cc0-a765-487f-9308-557c1dffdec8"
        },
        "id": "O6XUnFpRn3C2"
      },
      "outputs": [],
      "execution_count": 44
    },
    {
      "cell_type": "code",
      "source": [
        "df_entrega.to_csv('./entrega_kaggle_rl.csv', index=False, sep = ',', decimal='.', encoding='utf-8')"
      ],
      "metadata": {
        "application/vnd.databricks.v1+cell": {
          "title": "",
          "showTitle": false,
          "inputWidgets": {},
          "nuid": "2aa3e56d-da7a-4bde-b198-97b0c60607b9"
        },
        "id": "SFVlnjLZn3C3"
      },
      "outputs": [],
      "execution_count": 45
    },
    {
      "cell_type": "markdown",
      "source": [
        "\n",
        "<div style=\"text-align: center; line-height: 0; padding-top: 9px;\">\n",
        "  <img src=\"https://storage.googleapis.com/datasets-academy/public-img/notebooks/headers/databits-footer-notebook.png\" alt=\"Databricks Learning\" style=\"width: 100%;\">\n",
        "</div>"
      ],
      "metadata": {
        "application/vnd.databricks.v1+cell": {
          "title": "",
          "showTitle": false,
          "inputWidgets": {},
          "nuid": "82faf2d8-7dde-4170-adce-896c5e57ef0a"
        },
        "id": "vim5g7q9n3C3"
      }
    }
  ],
  "metadata": {
    "kernelspec": {
      "display_name": "Python 3",
      "language": "python",
      "name": "python3"
    },
    "language_info": {
      "mimetype": "text/x-python",
      "name": "python",
      "pygments_lexer": "ipython3",
      "codemirror_mode": {
        "name": "ipython",
        "version": 3
      },
      "version": "3.7.6",
      "nbconvert_exporter": "python",
      "file_extension": ".py"
    },
    "toc": {
      "title_sidebar": "Contents",
      "nav_menu": {},
      "sideBar": true,
      "number_sections": true,
      "skip_h1_title": false,
      "base_numbering": 1,
      "toc_cell": false,
      "toc_position": {},
      "toc_section_display": true,
      "toc_window_display": false,
      "title_cell": "Table of Contents"
    },
    "application/vnd.databricks.v1+notebook": {
      "notebookName": "02 Proyecto final - Fase 2 (Resuelto)",
      "dashboards": [],
      "notebookMetadata": {
        "pythonIndentUnit": 2
      },
      "language": "python",
      "widgets": {},
      "notebookOrigID": 4365322603936225
    },
    "colab": {
      "provenance": [],
      "collapsed_sections": [],
      "include_colab_link": true
    }
  },
  "nbformat": 4,
  "nbformat_minor": 0
}