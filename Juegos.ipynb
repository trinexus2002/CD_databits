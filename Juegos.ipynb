{
  "nbformat": 4,
  "nbformat_minor": 0,
  "metadata": {
    "colab": {
      "provenance": [],
      "include_colab_link": true
    },
    "kernelspec": {
      "name": "python3",
      "display_name": "Python 3"
    },
    "language_info": {
      "name": "python"
    }
  },
  "cells": [
    {
      "cell_type": "markdown",
      "metadata": {
        "id": "view-in-github",
        "colab_type": "text"
      },
      "source": [
        "<a href=\"https://colab.research.google.com/github/trinexus2002/CD_databits/blob/main/Juegos.ipynb\" target=\"_parent\"><img src=\"https://colab.research.google.com/assets/colab-badge.svg\" alt=\"Open In Colab\"/></a>"
      ]
    },
    {
      "cell_type": "code",
      "execution_count": 1,
      "metadata": {
        "id": "81VO85_U3yK2",
        "colab": {
          "base_uri": "https://localhost:8080/"
        },
        "outputId": "eda0f64b-c16b-4656-848f-e1ea9d022c02"
      },
      "outputs": [
        {
          "output_type": "stream",
          "name": "stdout",
          "text": [
            "5\n",
            "quieres hacer una piramide de  5\n",
            "i=> 1\n",
            "j=> 0\n",
            "#\n",
            "i=> 2\n",
            "j=> 0\n",
            "j=> 1\n",
            "##\n",
            "i=> 3\n",
            "j=> 0\n",
            "j=> 1\n",
            "j=> 2\n",
            "###\n",
            "i=> 4\n",
            "j=> 0\n",
            "j=> 1\n",
            "j=> 2\n",
            "j=> 3\n",
            "####\n",
            "i=> 5\n",
            "j=> 0\n",
            "j=> 1\n",
            "j=> 2\n",
            "j=> 3\n",
            "j=> 4\n",
            "#####\n"
          ]
        }
      ],
      "source": [
        "'''\n",
        "Brayan Andru Montenegro Embus\n",
        "Ingeniero físico\n",
        "Cientifico de datos\n",
        "Python\n",
        "Retos para desarrollar habiles con los bucles y sus índices\n",
        "'''\n",
        "########\n",
        "#()##()#\n",
        "###()###\n",
        "#-____-#\n",
        "######## \n",
        "import time\n",
        "numero_bloques = input()\n",
        "print(\"quieres hacer una piramide de \",numero_bloques)\n",
        "j = 0\n",
        "i = 0\n",
        "aa = \"\"  \n",
        "for i in range(1,int(numero_bloques)+1):#[1,2,3,4]\n",
        "  print(\"i=>\",i)\n",
        "  aa = \"\"\n",
        "  for j in range(i):#[0,1,2]\n",
        "    aa = aa + \"#\"\n",
        "    print(\"j=>\",j)\n",
        "  print(aa)\n"
      ]
    },
    {
      "cell_type": "code",
      "source": [
        "# Figura 1\n",
        "bloques = 5\n",
        "j = 0\n",
        "i = 0\n",
        "aa = ''\n",
        "espacio = ' '\n",
        "for i in range(1,bloques + 1):\n",
        "  aa = ''\n",
        "  for j in range(i):\n",
        "    aa = aa + '#'\n",
        "  print(espacio*(bloques-i),aa) # Imprime bloques - i de espacios"
      ],
      "metadata": {
        "colab": {
          "base_uri": "https://localhost:8080/"
        },
        "id": "B5hqYPgaNFHy",
        "outputId": "422ee0fc-269d-4730-87af-009ba1f7d627"
      },
      "execution_count": 11,
      "outputs": [
        {
          "output_type": "stream",
          "name": "stdout",
          "text": [
            "     #\n",
            "    ##\n",
            "   ###\n",
            "  ####\n",
            " #####\n"
          ]
        }
      ]
    },
    {
      "cell_type": "code",
      "source": [
        "# Figura 2\n",
        "bloques = 7\n",
        "j = 0\n",
        "i = 0\n",
        "aa = ''\n",
        "espacio = ' '\n",
        "for i in range(1,bloques + 1):\n",
        "  aa = '#'\n",
        "  # print(\"i=\",i)\n",
        "  if i < (bloques - 1):\n",
        "    for j in range(i-1):\n",
        "      aa = aa + '##'\n",
        "      # print(\"j=\",j)\n",
        "    # aa.center(6)\n",
        "    print(espacio*(bloques-i),aa,espacio*(bloques-i)) # Imprime bloques - i de espacios\n",
        "  # print((bloques-2*i))\n",
        "  else:\n",
        "    for j in range(i-(bloques -1)):\n",
        "      aa = aa + '##'\n",
        "      # print(\"j=\",j)\n",
        "      # aa.center(6)\n",
        "    print(espacio*(2*bloques-i-2),aa,espacio*(2*bloques-i-2)) # Imprime bloques - i de espacios"
      ],
      "metadata": {
        "colab": {
          "base_uri": "https://localhost:8080/"
        },
        "id": "kbuyFp_pTURG",
        "outputId": "8d225751-1718-492c-938f-611e22639062"
      },
      "execution_count": 28,
      "outputs": [
        {
          "output_type": "stream",
          "name": "stdout",
          "text": [
            "       #       \n",
            "      ###      \n",
            "     #####     \n",
            "    #######    \n",
            "   #########   \n",
            "       #       \n",
            "      ###      \n"
          ]
        }
      ]
    },
    {
      "cell_type": "code",
      "source": [
        "# Figura 3\n",
        "bloques = 5\n",
        "columnas = bloques * 2 \n",
        "j = 0\n",
        "i = 0\n",
        "aa = ''\n",
        "espacio = ' '\n",
        "for i in range(1,bloques + 1):\n",
        "  aa = '#'\n",
        "  # print(\"i=\",i)\n",
        "  for j in range(i-1):\n",
        "    aa = aa + '#'\n",
        "    # print(\"j=\",j)\n",
        "    # aa.center(6)\n",
        "  print(aa,espacio*(columnas-2*i),aa) # Imprime bloques - i de espacios\n",
        "  # print((bloques-2*i))"
      ],
      "metadata": {
        "colab": {
          "base_uri": "https://localhost:8080/"
        },
        "id": "rw_mL9_pCMMT",
        "outputId": "da0b7f98-c828-412e-cefb-6569f310a1c9"
      },
      "execution_count": 42,
      "outputs": [
        {
          "output_type": "stream",
          "name": "stdout",
          "text": [
            "#          #\n",
            "##        ##\n",
            "###      ###\n",
            "####    ####\n",
            "#####  #####\n"
          ]
        }
      ]
    },
    {
      "cell_type": "code",
      "source": [
        "#\n",
        "##\n",
        "###\n",
        "####\n",
        "#####\n",
        "\n",
        "'''1)'''\n",
        "    #\n",
        "   ##\n",
        "  ###\n",
        " ####\n",
        "#####\n",
        "'''2)'''\n",
        "#<=4\n",
        "   #\n",
        "  ###\n",
        " #####\n",
        "#######\n",
        "   #\n",
        "  ###\n",
        "\n",
        "    #\n",
        "   ###\n",
        "  #####\n",
        " #######\n",
        "#########\n",
        "    #\n",
        "   ###\n",
        "\n",
        "'''3)'''\n",
        "#       #\n",
        "##     ##\n",
        "###   ###\n",
        "#### ####\n",
        "'''4)'''\n",
        "    # #\n",
        "   ## ##\n",
        "  ### ###\n",
        " #### ####\n",
        "##### #####\n",
        "'''5)\n",
        "-#######\n",
        "#-######\n",
        "##-#####\n",
        "###-####\n",
        "####-###\n",
        "#####-##\n",
        "######-#\n",
        "#######-          '''\n",
        "'''6)\n",
        "-######-\n",
        "#-####-#\n",
        "##-##-##\n",
        "###--###\n",
        "##-##-##\n",
        "#-####-#\n",
        "-######- \n",
        "\n",
        "-#####-\n",
        "#-###-#\n",
        "##-#-##\n",
        "##-#-##\n",
        "#-###-#\n",
        "-#####- \n",
        "\n",
        "-###-\n",
        "#-#-#\n",
        "#-#-#\n",
        "-###-\n",
        "'''\n",
        "\n",
        "'''7)\n",
        "--------\n",
        "-######-\n",
        "-######-\n",
        "-######-\n",
        "-######-\n",
        "-######-\n",
        "-######-\n",
        "-######-\n",
        "--------    '''\n",
        "'''8)\n",
        "--------\n",
        "---##---\n",
        "--####--\n",
        "-######-\n",
        "########\n",
        "-######-\n",
        "--####--\n",
        "---##---\n",
        "-------- \n",
        "\n",
        "-------\n",
        "---#---\n",
        "--###--\n",
        "-#####-\n",
        "#######\n",
        "-#####-\n",
        "--###--\n",
        "---#---\n",
        "   '''"
      ],
      "metadata": {
        "id": "ojruJM9g4ANu"
      },
      "execution_count": null,
      "outputs": []
    }
  ]
}