{
  "nbformat": 4,
  "nbformat_minor": 0,
  "metadata": {
    "colab": {
      "provenance": [],
      "toc_visible": true,
      "authorship_tag": "ABX9TyMbctrRjEVqL3VGF0j9qeCh",
      "include_colab_link": true
    },
    "kernelspec": {
      "name": "python3",
      "display_name": "Python 3"
    },
    "language_info": {
      "name": "python"
    }
  },
  "cells": [
    {
      "cell_type": "markdown",
      "metadata": {
        "id": "view-in-github",
        "colab_type": "text"
      },
      "source": [
        "<a href=\"https://colab.research.google.com/github/trinexus2002/CD_databits/blob/main/Cientifico_de_Datos_AChehab.ipynb\" target=\"_parent\"><img src=\"https://colab.research.google.com/assets/colab-badge.svg\" alt=\"Open In Colab\"/></a>"
      ]
    },
    {
      "cell_type": "markdown",
      "source": [
        "## **Clase 20220927**\n",
        "### *Prueba 1*\n",
        "#### Verifica si un numero es par o impar"
      ],
      "metadata": {
        "id": "VPddTIETEG4T"
      }
    },
    {
      "cell_type": "code",
      "execution_count": 5,
      "metadata": {
        "colab": {
          "base_uri": "https://localhost:8080/"
        },
        "id": "SHmh9PaNyYgt",
        "outputId": "2ce9eb6e-e0d0-49e8-8596-86f52f143a07"
      },
      "outputs": [
        {
          "output_type": "stream",
          "name": "stdout",
          "text": [
            "Favor ingrese un numero3.2\n",
            "El numero  3.2  es impar\n"
          ]
        }
      ],
      "source": [
        "numero = float(input(\"Favor ingrese un numero\"))\n",
        "if numero % 2 == 0:\n",
        "  print(\"El numero \", numero,\" es par\")\n",
        "else:\n",
        "  print(\"El numero \", numero, \" es impar\")"
      ]
    },
    {
      "cell_type": "markdown",
      "source": [
        "Ejercicio 1\n",
        "1.   Imprimir el tipo de dato que es x\n",
        "2.   Verificar que el valor sea mayor igual a 0 y menor igual a 10\n",
        "3.   Evaluar si x es diferente a 4\n",
        "4.   Dividir x para el valor de 2 (obtener el cociente)\n",
        "\n",
        "\n"
      ],
      "metadata": {
        "id": "ao8XhKdNGiyB"
      }
    },
    {
      "cell_type": "code",
      "source": [
        "# Definir variable\n",
        "x = 8\n",
        "\n",
        "#Mostrar tipo dato\n",
        "print(type(x)) \n",
        "\n",
        "# Evalua si mayor igual a 0 y menor igual 10\n",
        "if x >= 0 and x <= 10:\n",
        "  print(\"El numero esta entre 0 y 10\")\n",
        "else:\n",
        "  print(\"El numero no esta entre 0 y 10\")\n",
        "\n",
        "# x es diferente de 4?\n",
        "if x != 4:\n",
        "  print(\"X es diferente de 4\") \n",
        "\n",
        "# Divide x para 2\n",
        "cociente = x / 2\n",
        "cociente"
      ],
      "metadata": {
        "colab": {
          "base_uri": "https://localhost:8080/"
        },
        "id": "THfJHLbOHa89",
        "outputId": "9d44f0de-d686-4dcf-8c1b-aab0ca97e201"
      },
      "execution_count": 9,
      "outputs": [
        {
          "output_type": "stream",
          "name": "stdout",
          "text": [
            "<class 'int'>\n",
            "True\n",
            "No es igual a 4\n"
          ]
        },
        {
          "output_type": "execute_result",
          "data": {
            "text/plain": [
              "4.0"
            ]
          },
          "metadata": {},
          "execution_count": 9
        }
      ]
    },
    {
      "cell_type": "markdown",
      "source": [
        "No puede realizar una conversion directa de str con formato de float a INT, toca hacer conversion a float y luego a int.\n",
        "\n",
        "\n",
        "```\n",
        "# This is formatted as code\n",
        "int(\"4.0\") # Error\n",
        "int(float(\"4.0\")) # Ok\n",
        "```\n",
        "\n"
      ],
      "metadata": {
        "id": "MbV87sXIMpNT"
      }
    },
    {
      "cell_type": "markdown",
      "source": [
        "## Clase 20220928"
      ],
      "metadata": {
        "id": "U5oxxJ07KvSg"
      }
    },
    {
      "cell_type": "markdown",
      "source": [
        "Diccionarios\n",
        "metodos get devuelve el valor\n",
        "pop devuelve el valor y lo quita\n",
        "reasignar un valor por asignacion o se puede usar update.\n"
      ],
      "metadata": {
        "id": "9DYz1HDHnYjd"
      }
    },
    {
      "cell_type": "code",
      "source": [
        "# Creacion de dictionario\n",
        "marca_transmision = {\"Mazda\":\"manual\", \"Kia\":\"automatica\", \"Honda\":\"manual\"}\n",
        "print(marca_transmision)\n",
        "# Agregar Toyota\n",
        "marca_transmision[\"Toyota\"] =\"manual\"\n",
        "print(marca_transmision)\n",
        "# Eliminar Kia con Pop\n",
        "marca_transmision.pop(\"Kia\")\n",
        "print(marca_transmision)\n",
        "# Actualizar valor mediante update\n",
        "marca_transmision.update({\"Mazda\":400})\n",
        "marca_transmision"
      ],
      "metadata": {
        "colab": {
          "base_uri": "https://localhost:8080/"
        },
        "id": "d7wiqWKeLoGQ",
        "outputId": "25ecd019-8da6-4ae8-a5bd-6339fad35a87"
      },
      "execution_count": 8,
      "outputs": [
        {
          "output_type": "stream",
          "name": "stdout",
          "text": [
            "{'Mazda': 'manual', 'Kia': 'automatica', 'Honda': 'manual'}\n",
            "{'Mazda': 'manual', 'Kia': 'automatica', 'Honda': 'manual', 'Toyota': 'manual'}\n",
            "{'Mazda': 'manual', 'Honda': 'manual', 'Toyota': 'manual'}\n"
          ]
        },
        {
          "output_type": "execute_result",
          "data": {
            "text/plain": [
              "{'Mazda': 400, 'Honda': 'manual', 'Toyota': 'manual'}"
            ]
          },
          "metadata": {},
          "execution_count": 8
        }
      ]
    }
  ]
}